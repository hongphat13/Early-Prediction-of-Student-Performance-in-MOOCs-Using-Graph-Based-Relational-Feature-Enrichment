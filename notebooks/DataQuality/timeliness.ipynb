{
 "cells": [
  {
   "cell_type": "code",
   "execution_count": 1,
   "id": "eefdeb32",
   "metadata": {
    "_cell_guid": "b1076dfc-b9ad-4769-8c92-a6c4dae69d19",
    "_uuid": "8f2839f25d086af736a60e9eeb907d3b93b6e0e5",
    "execution": {
     "iopub.execute_input": "2025-05-29T13:55:08.310831Z",
     "iopub.status.busy": "2025-05-29T13:55:08.310436Z",
     "iopub.status.idle": "2025-05-29T13:55:10.924737Z",
     "shell.execute_reply": "2025-05-29T13:55:10.923644Z"
    },
    "papermill": {
     "duration": 2.621547,
     "end_time": "2025-05-29T13:55:10.926673",
     "exception": false,
     "start_time": "2025-05-29T13:55:08.305126",
     "status": "completed"
    },
    "tags": []
   },
   "outputs": [],
   "source": [
    "import pandas as pd\n",
    "import os\n",
    "\n",
    "def calculate_timeliness_from_files(base_dir, num_phases=4):\n",
    "    \"\"\"\n",
    "    Tính timeliness của từng user từ các file phase riêng biệt.\n",
    "    \n",
    "    base_dir: thư mục gốc chứa các thư mục phaseX\n",
    "    num_phases: số lượng phase (mặc định 4)\n",
    "\n",
    "    Trả về:\n",
    "        df_final: DataFrame chứa user_id, timeliness theo từng phase, và trung bình timeliness\n",
    "    \"\"\"\n",
    "    timeliness_dfs = []\n",
    "\n",
    "    for phase in range(1, num_phases + 1):\n",
    "        file_path = os.path.join(base_dir, f'phase{phase}', f'user_train_phase_{phase}.csv')\n",
    "        \n",
    "        if not os.path.exists(file_path):\n",
    "            print(f\"[!] Không tìm thấy file {file_path}. Bỏ qua Phase {phase}.\")\n",
    "            continue\n",
    "\n",
    "        df = pd.read_csv(file_path)\n",
    "        \n",
    "        if 'user_id' not in df.columns:\n",
    "            raise ValueError(f\"[!] File {file_path} không chứa cột 'user_id'.\")\n",
    "\n",
    "        # Lấy các cột hành vi cần kiểm tra trong phase này (có hậu tố _<phase> hoặc chứa 'phaseX')\n",
    "        behavior_cols = [col for col in df.columns if col.endswith(f\"_{phase}\") or f\"phase{phase}\" in col]\n",
    "\n",
    "        if not behavior_cols:\n",
    "            print(f\"[!] Không tìm thấy cột hành vi trong {file_path}.\")\n",
    "            df[f'timeliness_phase{phase}'] = pd.NA\n",
    "        else:\n",
    "            timely_flags = ~df[behavior_cols].isnull().any(axis=1)\n",
    "            df[f'timeliness_phase{phase}'] = timely_flags.astype(int)\n",
    "\n",
    "        # Giữ lại user_id và timeliness\n",
    "        timeliness_df = df[['user_id', 'course_id', f'timeliness_phase{phase}']]\n",
    "        timeliness_dfs.append(timeliness_df)\n",
    "\n",
    "    # Gộp tất cả các phase theo user_id, course_id\n",
    "    df_final = timeliness_dfs[0]\n",
    "    for df in timeliness_dfs[1:]:\n",
    "        df_final = df_final.merge(df, on=['user_id', 'course_id'], how='outer')\n",
    "\n",
    "    # Tính trung bình timeliness\n",
    "    phase_cols = [f'timeliness_phase{p}' for p in range(1, num_phases + 1)]\n",
    "    df_final['timeliness_avg'] = df_final[phase_cols].mean(axis=1, skipna=True)\n",
    "\n",
    "    return df_final\n"
   ]
  },
  {
   "cell_type": "code",
   "execution_count": 2,
   "id": "b60e87eb",
   "metadata": {
    "execution": {
     "iopub.execute_input": "2025-05-29T13:55:10.932557Z",
     "iopub.status.busy": "2025-05-29T13:55:10.932131Z",
     "iopub.status.idle": "2025-05-29T13:55:20.196209Z",
     "shell.execute_reply": "2025-05-29T13:55:20.195164Z"
    },
    "papermill": {
     "duration": 9.269234,
     "end_time": "2025-05-29T13:55:20.198314",
     "exception": false,
     "start_time": "2025-05-29T13:55:10.929080",
     "status": "completed"
    },
    "tags": []
   },
   "outputs": [
    {
     "name": "stdout",
     "output_type": "stream",
     "text": [
      "     user_id  course_id  timeliness_phase1  timeliness_phase2  \\\n",
      "0    U_10000  C_2033958                  1                1.0   \n",
      "1  U_1000979   C_947149                  1                1.0   \n",
      "2  U_1000982   C_947149                  1                1.0   \n",
      "3  U_1001176   C_947149                  1                1.0   \n",
      "4  U_1001413   C_735164                  1                1.0   \n",
      "\n",
      "   timeliness_phase3  timeliness_phase4  timeliness_avg  \n",
      "0                1.0                1.0             1.0  \n",
      "1                1.0                1.0             1.0  \n",
      "2                1.0                NaN             1.0  \n",
      "3                1.0                1.0             1.0  \n",
      "4                NaN                NaN             1.0  \n",
      "Timeliness trung bình toàn dataset: 1.0\n"
     ]
    },
    {
     "name": "stderr",
     "output_type": "stream",
     "text": [
      "/usr/local/lib/python3.11/dist-packages/pandas/io/formats/format.py:1458: RuntimeWarning: invalid value encountered in greater\n",
      "  has_large_values = (abs_vals > 1e6).any()\n",
      "/usr/local/lib/python3.11/dist-packages/pandas/io/formats/format.py:1459: RuntimeWarning: invalid value encountered in less\n",
      "  has_small_values = ((abs_vals < 10 ** (-self.digits)) & (abs_vals > 0)).any()\n",
      "/usr/local/lib/python3.11/dist-packages/pandas/io/formats/format.py:1459: RuntimeWarning: invalid value encountered in greater\n",
      "  has_small_values = ((abs_vals < 10 ** (-self.digits)) & (abs_vals > 0)).any()\n"
     ]
    }
   ],
   "source": [
    "# Gọi hàm với thư mục chứa dữ liệu của bạn\n",
    "final_timeliness_df = calculate_timeliness_from_files('/kaggle/input/final-data', num_phases=4)\n",
    "\n",
    "# Xem kết quả\n",
    "print(final_timeliness_df.head())\n",
    "\n",
    "# Tính timeliness trung bình toàn dataset\n",
    "print(\"Timeliness trung bình toàn dataset:\", final_timeliness_df['timeliness_avg'].mean())\n"
   ]
  },
  {
   "cell_type": "code",
   "execution_count": 3,
   "id": "8a489cfe",
   "metadata": {
    "execution": {
     "iopub.execute_input": "2025-05-29T13:55:20.204681Z",
     "iopub.status.busy": "2025-05-29T13:55:20.204113Z",
     "iopub.status.idle": "2025-05-29T13:55:20.235774Z",
     "shell.execute_reply": "2025-05-29T13:55:20.233963Z"
    },
    "papermill": {
     "duration": 0.037045,
     "end_time": "2025-05-29T13:55:20.237753",
     "exception": false,
     "start_time": "2025-05-29T13:55:20.200708",
     "status": "completed"
    },
    "tags": []
   },
   "outputs": [
    {
     "name": "stderr",
     "output_type": "stream",
     "text": [
      "/usr/local/lib/python3.11/dist-packages/pandas/io/formats/format.py:1458: RuntimeWarning: invalid value encountered in greater\n",
      "  has_large_values = (abs_vals > 1e6).any()\n",
      "/usr/local/lib/python3.11/dist-packages/pandas/io/formats/format.py:1459: RuntimeWarning: invalid value encountered in less\n",
      "  has_small_values = ((abs_vals < 10 ** (-self.digits)) & (abs_vals > 0)).any()\n",
      "/usr/local/lib/python3.11/dist-packages/pandas/io/formats/format.py:1459: RuntimeWarning: invalid value encountered in greater\n",
      "  has_small_values = ((abs_vals < 10 ** (-self.digits)) & (abs_vals > 0)).any()\n"
     ]
    },
    {
     "data": {
      "text/html": [
       "<div>\n",
       "<style scoped>\n",
       "    .dataframe tbody tr th:only-of-type {\n",
       "        vertical-align: middle;\n",
       "    }\n",
       "\n",
       "    .dataframe tbody tr th {\n",
       "        vertical-align: top;\n",
       "    }\n",
       "\n",
       "    .dataframe thead th {\n",
       "        text-align: right;\n",
       "    }\n",
       "</style>\n",
       "<table border=\"1\" class=\"dataframe\">\n",
       "  <thead>\n",
       "    <tr style=\"text-align: right;\">\n",
       "      <th></th>\n",
       "      <th>user_id</th>\n",
       "      <th>course_id</th>\n",
       "      <th>timeliness_phase1</th>\n",
       "      <th>timeliness_phase2</th>\n",
       "      <th>timeliness_phase3</th>\n",
       "      <th>timeliness_phase4</th>\n",
       "      <th>timeliness_avg</th>\n",
       "    </tr>\n",
       "  </thead>\n",
       "  <tbody>\n",
       "    <tr>\n",
       "      <th>0</th>\n",
       "      <td>U_10000</td>\n",
       "      <td>C_2033958</td>\n",
       "      <td>1</td>\n",
       "      <td>1.0</td>\n",
       "      <td>1.0</td>\n",
       "      <td>1.0</td>\n",
       "      <td>1.0</td>\n",
       "    </tr>\n",
       "    <tr>\n",
       "      <th>1</th>\n",
       "      <td>U_1000979</td>\n",
       "      <td>C_947149</td>\n",
       "      <td>1</td>\n",
       "      <td>1.0</td>\n",
       "      <td>1.0</td>\n",
       "      <td>1.0</td>\n",
       "      <td>1.0</td>\n",
       "    </tr>\n",
       "    <tr>\n",
       "      <th>2</th>\n",
       "      <td>U_1000982</td>\n",
       "      <td>C_947149</td>\n",
       "      <td>1</td>\n",
       "      <td>1.0</td>\n",
       "      <td>1.0</td>\n",
       "      <td>NaN</td>\n",
       "      <td>1.0</td>\n",
       "    </tr>\n",
       "    <tr>\n",
       "      <th>3</th>\n",
       "      <td>U_1001176</td>\n",
       "      <td>C_947149</td>\n",
       "      <td>1</td>\n",
       "      <td>1.0</td>\n",
       "      <td>1.0</td>\n",
       "      <td>1.0</td>\n",
       "      <td>1.0</td>\n",
       "    </tr>\n",
       "    <tr>\n",
       "      <th>4</th>\n",
       "      <td>U_1001413</td>\n",
       "      <td>C_735164</td>\n",
       "      <td>1</td>\n",
       "      <td>1.0</td>\n",
       "      <td>NaN</td>\n",
       "      <td>NaN</td>\n",
       "      <td>1.0</td>\n",
       "    </tr>\n",
       "    <tr>\n",
       "      <th>...</th>\n",
       "      <td>...</td>\n",
       "      <td>...</td>\n",
       "      <td>...</td>\n",
       "      <td>...</td>\n",
       "      <td>...</td>\n",
       "      <td>...</td>\n",
       "      <td>...</td>\n",
       "    </tr>\n",
       "    <tr>\n",
       "      <th>108117</th>\n",
       "      <td>U_99746</td>\n",
       "      <td>C_674971</td>\n",
       "      <td>1</td>\n",
       "      <td>1.0</td>\n",
       "      <td>1.0</td>\n",
       "      <td>1.0</td>\n",
       "      <td>1.0</td>\n",
       "    </tr>\n",
       "    <tr>\n",
       "      <th>108118</th>\n",
       "      <td>U_997506</td>\n",
       "      <td>C_2095102</td>\n",
       "      <td>1</td>\n",
       "      <td>1.0</td>\n",
       "      <td>1.0</td>\n",
       "      <td>1.0</td>\n",
       "      <td>1.0</td>\n",
       "    </tr>\n",
       "    <tr>\n",
       "      <th>108119</th>\n",
       "      <td>U_99753</td>\n",
       "      <td>C_1428968</td>\n",
       "      <td>1</td>\n",
       "      <td>1.0</td>\n",
       "      <td>1.0</td>\n",
       "      <td>1.0</td>\n",
       "      <td>1.0</td>\n",
       "    </tr>\n",
       "    <tr>\n",
       "      <th>108120</th>\n",
       "      <td>U_997542</td>\n",
       "      <td>C_2066096</td>\n",
       "      <td>1</td>\n",
       "      <td>1.0</td>\n",
       "      <td>1.0</td>\n",
       "      <td>1.0</td>\n",
       "      <td>1.0</td>\n",
       "    </tr>\n",
       "    <tr>\n",
       "      <th>108121</th>\n",
       "      <td>U_99772</td>\n",
       "      <td>C_1903985</td>\n",
       "      <td>1</td>\n",
       "      <td>1.0</td>\n",
       "      <td>1.0</td>\n",
       "      <td>1.0</td>\n",
       "      <td>1.0</td>\n",
       "    </tr>\n",
       "  </tbody>\n",
       "</table>\n",
       "<p>108122 rows × 7 columns</p>\n",
       "</div>"
      ],
      "text/plain": [
       "          user_id  course_id  timeliness_phase1  timeliness_phase2  \\\n",
       "0         U_10000  C_2033958                  1                1.0   \n",
       "1       U_1000979   C_947149                  1                1.0   \n",
       "2       U_1000982   C_947149                  1                1.0   \n",
       "3       U_1001176   C_947149                  1                1.0   \n",
       "4       U_1001413   C_735164                  1                1.0   \n",
       "...           ...        ...                ...                ...   \n",
       "108117    U_99746   C_674971                  1                1.0   \n",
       "108118   U_997506  C_2095102                  1                1.0   \n",
       "108119    U_99753  C_1428968                  1                1.0   \n",
       "108120   U_997542  C_2066096                  1                1.0   \n",
       "108121    U_99772  C_1903985                  1                1.0   \n",
       "\n",
       "        timeliness_phase3  timeliness_phase4  timeliness_avg  \n",
       "0                     1.0                1.0             1.0  \n",
       "1                     1.0                1.0             1.0  \n",
       "2                     1.0                NaN             1.0  \n",
       "3                     1.0                1.0             1.0  \n",
       "4                     NaN                NaN             1.0  \n",
       "...                   ...                ...             ...  \n",
       "108117                1.0                1.0             1.0  \n",
       "108118                1.0                1.0             1.0  \n",
       "108119                1.0                1.0             1.0  \n",
       "108120                1.0                1.0             1.0  \n",
       "108121                1.0                1.0             1.0  \n",
       "\n",
       "[108122 rows x 7 columns]"
      ]
     },
     "execution_count": 3,
     "metadata": {},
     "output_type": "execute_result"
    }
   ],
   "source": [
    "final_timeliness_df"
   ]
  },
  {
   "cell_type": "code",
   "execution_count": 4,
   "id": "37b1f840",
   "metadata": {
    "execution": {
     "iopub.execute_input": "2025-05-29T13:55:20.245620Z",
     "iopub.status.busy": "2025-05-29T13:55:20.245269Z",
     "iopub.status.idle": "2025-05-29T13:55:20.261403Z",
     "shell.execute_reply": "2025-05-29T13:55:20.260268Z"
    },
    "papermill": {
     "duration": 0.022445,
     "end_time": "2025-05-29T13:55:20.263042",
     "exception": false,
     "start_time": "2025-05-29T13:55:20.240597",
     "status": "completed"
    },
    "tags": []
   },
   "outputs": [
    {
     "name": "stdout",
     "output_type": "stream",
     "text": [
      "Trung bình timeliness theo từng phase:\n"
     ]
    },
    {
     "data": {
      "text/plain": [
       "timeliness_phase1    1.0\n",
       "timeliness_phase2    1.0\n",
       "timeliness_phase3    1.0\n",
       "timeliness_phase4    1.0\n",
       "dtype: float64"
      ]
     },
     "execution_count": 4,
     "metadata": {},
     "output_type": "execute_result"
    }
   ],
   "source": [
    "# Lấy danh sách cột timeliness theo phase\n",
    "phase_cols = ['timeliness_phase1', 'timeliness_phase2', 'timeliness_phase3', 'timeliness_phase4']\n",
    "\n",
    "# Tính trung bình cho mỗi phase (bỏ qua NaN)\n",
    "timeliness_means = final_timeliness_df[phase_cols].mean()\n",
    "\n",
    "print(\"Trung bình timeliness theo từng phase:\")\n",
    "timeliness_means"
   ]
  }
 ],
 "metadata": {
  "kaggle": {
   "accelerator": "none",
   "dataSources": [
    {
     "sourceId": 241291567,
     "sourceType": "kernelVersion"
    }
   ],
   "dockerImageVersionId": 31040,
   "isGpuEnabled": false,
   "isInternetEnabled": true,
   "language": "python",
   "sourceType": "notebook"
  },
  "kernelspec": {
   "display_name": "Python 3",
   "language": "python",
   "name": "python3"
  },
  "language_info": {
   "codemirror_mode": {
    "name": "ipython",
    "version": 3
   },
   "file_extension": ".py",
   "mimetype": "text/x-python",
   "name": "python",
   "nbconvert_exporter": "python",
   "pygments_lexer": "ipython3",
   "version": "3.11.11"
  },
  "papermill": {
   "default_parameters": {},
   "duration": 19.245563,
   "end_time": "2025-05-29T13:55:20.787377",
   "environment_variables": {},
   "exception": null,
   "input_path": "__notebook__.ipynb",
   "output_path": "__notebook__.ipynb",
   "parameters": {},
   "start_time": "2025-05-29T13:55:01.541814",
   "version": "2.6.0"
  }
 },
 "nbformat": 4,
 "nbformat_minor": 5
}
