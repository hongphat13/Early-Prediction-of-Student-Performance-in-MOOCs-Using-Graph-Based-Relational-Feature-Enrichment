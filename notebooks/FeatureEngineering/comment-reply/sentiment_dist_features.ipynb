{
 "cells": [
  {
   "cell_type": "code",
   "execution_count": 1,
   "id": "6a9534a9",
   "metadata": {
    "_cell_guid": "b1076dfc-b9ad-4769-8c92-a6c4dae69d19",
    "_uuid": "8f2839f25d086af736a60e9eeb907d3b93b6e0e5",
    "execution": {
     "iopub.execute_input": "2025-04-24T16:15:29.123304Z",
     "iopub.status.busy": "2025-04-24T16:15:29.122358Z",
     "iopub.status.idle": "2025-04-24T16:15:31.029654Z",
     "shell.execute_reply": "2025-04-24T16:15:31.028590Z"
    },
    "papermill": {
     "duration": 1.914508,
     "end_time": "2025-04-24T16:15:31.031472",
     "exception": false,
     "start_time": "2025-04-24T16:15:29.116964",
     "status": "completed"
    },
    "tags": []
   },
   "outputs": [
    {
     "name": "stdout",
     "output_type": "stream",
     "text": [
      "/kaggle/input/comment-label/__results__.html\n",
      "/kaggle/input/comment-label/comments_all_labeled.csv\n",
      "/kaggle/input/comment-label/__notebook__.ipynb\n",
      "/kaggle/input/comment-label/__output__.json\n",
      "/kaggle/input/comment-label/custom.css\n",
      "/kaggle/input/reply-label-limit/__results__.html\n",
      "/kaggle/input/reply-label-limit/reply_label.csv\n",
      "/kaggle/input/reply-label-limit/__notebook__.ipynb\n",
      "/kaggle/input/reply-label-limit/__output__.json\n",
      "/kaggle/input/reply-label-limit/custom.css\n"
     ]
    }
   ],
   "source": [
    "# This Python 3 environment comes with many helpful analytics libraries installed\n",
    "# It is defined by the kaggle/python Docker image: https://github.com/kaggle/docker-python\n",
    "# For example, here's several helpful packages to load\n",
    "\n",
    "import numpy as np # linear algebra\n",
    "import pandas as pd # data processing, CSV file I/O (e.g. pd.read_csv)\n",
    "\n",
    "# Input data files are available in the read-only \"../input/\" directory\n",
    "# For example, running this (by clicking run or pressing Shift+Enter) will list all files under the input directory\n",
    "\n",
    "import os\n",
    "for dirname, _, filenames in os.walk('/kaggle/input'):\n",
    "    for filename in filenames:\n",
    "        print(os.path.join(dirname, filename))\n",
    "\n",
    "# You can write up to 20GB to the current directory (/kaggle/working/) that gets preserved as output when you create a version using \"Save & Run All\" \n",
    "# You can also write temporary files to /kaggle/temp/, but they won't be saved outside of the current session"
   ]
  },
  {
   "cell_type": "code",
   "execution_count": 2,
   "id": "e9c8c7b1",
   "metadata": {
    "execution": {
     "iopub.execute_input": "2025-04-24T16:15:31.039690Z",
     "iopub.status.busy": "2025-04-24T16:15:31.038761Z",
     "iopub.status.idle": "2025-04-24T16:15:33.439786Z",
     "shell.execute_reply": "2025-04-24T16:15:33.439052Z"
    },
    "papermill": {
     "duration": 2.40628,
     "end_time": "2025-04-24T16:15:33.441319",
     "exception": false,
     "start_time": "2025-04-24T16:15:31.035039",
     "status": "completed"
    },
    "tags": []
   },
   "outputs": [],
   "source": [
    "import polars as pl\n",
    "from tqdm import tqdm\n",
    "import os\n",
    "import pandas as pd\n",
    "import json\n",
    "import matplotlib.pyplot as plt\n",
    "import seaborn as sns\n",
    "import numpy as np\n",
    "import scipy\n",
    "import time"
   ]
  },
  {
   "cell_type": "code",
   "execution_count": 3,
   "id": "bc1e4d8e",
   "metadata": {
    "execution": {
     "iopub.execute_input": "2025-04-24T16:15:33.447960Z",
     "iopub.status.busy": "2025-04-24T16:15:33.447603Z",
     "iopub.status.idle": "2025-04-24T16:15:54.233035Z",
     "shell.execute_reply": "2025-04-24T16:15:54.231921Z"
    },
    "papermill": {
     "duration": 20.790317,
     "end_time": "2025-04-24T16:15:54.234710",
     "exception": false,
     "start_time": "2025-04-24T16:15:33.444393",
     "status": "completed"
    },
    "tags": []
   },
   "outputs": [
    {
     "name": "stdout",
     "output_type": "stream",
     "text": [
      "<class 'pandas.core.frame.DataFrame'>\n",
      "RangeIndex: 3560004 entries, 0 to 3560003\n",
      "Data columns (total 6 columns):\n",
      " #   Column           Dtype  \n",
      "---  ------           -----  \n",
      " 0   comment_id       object \n",
      " 1   user_id          object \n",
      " 2   course_id        object \n",
      " 3   text             object \n",
      " 4   create_time      object \n",
      " 5   sentiment_label  float64\n",
      "dtypes: float64(1), object(5)\n",
      "memory usage: 163.0+ MB\n"
     ]
    }
   ],
   "source": [
    "comment = pd.read_csv('/kaggle/input/comment-label/comments_all_labeled.csv')\n",
    "comment.info()"
   ]
  },
  {
   "cell_type": "code",
   "execution_count": 4,
   "id": "84981157",
   "metadata": {
    "execution": {
     "iopub.execute_input": "2025-04-24T16:15:54.242068Z",
     "iopub.status.busy": "2025-04-24T16:15:54.241734Z",
     "iopub.status.idle": "2025-04-24T16:15:54.494340Z",
     "shell.execute_reply": "2025-04-24T16:15:54.493199Z"
    },
    "papermill": {
     "duration": 0.258051,
     "end_time": "2025-04-24T16:15:54.495993",
     "exception": false,
     "start_time": "2025-04-24T16:15:54.237942",
     "status": "completed"
    },
    "tags": []
   },
   "outputs": [
    {
     "name": "stdout",
     "output_type": "stream",
     "text": [
      "<class 'pandas.core.frame.DataFrame'>\n",
      "RangeIndex: 46969 entries, 0 to 46968\n",
      "Data columns (total 7 columns):\n",
      " #   Column           Non-Null Count  Dtype  \n",
      "---  ------           --------------  -----  \n",
      " 0   reply_id         46969 non-null  object \n",
      " 1   comment_id       46969 non-null  object \n",
      " 2   user_id          46969 non-null  object \n",
      " 3   course_id        46969 non-null  object \n",
      " 4   text             46969 non-null  object \n",
      " 5   create_time      46969 non-null  object \n",
      " 6   sentiment_label  46968 non-null  float64\n",
      "dtypes: float64(1), object(6)\n",
      "memory usage: 2.5+ MB\n"
     ]
    }
   ],
   "source": [
    "reply = pd.read_csv('/kaggle/input/reply-label-limit/reply_label.csv')\n",
    "reply.info()"
   ]
  },
  {
   "cell_type": "markdown",
   "id": "046dbf9c",
   "metadata": {
    "papermill": {
     "duration": 0.002582,
     "end_time": "2025-04-24T16:15:54.501859",
     "exception": false,
     "start_time": "2025-04-24T16:15:54.499277",
     "status": "completed"
    },
    "tags": []
   },
   "source": [
    "# Phân loại cảm xúc của comment"
   ]
  },
  {
   "cell_type": "code",
   "execution_count": 5,
   "id": "3f62ac1d",
   "metadata": {
    "execution": {
     "iopub.execute_input": "2025-04-24T16:15:54.509819Z",
     "iopub.status.busy": "2025-04-24T16:15:54.509086Z",
     "iopub.status.idle": "2025-04-24T16:15:54.886886Z",
     "shell.execute_reply": "2025-04-24T16:15:54.886114Z"
    },
    "papermill": {
     "duration": 0.383878,
     "end_time": "2025-04-24T16:15:54.888339",
     "exception": false,
     "start_time": "2025-04-24T16:15:54.504461",
     "status": "completed"
    },
    "tags": []
   },
   "outputs": [
    {
     "data": {
      "text/html": [
       "<div>\n",
       "<style scoped>\n",
       "    .dataframe tbody tr th:only-of-type {\n",
       "        vertical-align: middle;\n",
       "    }\n",
       "\n",
       "    .dataframe tbody tr th {\n",
       "        vertical-align: top;\n",
       "    }\n",
       "\n",
       "    .dataframe thead th {\n",
       "        text-align: right;\n",
       "    }\n",
       "</style>\n",
       "<table border=\"1\" class=\"dataframe\">\n",
       "  <thead>\n",
       "    <tr style=\"text-align: right;\">\n",
       "      <th></th>\n",
       "      <th>user_id</th>\n",
       "      <th>course_id</th>\n",
       "      <th>sentiment_label</th>\n",
       "    </tr>\n",
       "  </thead>\n",
       "  <tbody>\n",
       "    <tr>\n",
       "      <th>0</th>\n",
       "      <td>U_5518487</td>\n",
       "      <td>C_735269</td>\n",
       "      <td>1.0</td>\n",
       "    </tr>\n",
       "    <tr>\n",
       "      <th>1</th>\n",
       "      <td>U_5518487</td>\n",
       "      <td>C_735269</td>\n",
       "      <td>1.0</td>\n",
       "    </tr>\n",
       "    <tr>\n",
       "      <th>2</th>\n",
       "      <td>U_11459568</td>\n",
       "      <td>C_682656</td>\n",
       "      <td>0.0</td>\n",
       "    </tr>\n",
       "    <tr>\n",
       "      <th>3</th>\n",
       "      <td>U_11423362</td>\n",
       "      <td>C_682656</td>\n",
       "      <td>0.0</td>\n",
       "    </tr>\n",
       "    <tr>\n",
       "      <th>4</th>\n",
       "      <td>U_11370758</td>\n",
       "      <td>C_682656</td>\n",
       "      <td>1.0</td>\n",
       "    </tr>\n",
       "  </tbody>\n",
       "</table>\n",
       "</div>"
      ],
      "text/plain": [
       "      user_id course_id  sentiment_label\n",
       "0   U_5518487  C_735269              1.0\n",
       "1   U_5518487  C_735269              1.0\n",
       "2  U_11459568  C_682656              0.0\n",
       "3  U_11423362  C_682656              0.0\n",
       "4  U_11370758  C_682656              1.0"
      ]
     },
     "execution_count": 5,
     "metadata": {},
     "output_type": "execute_result"
    }
   ],
   "source": [
    "# Bỏ đi những cột không cần thiết\n",
    "comment.drop(columns=[\"text\", \"comment_id\", \"create_time\"], inplace=True)\n",
    "comment.head()"
   ]
  },
  {
   "cell_type": "code",
   "execution_count": 6,
   "id": "76992b51",
   "metadata": {
    "execution": {
     "iopub.execute_input": "2025-04-24T16:15:54.895440Z",
     "iopub.status.busy": "2025-04-24T16:15:54.895206Z",
     "iopub.status.idle": "2025-04-24T16:16:00.222042Z",
     "shell.execute_reply": "2025-04-24T16:16:00.221213Z"
    },
    "papermill": {
     "duration": 5.331794,
     "end_time": "2025-04-24T16:16:00.223238",
     "exception": false,
     "start_time": "2025-04-24T16:15:54.891444",
     "status": "completed"
    },
    "tags": []
   },
   "outputs": [
    {
     "data": {
      "text/html": [
       "<div>\n",
       "<style scoped>\n",
       "    .dataframe tbody tr th:only-of-type {\n",
       "        vertical-align: middle;\n",
       "    }\n",
       "\n",
       "    .dataframe tbody tr th {\n",
       "        vertical-align: top;\n",
       "    }\n",
       "\n",
       "    .dataframe thead th {\n",
       "        text-align: right;\n",
       "    }\n",
       "</style>\n",
       "<table border=\"1\" class=\"dataframe\">\n",
       "  <thead>\n",
       "    <tr style=\"text-align: right;\">\n",
       "      <th></th>\n",
       "      <th>course_id</th>\n",
       "      <th>user_id</th>\n",
       "      <th>positive</th>\n",
       "      <th>negative</th>\n",
       "      <th>neutral</th>\n",
       "      <th>total_cmt</th>\n",
       "    </tr>\n",
       "  </thead>\n",
       "  <tbody>\n",
       "    <tr>\n",
       "      <th>0</th>\n",
       "      <td>C_1017355</td>\n",
       "      <td>U_1003583</td>\n",
       "      <td>0</td>\n",
       "      <td>0</td>\n",
       "      <td>9</td>\n",
       "      <td>9</td>\n",
       "    </tr>\n",
       "    <tr>\n",
       "      <th>1</th>\n",
       "      <td>C_1017355</td>\n",
       "      <td>U_10395255</td>\n",
       "      <td>0</td>\n",
       "      <td>0</td>\n",
       "      <td>1</td>\n",
       "      <td>1</td>\n",
       "    </tr>\n",
       "    <tr>\n",
       "      <th>2</th>\n",
       "      <td>C_1017355</td>\n",
       "      <td>U_10448165</td>\n",
       "      <td>0</td>\n",
       "      <td>0</td>\n",
       "      <td>8</td>\n",
       "      <td>8</td>\n",
       "    </tr>\n",
       "    <tr>\n",
       "      <th>3</th>\n",
       "      <td>C_1017355</td>\n",
       "      <td>U_10448173</td>\n",
       "      <td>1</td>\n",
       "      <td>0</td>\n",
       "      <td>7</td>\n",
       "      <td>8</td>\n",
       "    </tr>\n",
       "    <tr>\n",
       "      <th>4</th>\n",
       "      <td>C_1017355</td>\n",
       "      <td>U_10448177</td>\n",
       "      <td>0</td>\n",
       "      <td>0</td>\n",
       "      <td>1</td>\n",
       "      <td>1</td>\n",
       "    </tr>\n",
       "  </tbody>\n",
       "</table>\n",
       "</div>"
      ],
      "text/plain": [
       "   course_id     user_id  positive  negative  neutral  total_cmt\n",
       "0  C_1017355   U_1003583         0         0        9          9\n",
       "1  C_1017355  U_10395255         0         0        1          1\n",
       "2  C_1017355  U_10448165         0         0        8          8\n",
       "3  C_1017355  U_10448173         1         0        7          8\n",
       "4  C_1017355  U_10448177         0         0        1          1"
      ]
     },
     "execution_count": 6,
     "metadata": {},
     "output_type": "execute_result"
    }
   ],
   "source": [
    "# Đếm số comment positive, negative, neutral và tổng số comment\n",
    "comment['positive'] = comment['sentiment_label'].apply(lambda x: 1 if x == 2.0 else 0)\n",
    "comment['negative'] = comment['sentiment_label'].apply(lambda x: 1 if x == 0.0 else 0)\n",
    "comment['neutral'] = comment['sentiment_label'].apply(lambda x: 1 if x == 1.0 else 0)\n",
    "\n",
    "comment.drop(columns=[\"sentiment_label\"], inplace=True)\n",
    "comment = comment.groupby([\"course_id\", \"user_id\"]).sum().reset_index()\n",
    "comment['total_cmt'] = comment['positive'] + comment['negative'] + comment['neutral']\n",
    "\n",
    "comment.head()"
   ]
  },
  {
   "cell_type": "markdown",
   "id": "8bac5a8a",
   "metadata": {
    "papermill": {
     "duration": 0.002967,
     "end_time": "2025-04-24T16:16:00.229508",
     "exception": false,
     "start_time": "2025-04-24T16:16:00.226541",
     "status": "completed"
    },
    "tags": []
   },
   "source": [
    "# Phân loại cảm xúc của reply"
   ]
  },
  {
   "cell_type": "code",
   "execution_count": 7,
   "id": "f4ba394d",
   "metadata": {
    "execution": {
     "iopub.execute_input": "2025-04-24T16:16:00.236118Z",
     "iopub.status.busy": "2025-04-24T16:16:00.235900Z",
     "iopub.status.idle": "2025-04-24T16:16:00.252183Z",
     "shell.execute_reply": "2025-04-24T16:16:00.251453Z"
    },
    "papermill": {
     "duration": 0.021033,
     "end_time": "2025-04-24T16:16:00.253415",
     "exception": false,
     "start_time": "2025-04-24T16:16:00.232382",
     "status": "completed"
    },
    "tags": []
   },
   "outputs": [
    {
     "data": {
      "text/html": [
       "<div>\n",
       "<style scoped>\n",
       "    .dataframe tbody tr th:only-of-type {\n",
       "        vertical-align: middle;\n",
       "    }\n",
       "\n",
       "    .dataframe tbody tr th {\n",
       "        vertical-align: top;\n",
       "    }\n",
       "\n",
       "    .dataframe thead th {\n",
       "        text-align: right;\n",
       "    }\n",
       "</style>\n",
       "<table border=\"1\" class=\"dataframe\">\n",
       "  <thead>\n",
       "    <tr style=\"text-align: right;\">\n",
       "      <th></th>\n",
       "      <th>user_id</th>\n",
       "      <th>course_id</th>\n",
       "      <th>sentiment_label</th>\n",
       "    </tr>\n",
       "  </thead>\n",
       "  <tbody>\n",
       "    <tr>\n",
       "      <th>0</th>\n",
       "      <td>U_11370564</td>\n",
       "      <td>C_682656</td>\n",
       "      <td>1.0</td>\n",
       "    </tr>\n",
       "    <tr>\n",
       "      <th>1</th>\n",
       "      <td>U_11563268</td>\n",
       "      <td>C_682656</td>\n",
       "      <td>0.0</td>\n",
       "    </tr>\n",
       "    <tr>\n",
       "      <th>2</th>\n",
       "      <td>U_11389118</td>\n",
       "      <td>C_682656</td>\n",
       "      <td>0.0</td>\n",
       "    </tr>\n",
       "    <tr>\n",
       "      <th>3</th>\n",
       "      <td>U_11388224</td>\n",
       "      <td>C_682656</td>\n",
       "      <td>1.0</td>\n",
       "    </tr>\n",
       "    <tr>\n",
       "      <th>4</th>\n",
       "      <td>U_2005701</td>\n",
       "      <td>C_676705</td>\n",
       "      <td>1.0</td>\n",
       "    </tr>\n",
       "  </tbody>\n",
       "</table>\n",
       "</div>"
      ],
      "text/plain": [
       "      user_id course_id  sentiment_label\n",
       "0  U_11370564  C_682656              1.0\n",
       "1  U_11563268  C_682656              0.0\n",
       "2  U_11389118  C_682656              0.0\n",
       "3  U_11388224  C_682656              1.0\n",
       "4   U_2005701  C_676705              1.0"
      ]
     },
     "execution_count": 7,
     "metadata": {},
     "output_type": "execute_result"
    }
   ],
   "source": [
    "# Bỏ đi những cột không cần thiết\n",
    "reply.drop(columns=[\"text\", \"comment_id\", \"create_time\", \"reply_id\"], inplace=True)\n",
    "reply.head()"
   ]
  },
  {
   "cell_type": "code",
   "execution_count": 8,
   "id": "ec5515a7",
   "metadata": {
    "execution": {
     "iopub.execute_input": "2025-04-24T16:16:00.260994Z",
     "iopub.status.busy": "2025-04-24T16:16:00.260455Z",
     "iopub.status.idle": "2025-04-24T16:16:00.345115Z",
     "shell.execute_reply": "2025-04-24T16:16:00.344317Z"
    },
    "papermill": {
     "duration": 0.089592,
     "end_time": "2025-04-24T16:16:00.346374",
     "exception": false,
     "start_time": "2025-04-24T16:16:00.256782",
     "status": "completed"
    },
    "tags": []
   },
   "outputs": [
    {
     "data": {
      "text/html": [
       "<div>\n",
       "<style scoped>\n",
       "    .dataframe tbody tr th:only-of-type {\n",
       "        vertical-align: middle;\n",
       "    }\n",
       "\n",
       "    .dataframe tbody tr th {\n",
       "        vertical-align: top;\n",
       "    }\n",
       "\n",
       "    .dataframe thead th {\n",
       "        text-align: right;\n",
       "    }\n",
       "</style>\n",
       "<table border=\"1\" class=\"dataframe\">\n",
       "  <thead>\n",
       "    <tr style=\"text-align: right;\">\n",
       "      <th></th>\n",
       "      <th>course_id</th>\n",
       "      <th>user_id</th>\n",
       "      <th>positive</th>\n",
       "      <th>negative</th>\n",
       "      <th>neutral</th>\n",
       "      <th>total_reply</th>\n",
       "    </tr>\n",
       "  </thead>\n",
       "  <tbody>\n",
       "    <tr>\n",
       "      <th>0</th>\n",
       "      <td>C_1017355</td>\n",
       "      <td>U_10539786</td>\n",
       "      <td>1</td>\n",
       "      <td>0</td>\n",
       "      <td>0</td>\n",
       "      <td>1</td>\n",
       "    </tr>\n",
       "    <tr>\n",
       "      <th>1</th>\n",
       "      <td>C_1017355</td>\n",
       "      <td>U_12595791</td>\n",
       "      <td>0</td>\n",
       "      <td>0</td>\n",
       "      <td>1</td>\n",
       "      <td>1</td>\n",
       "    </tr>\n",
       "    <tr>\n",
       "      <th>2</th>\n",
       "      <td>C_1017355</td>\n",
       "      <td>U_13575454</td>\n",
       "      <td>0</td>\n",
       "      <td>0</td>\n",
       "      <td>1</td>\n",
       "      <td>1</td>\n",
       "    </tr>\n",
       "    <tr>\n",
       "      <th>3</th>\n",
       "      <td>C_1017355</td>\n",
       "      <td>U_14277532</td>\n",
       "      <td>8</td>\n",
       "      <td>2</td>\n",
       "      <td>12</td>\n",
       "      <td>22</td>\n",
       "    </tr>\n",
       "    <tr>\n",
       "      <th>4</th>\n",
       "      <td>C_1017355</td>\n",
       "      <td>U_15163944</td>\n",
       "      <td>0</td>\n",
       "      <td>0</td>\n",
       "      <td>1</td>\n",
       "      <td>1</td>\n",
       "    </tr>\n",
       "  </tbody>\n",
       "</table>\n",
       "</div>"
      ],
      "text/plain": [
       "   course_id     user_id  positive  negative  neutral  total_reply\n",
       "0  C_1017355  U_10539786         1         0        0            1\n",
       "1  C_1017355  U_12595791         0         0        1            1\n",
       "2  C_1017355  U_13575454         0         0        1            1\n",
       "3  C_1017355  U_14277532         8         2       12           22\n",
       "4  C_1017355  U_15163944         0         0        1            1"
      ]
     },
     "execution_count": 8,
     "metadata": {},
     "output_type": "execute_result"
    }
   ],
   "source": [
    "# Đếm số reply positive, negative, neutral và tổng số reply\n",
    "reply['positive'] = reply['sentiment_label'].apply(lambda x: 1 if x == 2.0 else 0)\n",
    "reply['negative'] = reply['sentiment_label'].apply(lambda x: 1 if x == 0.0 else 0)\n",
    "reply['neutral'] = reply['sentiment_label'].apply(lambda x: 1 if x == 1.0 else 0)\n",
    "\n",
    "reply.drop(columns=[\"sentiment_label\"], inplace=True)\n",
    "reply = reply.groupby([\"course_id\", \"user_id\"]).sum().reset_index()\n",
    "reply['total_reply'] = reply['positive'] + reply['negative'] + reply['neutral']\n",
    "\n",
    "reply.head()"
   ]
  },
  {
   "cell_type": "markdown",
   "id": "5105a248",
   "metadata": {
    "papermill": {
     "duration": 0.003194,
     "end_time": "2025-04-24T16:16:00.353244",
     "exception": false,
     "start_time": "2025-04-24T16:16:00.350050",
     "status": "completed"
    },
    "tags": []
   },
   "source": [
    "# Tổng hợp"
   ]
  },
  {
   "cell_type": "code",
   "execution_count": 9,
   "id": "e244c4cf",
   "metadata": {
    "execution": {
     "iopub.execute_input": "2025-04-24T16:16:00.360829Z",
     "iopub.status.busy": "2025-04-24T16:16:00.360567Z",
     "iopub.status.idle": "2025-04-24T16:16:01.447087Z",
     "shell.execute_reply": "2025-04-24T16:16:01.446296Z"
    },
    "papermill": {
     "duration": 1.092064,
     "end_time": "2025-04-24T16:16:01.448631",
     "exception": false,
     "start_time": "2025-04-24T16:16:00.356567",
     "status": "completed"
    },
    "tags": []
   },
   "outputs": [
    {
     "data": {
      "text/html": [
       "<div>\n",
       "<style scoped>\n",
       "    .dataframe tbody tr th:only-of-type {\n",
       "        vertical-align: middle;\n",
       "    }\n",
       "\n",
       "    .dataframe tbody tr th {\n",
       "        vertical-align: top;\n",
       "    }\n",
       "\n",
       "    .dataframe thead th {\n",
       "        text-align: right;\n",
       "    }\n",
       "</style>\n",
       "<table border=\"1\" class=\"dataframe\">\n",
       "  <thead>\n",
       "    <tr style=\"text-align: right;\">\n",
       "      <th></th>\n",
       "      <th>course_id</th>\n",
       "      <th>user_id</th>\n",
       "      <th>positive_comment</th>\n",
       "      <th>negative_comment</th>\n",
       "      <th>neutral_comment</th>\n",
       "      <th>total_cmt</th>\n",
       "      <th>positive_reply</th>\n",
       "      <th>negative_reply</th>\n",
       "      <th>neutral_reply</th>\n",
       "      <th>total_reply</th>\n",
       "    </tr>\n",
       "  </thead>\n",
       "  <tbody>\n",
       "    <tr>\n",
       "      <th>0</th>\n",
       "      <td>C_1779421</td>\n",
       "      <td>U_1001314</td>\n",
       "      <td>0.0</td>\n",
       "      <td>1.0</td>\n",
       "      <td>4.0</td>\n",
       "      <td>5.0</td>\n",
       "      <td>0.0</td>\n",
       "      <td>0.0</td>\n",
       "      <td>0.0</td>\n",
       "      <td>0.0</td>\n",
       "    </tr>\n",
       "    <tr>\n",
       "      <th>1</th>\n",
       "      <td>C_735164</td>\n",
       "      <td>U_1001563</td>\n",
       "      <td>1.0</td>\n",
       "      <td>0.0</td>\n",
       "      <td>1.0</td>\n",
       "      <td>2.0</td>\n",
       "      <td>0.0</td>\n",
       "      <td>0.0</td>\n",
       "      <td>0.0</td>\n",
       "      <td>0.0</td>\n",
       "    </tr>\n",
       "    <tr>\n",
       "      <th>2</th>\n",
       "      <td>C_735164</td>\n",
       "      <td>U_1001625</td>\n",
       "      <td>0.0</td>\n",
       "      <td>0.0</td>\n",
       "      <td>1.0</td>\n",
       "      <td>1.0</td>\n",
       "      <td>0.0</td>\n",
       "      <td>0.0</td>\n",
       "      <td>0.0</td>\n",
       "      <td>0.0</td>\n",
       "    </tr>\n",
       "    <tr>\n",
       "      <th>3</th>\n",
       "      <td>C_735164</td>\n",
       "      <td>U_1001703</td>\n",
       "      <td>2.0</td>\n",
       "      <td>0.0</td>\n",
       "      <td>2.0</td>\n",
       "      <td>4.0</td>\n",
       "      <td>0.0</td>\n",
       "      <td>0.0</td>\n",
       "      <td>0.0</td>\n",
       "      <td>0.0</td>\n",
       "    </tr>\n",
       "    <tr>\n",
       "      <th>4</th>\n",
       "      <td>C_1903976</td>\n",
       "      <td>U_1001806</td>\n",
       "      <td>0.0</td>\n",
       "      <td>0.0</td>\n",
       "      <td>1.0</td>\n",
       "      <td>1.0</td>\n",
       "      <td>0.0</td>\n",
       "      <td>0.0</td>\n",
       "      <td>0.0</td>\n",
       "      <td>0.0</td>\n",
       "    </tr>\n",
       "  </tbody>\n",
       "</table>\n",
       "</div>"
      ],
      "text/plain": [
       "   course_id    user_id  positive_comment  negative_comment  neutral_comment  \\\n",
       "0  C_1779421  U_1001314               0.0               1.0              4.0   \n",
       "1   C_735164  U_1001563               1.0               0.0              1.0   \n",
       "2   C_735164  U_1001625               0.0               0.0              1.0   \n",
       "3   C_735164  U_1001703               2.0               0.0              2.0   \n",
       "4  C_1903976  U_1001806               0.0               0.0              1.0   \n",
       "\n",
       "   total_cmt  positive_reply  negative_reply  neutral_reply  total_reply  \n",
       "0        5.0             0.0             0.0            0.0          0.0  \n",
       "1        2.0             0.0             0.0            0.0          0.0  \n",
       "2        1.0             0.0             0.0            0.0          0.0  \n",
       "3        4.0             0.0             0.0            0.0          0.0  \n",
       "4        1.0             0.0             0.0            0.0          0.0  "
      ]
     },
     "execution_count": 9,
     "metadata": {},
     "output_type": "execute_result"
    }
   ],
   "source": [
    "final_df = pd.merge(comment, reply, on=['user_id', 'course_id'], how='outer', suffixes=('_comment', '_reply'))\n",
    "final_df.fillna(0, inplace=True)\n",
    "final_df.head()"
   ]
  },
  {
   "cell_type": "code",
   "execution_count": 10,
   "id": "d83f381c",
   "metadata": {
    "execution": {
     "iopub.execute_input": "2025-04-24T16:16:01.456816Z",
     "iopub.status.busy": "2025-04-24T16:16:01.456577Z",
     "iopub.status.idle": "2025-04-24T16:16:01.501940Z",
     "shell.execute_reply": "2025-04-24T16:16:01.501156Z"
    },
    "papermill": {
     "duration": 0.050934,
     "end_time": "2025-04-24T16:16:01.503263",
     "exception": false,
     "start_time": "2025-04-24T16:16:01.452329",
     "status": "completed"
    },
    "tags": []
   },
   "outputs": [
    {
     "data": {
      "text/html": [
       "<div>\n",
       "<style scoped>\n",
       "    .dataframe tbody tr th:only-of-type {\n",
       "        vertical-align: middle;\n",
       "    }\n",
       "\n",
       "    .dataframe tbody tr th {\n",
       "        vertical-align: top;\n",
       "    }\n",
       "\n",
       "    .dataframe thead th {\n",
       "        text-align: right;\n",
       "    }\n",
       "</style>\n",
       "<table border=\"1\" class=\"dataframe\">\n",
       "  <thead>\n",
       "    <tr style=\"text-align: right;\">\n",
       "      <th></th>\n",
       "      <th>course_id</th>\n",
       "      <th>user_id</th>\n",
       "      <th>positive</th>\n",
       "      <th>negative</th>\n",
       "      <th>neutral</th>\n",
       "      <th>total</th>\n",
       "    </tr>\n",
       "  </thead>\n",
       "  <tbody>\n",
       "    <tr>\n",
       "      <th>0</th>\n",
       "      <td>C_1779421</td>\n",
       "      <td>U_1001314</td>\n",
       "      <td>0.0</td>\n",
       "      <td>1.0</td>\n",
       "      <td>4.0</td>\n",
       "      <td>5.0</td>\n",
       "    </tr>\n",
       "    <tr>\n",
       "      <th>1</th>\n",
       "      <td>C_735164</td>\n",
       "      <td>U_1001563</td>\n",
       "      <td>1.0</td>\n",
       "      <td>0.0</td>\n",
       "      <td>1.0</td>\n",
       "      <td>2.0</td>\n",
       "    </tr>\n",
       "    <tr>\n",
       "      <th>2</th>\n",
       "      <td>C_735164</td>\n",
       "      <td>U_1001625</td>\n",
       "      <td>0.0</td>\n",
       "      <td>0.0</td>\n",
       "      <td>1.0</td>\n",
       "      <td>1.0</td>\n",
       "    </tr>\n",
       "    <tr>\n",
       "      <th>3</th>\n",
       "      <td>C_735164</td>\n",
       "      <td>U_1001703</td>\n",
       "      <td>2.0</td>\n",
       "      <td>0.0</td>\n",
       "      <td>2.0</td>\n",
       "      <td>4.0</td>\n",
       "    </tr>\n",
       "    <tr>\n",
       "      <th>4</th>\n",
       "      <td>C_1903976</td>\n",
       "      <td>U_1001806</td>\n",
       "      <td>0.0</td>\n",
       "      <td>0.0</td>\n",
       "      <td>1.0</td>\n",
       "      <td>1.0</td>\n",
       "    </tr>\n",
       "  </tbody>\n",
       "</table>\n",
       "</div>"
      ],
      "text/plain": [
       "   course_id    user_id  positive  negative  neutral  total\n",
       "0  C_1779421  U_1001314       0.0       1.0      4.0    5.0\n",
       "1   C_735164  U_1001563       1.0       0.0      1.0    2.0\n",
       "2   C_735164  U_1001625       0.0       0.0      1.0    1.0\n",
       "3   C_735164  U_1001703       2.0       0.0      2.0    4.0\n",
       "4  C_1903976  U_1001806       0.0       0.0      1.0    1.0"
      ]
     },
     "execution_count": 10,
     "metadata": {},
     "output_type": "execute_result"
    }
   ],
   "source": [
    "# Cộng các giá trị trong các cột 'positive', 'negative', 'neutral' từ cả comment và reply\n",
    "final_df['positive'] = final_df['positive_comment'] + final_df['positive_reply']\n",
    "final_df['negative'] = final_df['negative_comment'] + final_df['negative_reply']\n",
    "final_df['neutral'] = final_df['neutral_comment'] + final_df['neutral_reply']\n",
    "\n",
    "# Tính tổng số comment và reply\n",
    "final_df['total'] = final_df['total_reply'] + final_df['total_cmt']\n",
    "\n",
    "final_df.drop(columns=['positive_comment', 'negative_comment', 'neutral_comment', 'total_reply', 'positive_reply', 'negative_reply', 'neutral_reply', 'total_cmt'], inplace=True)\n",
    "final_df.head()"
   ]
  }
 ],
 "metadata": {
  "kaggle": {
   "accelerator": "none",
   "dataSources": [
    {
     "sourceId": 235875445,
     "sourceType": "kernelVersion"
    },
    {
     "sourceId": 235886012,
     "sourceType": "kernelVersion"
    }
   ],
   "dockerImageVersionId": 31012,
   "isGpuEnabled": false,
   "isInternetEnabled": true,
   "language": "python",
   "sourceType": "notebook"
  },
  "kernelspec": {
   "display_name": "Python 3",
   "language": "python",
   "name": "python3"
  },
  "language_info": {
   "codemirror_mode": {
    "name": "ipython",
    "version": 3
   },
   "file_extension": ".py",
   "mimetype": "text/x-python",
   "name": "python",
   "nbconvert_exporter": "python",
   "pygments_lexer": "ipython3",
   "version": "3.11.11"
  },
  "papermill": {
   "default_parameters": {},
   "duration": 37.622014,
   "end_time": "2025-04-24T16:16:02.226492",
   "environment_variables": {},
   "exception": null,
   "input_path": "__notebook__.ipynb",
   "output_path": "__notebook__.ipynb",
   "parameters": {},
   "start_time": "2025-04-24T16:15:24.604478",
   "version": "2.6.0"
  }
 },
 "nbformat": 4,
 "nbformat_minor": 5
}
