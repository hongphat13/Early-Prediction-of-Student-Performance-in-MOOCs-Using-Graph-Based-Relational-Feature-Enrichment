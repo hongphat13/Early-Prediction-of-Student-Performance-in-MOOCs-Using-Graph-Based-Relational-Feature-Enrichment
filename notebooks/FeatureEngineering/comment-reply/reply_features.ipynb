{
 "cells": [
  {
   "cell_type": "code",
   "execution_count": 1,
   "id": "00fad0ae",
   "metadata": {
    "_cell_guid": "b1076dfc-b9ad-4769-8c92-a6c4dae69d19",
    "_uuid": "8f2839f25d086af736a60e9eeb907d3b93b6e0e5",
    "execution": {
     "iopub.execute_input": "2025-04-24T14:36:52.891581Z",
     "iopub.status.busy": "2025-04-24T14:36:52.891185Z",
     "iopub.status.idle": "2025-04-24T14:36:54.034782Z",
     "shell.execute_reply": "2025-04-24T14:36:54.033364Z"
    },
    "papermill": {
     "duration": 1.160226,
     "end_time": "2025-04-24T14:36:54.036819",
     "exception": false,
     "start_time": "2025-04-24T14:36:52.876593",
     "status": "completed"
    },
    "tags": []
   },
   "outputs": [
    {
     "name": "stdout",
     "output_type": "stream",
     "text": [
      "/kaggle/input/lightmooccubex/relations/course-teacher.txt\n",
      "/kaggle/input/lightmooccubex/relations/concept-comment.txt\n",
      "/kaggle/input/lightmooccubex/relations/user-video.json\n",
      "/kaggle/input/lightmooccubex/relations/course-comment.txt\n",
      "/kaggle/input/lightmooccubex/relations/concept-problem.txt\n",
      "/kaggle/input/lightmooccubex/relations/user-reply.txt\n",
      "/kaggle/input/lightmooccubex/relations/concept-video.txt\n",
      "/kaggle/input/lightmooccubex/relations/course-school.txt\n",
      "/kaggle/input/lightmooccubex/relations/user-comment.txt\n",
      "/kaggle/input/lightmooccubex/relations/exercise-problem.txt\n",
      "/kaggle/input/lightmooccubex/relations/concept-paper.txt\n",
      "/kaggle/input/lightmooccubex/relations/reply-reply.txt\n",
      "/kaggle/input/lightmooccubex/relations/course-field.json\n",
      "/kaggle/input/lightmooccubex/relations/video_id-ccid.txt\n",
      "/kaggle/input/lightmooccubex/relations/concept-reply.json\n",
      "/kaggle/input/lightmooccubex/relations/comment-reply.txt\n",
      "/kaggle/input/lightmooccubex/relations/concept-other.txt\n",
      "/kaggle/input/lightmooccubex/entities/comment.json\n",
      "/kaggle/input/lightmooccubex/entities/course.json\n",
      "/kaggle/input/lightmooccubex/entities/reply.json\n",
      "/kaggle/input/lightmooccubex/entities/school.json\n",
      "/kaggle/input/lightmooccubex/entities/video.json\n",
      "/kaggle/input/lightmooccubex/entities/other.json\n",
      "/kaggle/input/lightmooccubex/entities/problem.json\n",
      "/kaggle/input/lightmooccubex/entities/user.json\n",
      "/kaggle/input/lightmooccubex/entities/concept.json\n",
      "/kaggle/input/lightmooccubex/entities/teacher.json\n",
      "/kaggle/input/lightmooccubex/prerequisites/cs.json\n",
      "/kaggle/input/lightmooccubex/prerequisites/psy.json\n",
      "/kaggle/input/lightmooccubex/prerequisites/math.json\n"
     ]
    }
   ],
   "source": [
    "# This Python 3 environment comes with many helpful analytics libraries installed\n",
    "# It is defined by the kaggle/python Docker image: https://github.com/kaggle/docker-python\n",
    "# For example, here's several helpful packages to load\n",
    "\n",
    "import numpy as np # linear algebra\n",
    "import pandas as pd # data processing, CSV file I/O (e.g. pd.read_csv)\n",
    "\n",
    "# Input data files are available in the read-only \"../input/\" directory\n",
    "# For example, running this (by clicking run or pressing Shift+Enter) will list all files under the input directory\n",
    "\n",
    "import os\n",
    "for dirname, _, filenames in os.walk('/kaggle/input'):\n",
    "    for filename in filenames:\n",
    "        print(os.path.join(dirname, filename))\n",
    "\n",
    "# You can write up to 20GB to the current directory (/kaggle/working/) that gets preserved as output when you create a version using \"Save & Run All\" \n",
    "# You can also write temporary files to /kaggle/temp/, but they won't be saved outside of the current session"
   ]
  },
  {
   "cell_type": "code",
   "execution_count": 2,
   "id": "d41bc077",
   "metadata": {
    "execution": {
     "iopub.execute_input": "2025-04-24T14:36:54.064547Z",
     "iopub.status.busy": "2025-04-24T14:36:54.063999Z",
     "iopub.status.idle": "2025-04-24T14:36:56.634771Z",
     "shell.execute_reply": "2025-04-24T14:36:56.633649Z"
    },
    "papermill": {
     "duration": 2.587,
     "end_time": "2025-04-24T14:36:56.636770",
     "exception": false,
     "start_time": "2025-04-24T14:36:54.049770",
     "status": "completed"
    },
    "tags": []
   },
   "outputs": [],
   "source": [
    "import polars as pl\n",
    "from tqdm import tqdm\n",
    "import os\n",
    "import pandas as pd\n",
    "import json\n",
    "import matplotlib.pyplot as plt\n",
    "import seaborn as sns\n",
    "import numpy as np\n",
    "import scipy"
   ]
  },
  {
   "cell_type": "markdown",
   "id": "b38062dd",
   "metadata": {
    "papermill": {
     "duration": 0.012039,
     "end_time": "2025-04-24T14:36:56.661364",
     "exception": false,
     "start_time": "2025-04-24T14:36:56.649325",
     "status": "completed"
    },
    "tags": []
   },
   "source": [
    "# Import data"
   ]
  },
  {
   "cell_type": "code",
   "execution_count": 3,
   "id": "a8739c8b",
   "metadata": {
    "execution": {
     "iopub.execute_input": "2025-04-24T14:36:56.687413Z",
     "iopub.status.busy": "2025-04-24T14:36:56.686854Z",
     "iopub.status.idle": "2025-04-24T14:36:57.042703Z",
     "shell.execute_reply": "2025-04-24T14:36:57.041287Z"
    },
    "papermill": {
     "duration": 0.371264,
     "end_time": "2025-04-24T14:36:57.044756",
     "exception": false,
     "start_time": "2025-04-24T14:36:56.673492",
     "status": "completed"
    },
    "tags": []
   },
   "outputs": [
    {
     "data": {
      "text/html": [
       "<div><style>\n",
       ".dataframe > thead > tr,\n",
       ".dataframe > tbody > tr {\n",
       "  text-align: right;\n",
       "  white-space: pre-wrap;\n",
       "}\n",
       "</style>\n",
       "<small>shape: (5, 4)</small><table border=\"1\" class=\"dataframe\"><thead><tr><th>reply_id</th><th>user_id</th><th>text</th><th>create_time</th></tr><tr><td>str</td><td>str</td><td>str</td><td>str</td></tr></thead><tbody><tr><td>&quot;Rp_1&quot;</td><td>&quot;U_10030806&quot;</td><td>&quot;测试回复&quot;</td><td>&quot;2019-08-05 12:55:54&quot;</td></tr><tr><td>&quot;Rp_2&quot;</td><td>&quot;U_10031397&quot;</td><td>&quot;赞&quot;</td><td>&quot;2019-08-09 16:39:06&quot;</td></tr><tr><td>&quot;Rp_3&quot;</td><td>&quot;U_10031531&quot;</td><td>&quot;好喜欢&quot;</td><td>&quot;2019-08-10 22:39:35&quot;</td></tr><tr><td>&quot;Rp_4&quot;</td><td>&quot;U_10031508&quot;</td><td>&quot;你也好棒&quot;</td><td>&quot;2019-08-12 14:43:34&quot;</td></tr><tr><td>&quot;Rp_5&quot;</td><td>&quot;U_10031508&quot;</td><td>&quot;嗯对&quot;</td><td>&quot;2019-08-12 14:44:51&quot;</td></tr></tbody></table></div>"
      ],
      "text/plain": [
       "shape: (5, 4)\n",
       "┌──────────┬────────────┬──────────┬─────────────────────┐\n",
       "│ reply_id ┆ user_id    ┆ text     ┆ create_time         │\n",
       "│ ---      ┆ ---        ┆ ---      ┆ ---                 │\n",
       "│ str      ┆ str        ┆ str      ┆ str                 │\n",
       "╞══════════╪════════════╪══════════╪═════════════════════╡\n",
       "│ Rp_1     ┆ U_10030806 ┆ 测试回复 ┆ 2019-08-05 12:55:54 │\n",
       "│ Rp_2     ┆ U_10031397 ┆ 赞       ┆ 2019-08-09 16:39:06 │\n",
       "│ Rp_3     ┆ U_10031531 ┆ 好喜欢   ┆ 2019-08-10 22:39:35 │\n",
       "│ Rp_4     ┆ U_10031508 ┆ 你也好棒 ┆ 2019-08-12 14:43:34 │\n",
       "│ Rp_5     ┆ U_10031508 ┆ 嗯对     ┆ 2019-08-12 14:44:51 │\n",
       "└──────────┴────────────┴──────────┴─────────────────────┘"
      ]
     },
     "execution_count": 3,
     "metadata": {},
     "output_type": "execute_result"
    }
   ],
   "source": [
    "reply_df = pl.read_ndjson('/kaggle/input/lightmooccubex/entities/reply.json')\n",
    "reply_df = reply_df.rename({\"id\": \"reply_id\"})\n",
    "reply_df.head()"
   ]
  },
  {
   "cell_type": "code",
   "execution_count": 4,
   "id": "0611427b",
   "metadata": {
    "execution": {
     "iopub.execute_input": "2025-04-24T14:36:57.072406Z",
     "iopub.status.busy": "2025-04-24T14:36:57.072027Z",
     "iopub.status.idle": "2025-04-24T14:37:05.759273Z",
     "shell.execute_reply": "2025-04-24T14:37:05.758238Z"
    },
    "papermill": {
     "duration": 8.703338,
     "end_time": "2025-04-24T14:37:05.761228",
     "exception": false,
     "start_time": "2025-04-24T14:36:57.057890",
     "status": "completed"
    },
    "tags": []
   },
   "outputs": [
    {
     "data": {
      "text/html": [
       "<div><style>\n",
       ".dataframe > thead > tr,\n",
       ".dataframe > tbody > tr {\n",
       "  text-align: right;\n",
       "  white-space: pre-wrap;\n",
       "}\n",
       "</style>\n",
       "<small>shape: (5, 5)</small><table border=\"1\" class=\"dataframe\"><thead><tr><th>comment_id</th><th>user_id</th><th>text</th><th>resource_id</th><th>create_time</th></tr><tr><td>str</td><td>i64</td><td>str</td><td>str</td><td>str</td></tr></thead><tbody><tr><td>&quot;Cm_1&quot;</td><td>10030806</td><td>&quot;测试评论&quot;</td><td>null</td><td>&quot;2019-08-05 12:55:27&quot;</td></tr><tr><td>&quot;Cm_4&quot;</td><td>1705400</td><td>&quot;嗯嗯&quot;</td><td>null</td><td>&quot;2019-08-05 16:56:43&quot;</td></tr><tr><td>&quot;Cm_5&quot;</td><td>10031537</td><td>&quot;是的，我也看不到&quot;</td><td>null</td><td>&quot;2019-08-07 21:05:38&quot;</td></tr><tr><td>&quot;Cm_7&quot;</td><td>10031502</td><td>&quot;大师傅as&quot;</td><td>null</td><td>&quot;2019-08-09 13:06:06&quot;</td></tr><tr><td>&quot;Cm_12&quot;</td><td>10031397</td><td>&quot;点赞&quot;</td><td>null</td><td>&quot;2019-08-09 16:38:56&quot;</td></tr></tbody></table></div>"
      ],
      "text/plain": [
       "shape: (5, 5)\n",
       "┌────────────┬──────────┬──────────────────┬─────────────┬─────────────────────┐\n",
       "│ comment_id ┆ user_id  ┆ text             ┆ resource_id ┆ create_time         │\n",
       "│ ---        ┆ ---      ┆ ---              ┆ ---         ┆ ---                 │\n",
       "│ str        ┆ i64      ┆ str              ┆ str         ┆ str                 │\n",
       "╞════════════╪══════════╪══════════════════╪═════════════╪═════════════════════╡\n",
       "│ Cm_1       ┆ 10030806 ┆ 测试评论         ┆ null        ┆ 2019-08-05 12:55:27 │\n",
       "│ Cm_4       ┆ 1705400  ┆ 嗯嗯             ┆ null        ┆ 2019-08-05 16:56:43 │\n",
       "│ Cm_5       ┆ 10031537 ┆ 是的，我也看不到 ┆ null        ┆ 2019-08-07 21:05:38 │\n",
       "│ Cm_7       ┆ 10031502 ┆ 大师傅as         ┆ null        ┆ 2019-08-09 13:06:06 │\n",
       "│ Cm_12      ┆ 10031397 ┆ 点赞             ┆ null        ┆ 2019-08-09 16:38:56 │\n",
       "└────────────┴──────────┴──────────────────┴─────────────┴─────────────────────┘"
      ]
     },
     "execution_count": 4,
     "metadata": {},
     "output_type": "execute_result"
    }
   ],
   "source": [
    "comment_df = pl.read_ndjson('/kaggle/input/lightmooccubex/entities/comment.json')\n",
    "comment_df = comment_df.rename({\"id\": \"comment_id\"})\n",
    "comment_df.head()"
   ]
  },
  {
   "cell_type": "code",
   "execution_count": 5,
   "id": "123f5129",
   "metadata": {
    "execution": {
     "iopub.execute_input": "2025-04-24T14:37:05.787663Z",
     "iopub.status.busy": "2025-04-24T14:37:05.787222Z",
     "iopub.status.idle": "2025-04-24T14:37:44.636943Z",
     "shell.execute_reply": "2025-04-24T14:37:44.635865Z"
    },
    "papermill": {
     "duration": 38.876967,
     "end_time": "2025-04-24T14:37:44.650848",
     "exception": false,
     "start_time": "2025-04-24T14:37:05.773881",
     "status": "completed"
    },
    "tags": []
   },
   "outputs": [
    {
     "data": {
      "text/html": [
       "<div><style>\n",
       ".dataframe > thead > tr,\n",
       ".dataframe > tbody > tr {\n",
       "  text-align: right;\n",
       "  white-space: pre-wrap;\n",
       "}\n",
       "</style>\n",
       "<small>shape: (5, 7)</small><table border=\"1\" class=\"dataframe\"><thead><tr><th>user_id</th><th>name</th><th>gender</th><th>school</th><th>year_of_birth</th><th>course_order</th><th>enroll_time</th></tr><tr><td>str</td><td>str</td><td>i64</td><td>str</td><td>i64</td><td>list[i64]</td><td>list[str]</td></tr></thead><tbody><tr><td>&quot;U_22&quot;</td><td>&quot;我&quot;</td><td>0</td><td>&quot;&quot;</td><td>2015</td><td>[682129, 2294668]</td><td>[&quot;2019-10-12 10:28:02&quot;, &quot;2020-11-21 14:03:28&quot;]</td></tr><tr><td>&quot;U_24&quot;</td><td>&quot;王帅国&quot;</td><td>1</td><td>&quot;清华大学&quot;</td><td>6558</td><td>[597214, 605512, … 2229905]</td><td>[&quot;2019-05-20 16:06:48&quot;, &quot;2019-05-24 19:34:43&quot;, … &quot;2020-11-21 11:38:57&quot;]</td></tr><tr><td>&quot;U_25&quot;</td><td>&quot;王帅国&quot;</td><td>0</td><td>&quot;清华大学&quot;</td><td>null</td><td>[1903985]</td><td>[&quot;2020-08-07 18:59:13&quot;]</td></tr><tr><td>&quot;U_53&quot;</td><td>&quot;于歆杰&quot;</td><td>1</td><td>&quot;清华大学&quot;</td><td>1973</td><td>[696679, 1704639, … 1794464]</td><td>[&quot;2020-03-01 21:24:30&quot;, &quot;2020-03-12 16:17:02&quot;, … &quot;2020-06-18 18:47:15&quot;]</td></tr><tr><td>&quot;U_54&quot;</td><td>&quot;马昱春&quot;</td><td>2</td><td>&quot;清华大学&quot;</td><td>null</td><td>[682442, 682164, … 1906706]</td><td>[&quot;2019-10-09 02:17:49&quot;, &quot;2019-11-08 00:49:03&quot;, … &quot;2020-07-20 11:27:28&quot;]</td></tr></tbody></table></div>"
      ],
      "text/plain": [
       "shape: (5, 7)\n",
       "┌─────────┬────────┬────────┬──────────┬───────────────┬─────────────────────┬─────────────────────┐\n",
       "│ user_id ┆ name   ┆ gender ┆ school   ┆ year_of_birth ┆ course_order        ┆ enroll_time         │\n",
       "│ ---     ┆ ---    ┆ ---    ┆ ---      ┆ ---           ┆ ---                 ┆ ---                 │\n",
       "│ str     ┆ str    ┆ i64    ┆ str      ┆ i64           ┆ list[i64]           ┆ list[str]           │\n",
       "╞═════════╪════════╪════════╪══════════╪═══════════════╪═════════════════════╪═════════════════════╡\n",
       "│ U_22    ┆ 我     ┆ 0      ┆          ┆ 2015          ┆ [682129, 2294668]   ┆ [\"2019-10-12        │\n",
       "│         ┆        ┆        ┆          ┆               ┆                     ┆ 10:28:02\", \"2020-…  │\n",
       "│ U_24    ┆ 王帅国 ┆ 1      ┆ 清华大学 ┆ 6558          ┆ [597214, 605512, …  ┆ [\"2019-05-20        │\n",
       "│         ┆        ┆        ┆          ┆               ┆ 2229905]            ┆ 16:06:48\", \"2019-…  │\n",
       "│ U_25    ┆ 王帅国 ┆ 0      ┆ 清华大学 ┆ null          ┆ [1903985]           ┆ [\"2020-08-07        │\n",
       "│         ┆        ┆        ┆          ┆               ┆                     ┆ 18:59:13\"]          │\n",
       "│ U_53    ┆ 于歆杰 ┆ 1      ┆ 清华大学 ┆ 1973          ┆ [696679, 1704639, … ┆ [\"2020-03-01        │\n",
       "│         ┆        ┆        ┆          ┆               ┆ 1794464]            ┆ 21:24:30\", \"2020-…  │\n",
       "│ U_54    ┆ 马昱春 ┆ 2      ┆ 清华大学 ┆ null          ┆ [682442, 682164, …  ┆ [\"2019-10-09        │\n",
       "│         ┆        ┆        ┆          ┆               ┆ 1906706]            ┆ 02:17:49\", \"2019-…  │\n",
       "└─────────┴────────┴────────┴──────────┴───────────────┴─────────────────────┴─────────────────────┘"
      ]
     },
     "execution_count": 5,
     "metadata": {},
     "output_type": "execute_result"
    }
   ],
   "source": [
    "user_df = pl.read_ndjson('/kaggle/input/lightmooccubex/entities/user.json')\n",
    "user_df = user_df.rename({\"id\": \"user_id\"})\n",
    "user_df.head()"
   ]
  },
  {
   "cell_type": "code",
   "execution_count": 6,
   "id": "2a7287ca",
   "metadata": {
    "execution": {
     "iopub.execute_input": "2025-04-24T14:37:44.678276Z",
     "iopub.status.busy": "2025-04-24T14:37:44.677926Z",
     "iopub.status.idle": "2025-04-24T14:37:57.975265Z",
     "shell.execute_reply": "2025-04-24T14:37:57.974145Z"
    },
    "papermill": {
     "duration": 13.312886,
     "end_time": "2025-04-24T14:37:57.976956",
     "exception": false,
     "start_time": "2025-04-24T14:37:44.664070",
     "status": "completed"
    },
    "tags": []
   },
   "outputs": [
    {
     "data": {
      "text/html": [
       "<div>\n",
       "<style scoped>\n",
       "    .dataframe tbody tr th:only-of-type {\n",
       "        vertical-align: middle;\n",
       "    }\n",
       "\n",
       "    .dataframe tbody tr th {\n",
       "        vertical-align: top;\n",
       "    }\n",
       "\n",
       "    .dataframe thead th {\n",
       "        text-align: right;\n",
       "    }\n",
       "</style>\n",
       "<table border=\"1\" class=\"dataframe\">\n",
       "  <thead>\n",
       "    <tr style=\"text-align: right;\">\n",
       "      <th></th>\n",
       "      <th>course_id</th>\n",
       "      <th>comment_id</th>\n",
       "    </tr>\n",
       "  </thead>\n",
       "  <tbody>\n",
       "    <tr>\n",
       "      <th>0</th>\n",
       "      <td>C_597284</td>\n",
       "      <td>Cm_4</td>\n",
       "    </tr>\n",
       "    <tr>\n",
       "      <th>1</th>\n",
       "      <td>C_597334</td>\n",
       "      <td>Cm_61</td>\n",
       "    </tr>\n",
       "    <tr>\n",
       "      <th>2</th>\n",
       "      <td>C_682246</td>\n",
       "      <td>Cm_74</td>\n",
       "    </tr>\n",
       "    <tr>\n",
       "      <th>3</th>\n",
       "      <td>C_697602</td>\n",
       "      <td>Cm_83</td>\n",
       "    </tr>\n",
       "    <tr>\n",
       "      <th>4</th>\n",
       "      <td>C_605983</td>\n",
       "      <td>Cm_88</td>\n",
       "    </tr>\n",
       "  </tbody>\n",
       "</table>\n",
       "</div>"
      ],
      "text/plain": [
       "  course_id comment_id\n",
       "0  C_597284       Cm_4\n",
       "1  C_597334      Cm_61\n",
       "2  C_682246      Cm_74\n",
       "3  C_697602      Cm_83\n",
       "4  C_605983      Cm_88"
      ]
     },
     "execution_count": 6,
     "metadata": {},
     "output_type": "execute_result"
    }
   ],
   "source": [
    "course_comment = pd.read_csv('/kaggle/input/lightmooccubex/relations/course-comment.txt', \n",
    "                             sep=\"\\t\", header=None, names=[\"course_id\", \"comment_id\"])\n",
    "course_comment.head()"
   ]
  },
  {
   "cell_type": "code",
   "execution_count": 7,
   "id": "f2265b26",
   "metadata": {
    "execution": {
     "iopub.execute_input": "2025-04-24T14:37:58.010911Z",
     "iopub.status.busy": "2025-04-24T14:37:58.010555Z",
     "iopub.status.idle": "2025-04-24T14:37:58.579636Z",
     "shell.execute_reply": "2025-04-24T14:37:58.578443Z"
    },
    "papermill": {
     "duration": 0.589774,
     "end_time": "2025-04-24T14:37:58.581431",
     "exception": false,
     "start_time": "2025-04-24T14:37:57.991657",
     "status": "completed"
    },
    "tags": []
   },
   "outputs": [
    {
     "data": {
      "text/html": [
       "<div>\n",
       "<style scoped>\n",
       "    .dataframe tbody tr th:only-of-type {\n",
       "        vertical-align: middle;\n",
       "    }\n",
       "\n",
       "    .dataframe tbody tr th {\n",
       "        vertical-align: top;\n",
       "    }\n",
       "\n",
       "    .dataframe thead th {\n",
       "        text-align: right;\n",
       "    }\n",
       "</style>\n",
       "<table border=\"1\" class=\"dataframe\">\n",
       "  <thead>\n",
       "    <tr style=\"text-align: right;\">\n",
       "      <th></th>\n",
       "      <th>comment_id</th>\n",
       "      <th>reply_id</th>\n",
       "    </tr>\n",
       "  </thead>\n",
       "  <tbody>\n",
       "    <tr>\n",
       "      <th>0</th>\n",
       "      <td>Cm_1</td>\n",
       "      <td>Rp_1</td>\n",
       "    </tr>\n",
       "    <tr>\n",
       "      <th>1</th>\n",
       "      <td>Cm_12</td>\n",
       "      <td>Rp_2</td>\n",
       "    </tr>\n",
       "    <tr>\n",
       "      <th>2</th>\n",
       "      <td>Cm_24</td>\n",
       "      <td>Rp_3</td>\n",
       "    </tr>\n",
       "    <tr>\n",
       "      <th>3</th>\n",
       "      <td>Cm_43</td>\n",
       "      <td>Rp_4</td>\n",
       "    </tr>\n",
       "    <tr>\n",
       "      <th>4</th>\n",
       "      <td>Cm_44</td>\n",
       "      <td>Rp_5</td>\n",
       "    </tr>\n",
       "  </tbody>\n",
       "</table>\n",
       "</div>"
      ],
      "text/plain": [
       "  comment_id reply_id\n",
       "0       Cm_1     Rp_1\n",
       "1      Cm_12     Rp_2\n",
       "2      Cm_24     Rp_3\n",
       "3      Cm_43     Rp_4\n",
       "4      Cm_44     Rp_5"
      ]
     },
     "execution_count": 7,
     "metadata": {},
     "output_type": "execute_result"
    }
   ],
   "source": [
    "comment_reply = pd.read_csv('/kaggle/input/lightmooccubex/relations/comment-reply.txt',\n",
    "                             sep=\"\\t\", header=None, names=[\"comment_id\", \"reply_id\"])\n",
    "\n",
    "comment_reply.head()"
   ]
  },
  {
   "cell_type": "code",
   "execution_count": 8,
   "id": "012b0032",
   "metadata": {
    "execution": {
     "iopub.execute_input": "2025-04-24T14:37:58.609386Z",
     "iopub.status.busy": "2025-04-24T14:37:58.609047Z",
     "iopub.status.idle": "2025-04-24T14:37:58.635891Z",
     "shell.execute_reply": "2025-04-24T14:37:58.634928Z"
    },
    "papermill": {
     "duration": 0.042849,
     "end_time": "2025-04-24T14:37:58.637744",
     "exception": false,
     "start_time": "2025-04-24T14:37:58.594895",
     "status": "completed"
    },
    "tags": []
   },
   "outputs": [
    {
     "data": {
      "text/html": [
       "<div>\n",
       "<style scoped>\n",
       "    .dataframe tbody tr th:only-of-type {\n",
       "        vertical-align: middle;\n",
       "    }\n",
       "\n",
       "    .dataframe tbody tr th {\n",
       "        vertical-align: top;\n",
       "    }\n",
       "\n",
       "    .dataframe thead th {\n",
       "        text-align: right;\n",
       "    }\n",
       "</style>\n",
       "<table border=\"1\" class=\"dataframe\">\n",
       "  <thead>\n",
       "    <tr style=\"text-align: right;\">\n",
       "      <th></th>\n",
       "      <th>reply_of_rep_id</th>\n",
       "      <th>reply_id</th>\n",
       "    </tr>\n",
       "  </thead>\n",
       "  <tbody>\n",
       "    <tr>\n",
       "      <th>0</th>\n",
       "      <td>Rp_19</td>\n",
       "      <td>Rp_18</td>\n",
       "    </tr>\n",
       "    <tr>\n",
       "      <th>1</th>\n",
       "      <td>Rp_25</td>\n",
       "      <td>Rp_24</td>\n",
       "    </tr>\n",
       "    <tr>\n",
       "      <th>2</th>\n",
       "      <td>Rp_46</td>\n",
       "      <td>Rp_40</td>\n",
       "    </tr>\n",
       "    <tr>\n",
       "      <th>3</th>\n",
       "      <td>Rp_55</td>\n",
       "      <td>Rp_28</td>\n",
       "    </tr>\n",
       "    <tr>\n",
       "      <th>4</th>\n",
       "      <td>Rp_62</td>\n",
       "      <td>Rp_61</td>\n",
       "    </tr>\n",
       "  </tbody>\n",
       "</table>\n",
       "</div>"
      ],
      "text/plain": [
       "  reply_of_rep_id reply_id\n",
       "0           Rp_19    Rp_18\n",
       "1           Rp_25    Rp_24\n",
       "2           Rp_46    Rp_40\n",
       "3           Rp_55    Rp_28\n",
       "4           Rp_62    Rp_61"
      ]
     },
     "execution_count": 8,
     "metadata": {},
     "output_type": "execute_result"
    }
   ],
   "source": [
    "reply_reply = pd.read_csv('/kaggle/input/lightmooccubex/relations/reply-reply.txt',\n",
    "                             sep=\"\\t\", header=None, names=[\"reply_of_rep_id\", \"reply_id\"])\n",
    "\n",
    "reply_reply.head()"
   ]
  },
  {
   "cell_type": "markdown",
   "id": "e325c7e0",
   "metadata": {
    "papermill": {
     "duration": 0.012516,
     "end_time": "2025-04-24T14:37:58.663748",
     "exception": false,
     "start_time": "2025-04-24T14:37:58.651232",
     "status": "completed"
    },
    "tags": []
   },
   "source": [
    "# EDA cơ bản"
   ]
  },
  {
   "cell_type": "code",
   "execution_count": 9,
   "id": "9f87a4c5",
   "metadata": {
    "execution": {
     "iopub.execute_input": "2025-04-24T14:37:58.691020Z",
     "iopub.status.busy": "2025-04-24T14:37:58.690687Z",
     "iopub.status.idle": "2025-04-24T14:37:59.726393Z",
     "shell.execute_reply": "2025-04-24T14:37:59.725212Z"
    },
    "papermill": {
     "duration": 1.051218,
     "end_time": "2025-04-24T14:37:59.728224",
     "exception": false,
     "start_time": "2025-04-24T14:37:58.677006",
     "status": "completed"
    },
    "tags": []
   },
   "outputs": [
    {
     "name": "stdout",
     "output_type": "stream",
     "text": [
      "<class 'pandas.core.frame.DataFrame'>\n",
      "RangeIndex: 331011 entries, 0 to 331010\n",
      "Data columns (total 4 columns):\n",
      " #   Column       Non-Null Count   Dtype \n",
      "---  ------       --------------   ----- \n",
      " 0   reply_id     331011 non-null  object\n",
      " 1   user_id      331011 non-null  object\n",
      " 2   text         331011 non-null  object\n",
      " 3   create_time  331011 non-null  object\n",
      "dtypes: object(4)\n",
      "memory usage: 10.1+ MB\n"
     ]
    }
   ],
   "source": [
    "reply_pd = reply_df.to_pandas()\n",
    "reply_pd.info()"
   ]
  },
  {
   "cell_type": "code",
   "execution_count": 10,
   "id": "1784d751",
   "metadata": {
    "execution": {
     "iopub.execute_input": "2025-04-24T14:37:59.755982Z",
     "iopub.status.busy": "2025-04-24T14:37:59.755583Z",
     "iopub.status.idle": "2025-04-24T14:38:18.793599Z",
     "shell.execute_reply": "2025-04-24T14:38:18.792286Z"
    },
    "papermill": {
     "duration": 19.054002,
     "end_time": "2025-04-24T14:38:18.795476",
     "exception": false,
     "start_time": "2025-04-24T14:37:59.741474",
     "status": "completed"
    },
    "tags": []
   },
   "outputs": [
    {
     "name": "stdout",
     "output_type": "stream",
     "text": [
      "<class 'pandas.core.frame.DataFrame'>\n",
      "RangeIndex: 8395141 entries, 0 to 8395140\n",
      "Data columns (total 5 columns):\n",
      " #   Column       Dtype \n",
      "---  ------       ----- \n",
      " 0   comment_id   object\n",
      " 1   user_id      int64 \n",
      " 2   text         object\n",
      " 3   resource_id  object\n",
      " 4   create_time  object\n",
      "dtypes: int64(1), object(4)\n",
      "memory usage: 320.2+ MB\n"
     ]
    }
   ],
   "source": [
    "comment_pd = comment_df.to_pandas()\n",
    "comment_pd.info()"
   ]
  },
  {
   "cell_type": "code",
   "execution_count": 11,
   "id": "ec86f1ea",
   "metadata": {
    "execution": {
     "iopub.execute_input": "2025-04-24T14:38:18.823436Z",
     "iopub.status.busy": "2025-04-24T14:38:18.823056Z",
     "iopub.status.idle": "2025-04-24T14:38:32.173384Z",
     "shell.execute_reply": "2025-04-24T14:38:32.171883Z"
    },
    "papermill": {
     "duration": 13.36612,
     "end_time": "2025-04-24T14:38:32.175017",
     "exception": false,
     "start_time": "2025-04-24T14:38:18.808897",
     "status": "completed"
    },
    "tags": []
   },
   "outputs": [
    {
     "name": "stdout",
     "output_type": "stream",
     "text": [
      "<class 'pandas.core.frame.DataFrame'>\n",
      "RangeIndex: 3330294 entries, 0 to 3330293\n",
      "Data columns (total 7 columns):\n",
      " #   Column         Dtype  \n",
      "---  ------         -----  \n",
      " 0   user_id        object \n",
      " 1   name           object \n",
      " 2   gender         float64\n",
      " 3   school         object \n",
      " 4   year_of_birth  float64\n",
      " 5   course_order   object \n",
      " 6   enroll_time    object \n",
      "dtypes: float64(2), object(5)\n",
      "memory usage: 177.9+ MB\n"
     ]
    }
   ],
   "source": [
    "user_pd = user_df.to_pandas()\n",
    "user_pd.info()"
   ]
  },
  {
   "cell_type": "code",
   "execution_count": 12,
   "id": "71c55224",
   "metadata": {
    "execution": {
     "iopub.execute_input": "2025-04-24T14:38:32.203756Z",
     "iopub.status.busy": "2025-04-24T14:38:32.203334Z",
     "iopub.status.idle": "2025-04-24T14:38:32.653884Z",
     "shell.execute_reply": "2025-04-24T14:38:32.652624Z"
    },
    "papermill": {
     "duration": 0.46685,
     "end_time": "2025-04-24T14:38:32.655436",
     "exception": false,
     "start_time": "2025-04-24T14:38:32.188586",
     "status": "completed"
    },
    "tags": []
   },
   "outputs": [
    {
     "name": "stdout",
     "output_type": "stream",
     "text": [
      "Series([], Name: count, dtype: int64)\n"
     ]
    }
   ],
   "source": [
    "comments_per_reply_counts = comment_reply[\"reply_id\"].value_counts() # Check số comments thuộc về 1 reply\n",
    "multiple_replies = comments_per_reply_counts[comments_per_reply_counts > 1]\n",
    "\n",
    "print(multiple_replies)"
   ]
  },
  {
   "cell_type": "markdown",
   "id": "48f9763c",
   "metadata": {
    "papermill": {
     "duration": 0.013347,
     "end_time": "2025-04-24T14:38:32.681986",
     "exception": false,
     "start_time": "2025-04-24T14:38:32.668639",
     "status": "completed"
    },
    "tags": []
   },
   "source": [
    "# Gộp các file"
   ]
  },
  {
   "cell_type": "code",
   "execution_count": 13,
   "id": "a3933ec6",
   "metadata": {
    "execution": {
     "iopub.execute_input": "2025-04-24T14:38:32.710164Z",
     "iopub.status.busy": "2025-04-24T14:38:32.709830Z",
     "iopub.status.idle": "2025-04-24T14:38:33.053809Z",
     "shell.execute_reply": "2025-04-24T14:38:33.052765Z"
    },
    "papermill": {
     "duration": 0.360276,
     "end_time": "2025-04-24T14:38:33.055449",
     "exception": false,
     "start_time": "2025-04-24T14:38:32.695173",
     "status": "completed"
    },
    "tags": []
   },
   "outputs": [
    {
     "data": {
      "text/html": [
       "<div>\n",
       "<style scoped>\n",
       "    .dataframe tbody tr th:only-of-type {\n",
       "        vertical-align: middle;\n",
       "    }\n",
       "\n",
       "    .dataframe tbody tr th {\n",
       "        vertical-align: top;\n",
       "    }\n",
       "\n",
       "    .dataframe thead th {\n",
       "        text-align: right;\n",
       "    }\n",
       "</style>\n",
       "<table border=\"1\" class=\"dataframe\">\n",
       "  <thead>\n",
       "    <tr style=\"text-align: right;\">\n",
       "      <th></th>\n",
       "      <th>reply_id</th>\n",
       "      <th>user_id</th>\n",
       "      <th>text</th>\n",
       "      <th>create_time</th>\n",
       "      <th>comment_id</th>\n",
       "    </tr>\n",
       "  </thead>\n",
       "  <tbody>\n",
       "    <tr>\n",
       "      <th>0</th>\n",
       "      <td>Rp_1</td>\n",
       "      <td>U_10030806</td>\n",
       "      <td>测试回复</td>\n",
       "      <td>2019-08-05 12:55:54</td>\n",
       "      <td>Cm_1</td>\n",
       "    </tr>\n",
       "    <tr>\n",
       "      <th>1</th>\n",
       "      <td>Rp_2</td>\n",
       "      <td>U_10031397</td>\n",
       "      <td>赞</td>\n",
       "      <td>2019-08-09 16:39:06</td>\n",
       "      <td>Cm_12</td>\n",
       "    </tr>\n",
       "    <tr>\n",
       "      <th>2</th>\n",
       "      <td>Rp_3</td>\n",
       "      <td>U_10031531</td>\n",
       "      <td>好喜欢</td>\n",
       "      <td>2019-08-10 22:39:35</td>\n",
       "      <td>Cm_24</td>\n",
       "    </tr>\n",
       "    <tr>\n",
       "      <th>3</th>\n",
       "      <td>Rp_4</td>\n",
       "      <td>U_10031508</td>\n",
       "      <td>你也好棒</td>\n",
       "      <td>2019-08-12 14:43:34</td>\n",
       "      <td>Cm_43</td>\n",
       "    </tr>\n",
       "    <tr>\n",
       "      <th>4</th>\n",
       "      <td>Rp_5</td>\n",
       "      <td>U_10031508</td>\n",
       "      <td>嗯对</td>\n",
       "      <td>2019-08-12 14:44:51</td>\n",
       "      <td>Cm_44</td>\n",
       "    </tr>\n",
       "    <tr>\n",
       "      <th>5</th>\n",
       "      <td>Rp_6</td>\n",
       "      <td>U_10031508</td>\n",
       "      <td>人工智能是</td>\n",
       "      <td>2019-08-12 14:47:58</td>\n",
       "      <td>Cm_45</td>\n",
       "    </tr>\n",
       "    <tr>\n",
       "      <th>6</th>\n",
       "      <td>Rp_7</td>\n",
       "      <td>U_10031536</td>\n",
       "      <td>我的观点就是，你说啥就时啥</td>\n",
       "      <td>2019-08-13 09:41:32</td>\n",
       "      <td>Cm_60</td>\n",
       "    </tr>\n",
       "    <tr>\n",
       "      <th>7</th>\n",
       "      <td>Rp_8</td>\n",
       "      <td>U_10031536</td>\n",
       "      <td>我的观点就是，你说啥就时啥</td>\n",
       "      <td>2019-08-13 09:41:42</td>\n",
       "      <td>Cm_60</td>\n",
       "    </tr>\n",
       "    <tr>\n",
       "      <th>8</th>\n",
       "      <td>Rp_9</td>\n",
       "      <td>U_10031536</td>\n",
       "      <td>我的观点就是，你说啥就时啥</td>\n",
       "      <td>2019-08-13 09:41:53</td>\n",
       "      <td>Cm_59</td>\n",
       "    </tr>\n",
       "    <tr>\n",
       "      <th>9</th>\n",
       "      <td>Rp_10</td>\n",
       "      <td>U_10031536</td>\n",
       "      <td>我的观点就是，你说啥就时啥</td>\n",
       "      <td>2019-08-13 09:41:59</td>\n",
       "      <td>Cm_59</td>\n",
       "    </tr>\n",
       "  </tbody>\n",
       "</table>\n",
       "</div>"
      ],
      "text/plain": [
       "  reply_id     user_id           text          create_time comment_id\n",
       "0     Rp_1  U_10030806           测试回复  2019-08-05 12:55:54       Cm_1\n",
       "1     Rp_2  U_10031397              赞  2019-08-09 16:39:06      Cm_12\n",
       "2     Rp_3  U_10031531            好喜欢  2019-08-10 22:39:35      Cm_24\n",
       "3     Rp_4  U_10031508           你也好棒  2019-08-12 14:43:34      Cm_43\n",
       "4     Rp_5  U_10031508             嗯对  2019-08-12 14:44:51      Cm_44\n",
       "5     Rp_6  U_10031508          人工智能是  2019-08-12 14:47:58      Cm_45\n",
       "6     Rp_7  U_10031536  我的观点就是，你说啥就时啥  2019-08-13 09:41:32      Cm_60\n",
       "7     Rp_8  U_10031536  我的观点就是，你说啥就时啥  2019-08-13 09:41:42      Cm_60\n",
       "8     Rp_9  U_10031536  我的观点就是，你说啥就时啥  2019-08-13 09:41:53      Cm_59\n",
       "9    Rp_10  U_10031536  我的观点就是，你说啥就时啥  2019-08-13 09:41:59      Cm_59"
      ]
     },
     "execution_count": 13,
     "metadata": {},
     "output_type": "execute_result"
    }
   ],
   "source": [
    "reply_data = reply_pd.merge(comment_reply, on=\"reply_id\", how=\"left\")\n",
    "reply_data.head(10)"
   ]
  },
  {
   "cell_type": "code",
   "execution_count": 14,
   "id": "660946cb",
   "metadata": {
    "execution": {
     "iopub.execute_input": "2025-04-24T14:38:33.084705Z",
     "iopub.status.busy": "2025-04-24T14:38:33.084274Z",
     "iopub.status.idle": "2025-04-24T14:38:33.183817Z",
     "shell.execute_reply": "2025-04-24T14:38:33.182853Z"
    },
    "papermill": {
     "duration": 0.116009,
     "end_time": "2025-04-24T14:38:33.185345",
     "exception": false,
     "start_time": "2025-04-24T14:38:33.069336",
     "status": "completed"
    },
    "tags": []
   },
   "outputs": [
    {
     "data": {
      "text/plain": [
       "reply_id       0\n",
       "user_id        0\n",
       "text           0\n",
       "create_time    0\n",
       "comment_id     0\n",
       "dtype: int64"
      ]
     },
     "execution_count": 14,
     "metadata": {},
     "output_type": "execute_result"
    }
   ],
   "source": [
    "reply_data.isnull().sum()"
   ]
  },
  {
   "cell_type": "code",
   "execution_count": 15,
   "id": "222e3a37",
   "metadata": {
    "execution": {
     "iopub.execute_input": "2025-04-24T14:38:33.213907Z",
     "iopub.status.busy": "2025-04-24T14:38:33.213568Z",
     "iopub.status.idle": "2025-04-24T14:38:46.788176Z",
     "shell.execute_reply": "2025-04-24T14:38:46.787127Z"
    },
    "papermill": {
     "duration": 13.59084,
     "end_time": "2025-04-24T14:38:46.789970",
     "exception": false,
     "start_time": "2025-04-24T14:38:33.199130",
     "status": "completed"
    },
    "tags": []
   },
   "outputs": [
    {
     "data": {
      "text/html": [
       "<div>\n",
       "<style scoped>\n",
       "    .dataframe tbody tr th:only-of-type {\n",
       "        vertical-align: middle;\n",
       "    }\n",
       "\n",
       "    .dataframe tbody tr th {\n",
       "        vertical-align: top;\n",
       "    }\n",
       "\n",
       "    .dataframe thead th {\n",
       "        text-align: right;\n",
       "    }\n",
       "</style>\n",
       "<table border=\"1\" class=\"dataframe\">\n",
       "  <thead>\n",
       "    <tr style=\"text-align: right;\">\n",
       "      <th></th>\n",
       "      <th>reply_id</th>\n",
       "      <th>user_id</th>\n",
       "      <th>text</th>\n",
       "      <th>create_time</th>\n",
       "      <th>comment_id</th>\n",
       "      <th>course_id</th>\n",
       "    </tr>\n",
       "  </thead>\n",
       "  <tbody>\n",
       "    <tr>\n",
       "      <th>0</th>\n",
       "      <td>Rp_1</td>\n",
       "      <td>U_10030806</td>\n",
       "      <td>测试回复</td>\n",
       "      <td>2019-08-05 12:55:54</td>\n",
       "      <td>Cm_1</td>\n",
       "      <td>NaN</td>\n",
       "    </tr>\n",
       "    <tr>\n",
       "      <th>1</th>\n",
       "      <td>Rp_2</td>\n",
       "      <td>U_10031397</td>\n",
       "      <td>赞</td>\n",
       "      <td>2019-08-09 16:39:06</td>\n",
       "      <td>Cm_12</td>\n",
       "      <td>NaN</td>\n",
       "    </tr>\n",
       "    <tr>\n",
       "      <th>2</th>\n",
       "      <td>Rp_3</td>\n",
       "      <td>U_10031531</td>\n",
       "      <td>好喜欢</td>\n",
       "      <td>2019-08-10 22:39:35</td>\n",
       "      <td>Cm_24</td>\n",
       "      <td>NaN</td>\n",
       "    </tr>\n",
       "    <tr>\n",
       "      <th>3</th>\n",
       "      <td>Rp_4</td>\n",
       "      <td>U_10031508</td>\n",
       "      <td>你也好棒</td>\n",
       "      <td>2019-08-12 14:43:34</td>\n",
       "      <td>Cm_43</td>\n",
       "      <td>NaN</td>\n",
       "    </tr>\n",
       "    <tr>\n",
       "      <th>4</th>\n",
       "      <td>Rp_5</td>\n",
       "      <td>U_10031508</td>\n",
       "      <td>嗯对</td>\n",
       "      <td>2019-08-12 14:44:51</td>\n",
       "      <td>Cm_44</td>\n",
       "      <td>NaN</td>\n",
       "    </tr>\n",
       "    <tr>\n",
       "      <th>5</th>\n",
       "      <td>Rp_6</td>\n",
       "      <td>U_10031508</td>\n",
       "      <td>人工智能是</td>\n",
       "      <td>2019-08-12 14:47:58</td>\n",
       "      <td>Cm_45</td>\n",
       "      <td>NaN</td>\n",
       "    </tr>\n",
       "    <tr>\n",
       "      <th>6</th>\n",
       "      <td>Rp_7</td>\n",
       "      <td>U_10031536</td>\n",
       "      <td>我的观点就是，你说啥就时啥</td>\n",
       "      <td>2019-08-13 09:41:32</td>\n",
       "      <td>Cm_60</td>\n",
       "      <td>NaN</td>\n",
       "    </tr>\n",
       "    <tr>\n",
       "      <th>7</th>\n",
       "      <td>Rp_8</td>\n",
       "      <td>U_10031536</td>\n",
       "      <td>我的观点就是，你说啥就时啥</td>\n",
       "      <td>2019-08-13 09:41:42</td>\n",
       "      <td>Cm_60</td>\n",
       "      <td>NaN</td>\n",
       "    </tr>\n",
       "    <tr>\n",
       "      <th>8</th>\n",
       "      <td>Rp_9</td>\n",
       "      <td>U_10031536</td>\n",
       "      <td>我的观点就是，你说啥就时啥</td>\n",
       "      <td>2019-08-13 09:41:53</td>\n",
       "      <td>Cm_59</td>\n",
       "      <td>NaN</td>\n",
       "    </tr>\n",
       "    <tr>\n",
       "      <th>9</th>\n",
       "      <td>Rp_10</td>\n",
       "      <td>U_10031536</td>\n",
       "      <td>我的观点就是，你说啥就时啥</td>\n",
       "      <td>2019-08-13 09:41:59</td>\n",
       "      <td>Cm_59</td>\n",
       "      <td>NaN</td>\n",
       "    </tr>\n",
       "  </tbody>\n",
       "</table>\n",
       "</div>"
      ],
      "text/plain": [
       "  reply_id     user_id           text          create_time comment_id  \\\n",
       "0     Rp_1  U_10030806           测试回复  2019-08-05 12:55:54       Cm_1   \n",
       "1     Rp_2  U_10031397              赞  2019-08-09 16:39:06      Cm_12   \n",
       "2     Rp_3  U_10031531            好喜欢  2019-08-10 22:39:35      Cm_24   \n",
       "3     Rp_4  U_10031508           你也好棒  2019-08-12 14:43:34      Cm_43   \n",
       "4     Rp_5  U_10031508             嗯对  2019-08-12 14:44:51      Cm_44   \n",
       "5     Rp_6  U_10031508          人工智能是  2019-08-12 14:47:58      Cm_45   \n",
       "6     Rp_7  U_10031536  我的观点就是，你说啥就时啥  2019-08-13 09:41:32      Cm_60   \n",
       "7     Rp_8  U_10031536  我的观点就是，你说啥就时啥  2019-08-13 09:41:42      Cm_60   \n",
       "8     Rp_9  U_10031536  我的观点就是，你说啥就时啥  2019-08-13 09:41:53      Cm_59   \n",
       "9    Rp_10  U_10031536  我的观点就是，你说啥就时啥  2019-08-13 09:41:59      Cm_59   \n",
       "\n",
       "  course_id  \n",
       "0       NaN  \n",
       "1       NaN  \n",
       "2       NaN  \n",
       "3       NaN  \n",
       "4       NaN  \n",
       "5       NaN  \n",
       "6       NaN  \n",
       "7       NaN  \n",
       "8       NaN  \n",
       "9       NaN  "
      ]
     },
     "execution_count": 15,
     "metadata": {},
     "output_type": "execute_result"
    }
   ],
   "source": [
    "reply_data = reply_data.merge(course_comment, on=\"comment_id\", how=\"left\")\n",
    "reply_data.head(10)"
   ]
  },
  {
   "cell_type": "code",
   "execution_count": 16,
   "id": "f8f7bcb9",
   "metadata": {
    "execution": {
     "iopub.execute_input": "2025-04-24T14:38:46.819628Z",
     "iopub.status.busy": "2025-04-24T14:38:46.819234Z",
     "iopub.status.idle": "2025-04-24T14:38:46.839954Z",
     "shell.execute_reply": "2025-04-24T14:38:46.839023Z"
    },
    "papermill": {
     "duration": 0.037227,
     "end_time": "2025-04-24T14:38:46.841540",
     "exception": false,
     "start_time": "2025-04-24T14:38:46.804313",
     "status": "completed"
    },
    "tags": []
   },
   "outputs": [
    {
     "data": {
      "text/plain": [
       "184194"
      ]
     },
     "execution_count": 16,
     "metadata": {},
     "output_type": "execute_result"
    }
   ],
   "source": [
    "reply_data['course_id'].isnull().sum()"
   ]
  },
  {
   "cell_type": "code",
   "execution_count": 17,
   "id": "ac197bb2",
   "metadata": {
    "execution": {
     "iopub.execute_input": "2025-04-24T14:38:46.870756Z",
     "iopub.status.busy": "2025-04-24T14:38:46.870350Z",
     "iopub.status.idle": "2025-04-24T14:38:46.904556Z",
     "shell.execute_reply": "2025-04-24T14:38:46.903378Z"
    },
    "papermill": {
     "duration": 0.050837,
     "end_time": "2025-04-24T14:38:46.906298",
     "exception": false,
     "start_time": "2025-04-24T14:38:46.855461",
     "status": "completed"
    },
    "tags": []
   },
   "outputs": [
    {
     "data": {
      "text/html": [
       "<div>\n",
       "<style scoped>\n",
       "    .dataframe tbody tr th:only-of-type {\n",
       "        vertical-align: middle;\n",
       "    }\n",
       "\n",
       "    .dataframe tbody tr th {\n",
       "        vertical-align: top;\n",
       "    }\n",
       "\n",
       "    .dataframe thead th {\n",
       "        text-align: right;\n",
       "    }\n",
       "</style>\n",
       "<table border=\"1\" class=\"dataframe\">\n",
       "  <thead>\n",
       "    <tr style=\"text-align: right;\">\n",
       "      <th></th>\n",
       "      <th>reply_id</th>\n",
       "      <th>user_id</th>\n",
       "      <th>course_id</th>\n",
       "      <th>comment_id</th>\n",
       "      <th>text</th>\n",
       "      <th>create_time</th>\n",
       "    </tr>\n",
       "  </thead>\n",
       "  <tbody>\n",
       "    <tr>\n",
       "      <th>0</th>\n",
       "      <td>Rp_1</td>\n",
       "      <td>U_10030806</td>\n",
       "      <td>NaN</td>\n",
       "      <td>Cm_1</td>\n",
       "      <td>测试回复</td>\n",
       "      <td>2019-08-05 12:55:54</td>\n",
       "    </tr>\n",
       "    <tr>\n",
       "      <th>1</th>\n",
       "      <td>Rp_2</td>\n",
       "      <td>U_10031397</td>\n",
       "      <td>NaN</td>\n",
       "      <td>Cm_12</td>\n",
       "      <td>赞</td>\n",
       "      <td>2019-08-09 16:39:06</td>\n",
       "    </tr>\n",
       "    <tr>\n",
       "      <th>2</th>\n",
       "      <td>Rp_3</td>\n",
       "      <td>U_10031531</td>\n",
       "      <td>NaN</td>\n",
       "      <td>Cm_24</td>\n",
       "      <td>好喜欢</td>\n",
       "      <td>2019-08-10 22:39:35</td>\n",
       "    </tr>\n",
       "    <tr>\n",
       "      <th>3</th>\n",
       "      <td>Rp_4</td>\n",
       "      <td>U_10031508</td>\n",
       "      <td>NaN</td>\n",
       "      <td>Cm_43</td>\n",
       "      <td>你也好棒</td>\n",
       "      <td>2019-08-12 14:43:34</td>\n",
       "    </tr>\n",
       "    <tr>\n",
       "      <th>4</th>\n",
       "      <td>Rp_5</td>\n",
       "      <td>U_10031508</td>\n",
       "      <td>NaN</td>\n",
       "      <td>Cm_44</td>\n",
       "      <td>嗯对</td>\n",
       "      <td>2019-08-12 14:44:51</td>\n",
       "    </tr>\n",
       "  </tbody>\n",
       "</table>\n",
       "</div>"
      ],
      "text/plain": [
       "  reply_id     user_id course_id comment_id  text          create_time\n",
       "0     Rp_1  U_10030806       NaN       Cm_1  测试回复  2019-08-05 12:55:54\n",
       "1     Rp_2  U_10031397       NaN      Cm_12     赞  2019-08-09 16:39:06\n",
       "2     Rp_3  U_10031531       NaN      Cm_24   好喜欢  2019-08-10 22:39:35\n",
       "3     Rp_4  U_10031508       NaN      Cm_43  你也好棒  2019-08-12 14:43:34\n",
       "4     Rp_5  U_10031508       NaN      Cm_44    嗯对  2019-08-12 14:44:51"
      ]
     },
     "execution_count": 17,
     "metadata": {},
     "output_type": "execute_result"
    }
   ],
   "source": [
    "# Chuyển đổi thứ tự cột\n",
    "reply_user = reply_data[['reply_id', 'user_id', 'course_id', 'comment_id', 'text', 'create_time']]\n",
    "reply_user.head()"
   ]
  },
  {
   "cell_type": "code",
   "execution_count": 18,
   "id": "0c19af6f",
   "metadata": {
    "execution": {
     "iopub.execute_input": "2025-04-24T14:38:46.935996Z",
     "iopub.status.busy": "2025-04-24T14:38:46.935634Z",
     "iopub.status.idle": "2025-04-24T14:38:47.011966Z",
     "shell.execute_reply": "2025-04-24T14:38:47.010582Z"
    },
    "papermill": {
     "duration": 0.093197,
     "end_time": "2025-04-24T14:38:47.013836",
     "exception": false,
     "start_time": "2025-04-24T14:38:46.920639",
     "status": "completed"
    },
    "tags": []
   },
   "outputs": [
    {
     "name": "stderr",
     "output_type": "stream",
     "text": [
      "<ipython-input-18-24f16d31203f>:1: SettingWithCopyWarning: \n",
      "A value is trying to be set on a copy of a slice from a DataFrame.\n",
      "Try using .loc[row_indexer,col_indexer] = value instead\n",
      "\n",
      "See the caveats in the documentation: https://pandas.pydata.org/pandas-docs/stable/user_guide/indexing.html#returning-a-view-versus-a-copy\n",
      "  reply_user[\"course_id_clean\"] = reply_user[\"course_id\"].str.replace(\"C_\", \"\", regex=False)\n"
     ]
    }
   ],
   "source": [
    "reply_user[\"course_id_clean\"] = reply_user[\"course_id\"].str.replace(\"C_\", \"\", regex=False)  "
   ]
  },
  {
   "cell_type": "code",
   "execution_count": 19,
   "id": "9d4df160",
   "metadata": {
    "execution": {
     "iopub.execute_input": "2025-04-24T14:38:47.045013Z",
     "iopub.status.busy": "2025-04-24T14:38:47.044654Z",
     "iopub.status.idle": "2025-04-24T14:38:47.118278Z",
     "shell.execute_reply": "2025-04-24T14:38:47.117118Z"
    },
    "papermill": {
     "duration": 0.091522,
     "end_time": "2025-04-24T14:38:47.120012",
     "exception": false,
     "start_time": "2025-04-24T14:38:47.028490",
     "status": "completed"
    },
    "tags": []
   },
   "outputs": [
    {
     "name": "stderr",
     "output_type": "stream",
     "text": [
      "<ipython-input-19-4ca5bb4cfff5>:1: SettingWithCopyWarning: \n",
      "A value is trying to be set on a copy of a slice from a DataFrame\n",
      "\n",
      "See the caveats in the documentation: https://pandas.pydata.org/pandas-docs/stable/user_guide/indexing.html#returning-a-view-versus-a-copy\n",
      "  reply_user.dropna(subset=['course_id', 'user_id'], inplace=True)\n"
     ]
    },
    {
     "data": {
      "text/html": [
       "<div>\n",
       "<style scoped>\n",
       "    .dataframe tbody tr th:only-of-type {\n",
       "        vertical-align: middle;\n",
       "    }\n",
       "\n",
       "    .dataframe tbody tr th {\n",
       "        vertical-align: top;\n",
       "    }\n",
       "\n",
       "    .dataframe thead th {\n",
       "        text-align: right;\n",
       "    }\n",
       "</style>\n",
       "<table border=\"1\" class=\"dataframe\">\n",
       "  <thead>\n",
       "    <tr style=\"text-align: right;\">\n",
       "      <th></th>\n",
       "      <th>reply_id</th>\n",
       "      <th>user_id</th>\n",
       "      <th>course_id</th>\n",
       "      <th>comment_id</th>\n",
       "      <th>text</th>\n",
       "      <th>create_time</th>\n",
       "      <th>course_id_clean</th>\n",
       "    </tr>\n",
       "  </thead>\n",
       "  <tbody>\n",
       "    <tr>\n",
       "      <th>11</th>\n",
       "      <td>Rp_13</td>\n",
       "      <td>U_11731</td>\n",
       "      <td>C_696700</td>\n",
       "      <td>Cm_102</td>\n",
       "      <td>发达</td>\n",
       "      <td>2019-09-05 14:50:14</td>\n",
       "      <td>696700</td>\n",
       "    </tr>\n",
       "    <tr>\n",
       "      <th>12</th>\n",
       "      <td>Rp_14</td>\n",
       "      <td>U_11731</td>\n",
       "      <td>C_696700</td>\n",
       "      <td>Cm_102</td>\n",
       "      <td>打发</td>\n",
       "      <td>2019-09-05 14:50:18</td>\n",
       "      <td>696700</td>\n",
       "    </tr>\n",
       "    <tr>\n",
       "      <th>13</th>\n",
       "      <td>Rp_15</td>\n",
       "      <td>U_11731</td>\n",
       "      <td>C_696700</td>\n",
       "      <td>Cm_100</td>\n",
       "      <td>打发大水</td>\n",
       "      <td>2019-09-05 14:50:26</td>\n",
       "      <td>696700</td>\n",
       "    </tr>\n",
       "    <tr>\n",
       "      <th>14</th>\n",
       "      <td>Rp_16</td>\n",
       "      <td>U_6875014</td>\n",
       "      <td>C_734023</td>\n",
       "      <td>Cm_224</td>\n",
       "      <td>嗯</td>\n",
       "      <td>2019-09-06 18:40:35</td>\n",
       "      <td>734023</td>\n",
       "    </tr>\n",
       "    <tr>\n",
       "      <th>16</th>\n",
       "      <td>Rp_18</td>\n",
       "      <td>U_11031591</td>\n",
       "      <td>C_696814</td>\n",
       "      <td>Cm_320</td>\n",
       "      <td>我说的是如果</td>\n",
       "      <td>2019-09-09 19:00:15</td>\n",
       "      <td>696814</td>\n",
       "    </tr>\n",
       "  </tbody>\n",
       "</table>\n",
       "</div>"
      ],
      "text/plain": [
       "   reply_id     user_id course_id comment_id    text          create_time  \\\n",
       "11    Rp_13     U_11731  C_696700     Cm_102      发达  2019-09-05 14:50:14   \n",
       "12    Rp_14     U_11731  C_696700     Cm_102      打发  2019-09-05 14:50:18   \n",
       "13    Rp_15     U_11731  C_696700     Cm_100    打发大水  2019-09-05 14:50:26   \n",
       "14    Rp_16   U_6875014  C_734023     Cm_224       嗯  2019-09-06 18:40:35   \n",
       "16    Rp_18  U_11031591  C_696814     Cm_320  我说的是如果  2019-09-09 19:00:15   \n",
       "\n",
       "   course_id_clean  \n",
       "11          696700  \n",
       "12          696700  \n",
       "13          696700  \n",
       "14          734023  \n",
       "16          696814  "
      ]
     },
     "execution_count": 19,
     "metadata": {},
     "output_type": "execute_result"
    }
   ],
   "source": [
    "reply_user.dropna(subset=['course_id', 'user_id'], inplace=True)\n",
    "reply_user.head()"
   ]
  },
  {
   "cell_type": "code",
   "execution_count": 20,
   "id": "ee0b7046",
   "metadata": {
    "execution": {
     "iopub.execute_input": "2025-04-24T14:38:47.150761Z",
     "iopub.status.busy": "2025-04-24T14:38:47.150370Z",
     "iopub.status.idle": "2025-04-24T14:39:26.035758Z",
     "shell.execute_reply": "2025-04-24T14:39:26.034679Z"
    },
    "papermill": {
     "duration": 38.902891,
     "end_time": "2025-04-24T14:39:26.037618",
     "exception": false,
     "start_time": "2025-04-24T14:38:47.134727",
     "status": "completed"
    },
    "tags": []
   },
   "outputs": [],
   "source": [
    "user = user_pd\n",
    "user[\"course_enroll_map\"] = user.apply(\n",
    "    lambda row: dict(zip(row[\"course_order\"], row[\"enroll_time\"])), axis=1\n",
    ")"
   ]
  },
  {
   "cell_type": "code",
   "execution_count": 21,
   "id": "402c2aa7",
   "metadata": {
    "execution": {
     "iopub.execute_input": "2025-04-24T14:39:26.068391Z",
     "iopub.status.busy": "2025-04-24T14:39:26.068042Z",
     "iopub.status.idle": "2025-04-24T14:39:30.067626Z",
     "shell.execute_reply": "2025-04-24T14:39:30.066545Z"
    },
    "papermill": {
     "duration": 4.01661,
     "end_time": "2025-04-24T14:39:30.069561",
     "exception": false,
     "start_time": "2025-04-24T14:39:26.052951",
     "status": "completed"
    },
    "tags": []
   },
   "outputs": [],
   "source": [
    "reply_user = reply_user.merge(user[['user_id', 'course_enroll_map']], on='user_id', how='left')"
   ]
  },
  {
   "cell_type": "code",
   "execution_count": 22,
   "id": "9460ec23",
   "metadata": {
    "execution": {
     "iopub.execute_input": "2025-04-24T14:39:30.100920Z",
     "iopub.status.busy": "2025-04-24T14:39:30.100421Z",
     "iopub.status.idle": "2025-04-24T14:39:30.187259Z",
     "shell.execute_reply": "2025-04-24T14:39:30.186268Z"
    },
    "papermill": {
     "duration": 0.104608,
     "end_time": "2025-04-24T14:39:30.189314",
     "exception": false,
     "start_time": "2025-04-24T14:39:30.084706",
     "status": "completed"
    },
    "tags": []
   },
   "outputs": [
    {
     "data": {
      "text/plain": [
       "reply_id                 0\n",
       "user_id                  0\n",
       "course_id                0\n",
       "comment_id               0\n",
       "text                     0\n",
       "create_time              0\n",
       "course_id_clean          0\n",
       "course_enroll_map    34052\n",
       "dtype: int64"
      ]
     },
     "execution_count": 22,
     "metadata": {},
     "output_type": "execute_result"
    }
   ],
   "source": [
    "reply_user.isnull().sum()"
   ]
  },
  {
   "cell_type": "code",
   "execution_count": 23,
   "id": "5e93c5f5",
   "metadata": {
    "execution": {
     "iopub.execute_input": "2025-04-24T14:39:30.229263Z",
     "iopub.status.busy": "2025-04-24T14:39:30.228901Z",
     "iopub.status.idle": "2025-04-24T14:39:30.248723Z",
     "shell.execute_reply": "2025-04-24T14:39:30.247634Z"
    },
    "papermill": {
     "duration": 0.038658,
     "end_time": "2025-04-24T14:39:30.250849",
     "exception": false,
     "start_time": "2025-04-24T14:39:30.212191",
     "status": "completed"
    },
    "tags": []
   },
   "outputs": [],
   "source": [
    "reply_user[\"course_id_clean\"] = reply_user[\"course_id_clean\"].astype(int)"
   ]
  },
  {
   "cell_type": "code",
   "execution_count": 24,
   "id": "385d5927",
   "metadata": {
    "execution": {
     "iopub.execute_input": "2025-04-24T14:39:30.288588Z",
     "iopub.status.busy": "2025-04-24T14:39:30.288122Z",
     "iopub.status.idle": "2025-04-24T14:39:30.305714Z",
     "shell.execute_reply": "2025-04-24T14:39:30.304676Z"
    },
    "papermill": {
     "duration": 0.034804,
     "end_time": "2025-04-24T14:39:30.307522",
     "exception": false,
     "start_time": "2025-04-24T14:39:30.272718",
     "status": "completed"
    },
    "tags": []
   },
   "outputs": [
    {
     "data": {
      "text/html": [
       "<div>\n",
       "<style scoped>\n",
       "    .dataframe tbody tr th:only-of-type {\n",
       "        vertical-align: middle;\n",
       "    }\n",
       "\n",
       "    .dataframe tbody tr th {\n",
       "        vertical-align: top;\n",
       "    }\n",
       "\n",
       "    .dataframe thead th {\n",
       "        text-align: right;\n",
       "    }\n",
       "</style>\n",
       "<table border=\"1\" class=\"dataframe\">\n",
       "  <thead>\n",
       "    <tr style=\"text-align: right;\">\n",
       "      <th></th>\n",
       "      <th>reply_id</th>\n",
       "      <th>user_id</th>\n",
       "      <th>course_id</th>\n",
       "      <th>comment_id</th>\n",
       "      <th>text</th>\n",
       "      <th>create_time</th>\n",
       "      <th>course_id_clean</th>\n",
       "      <th>course_enroll_map</th>\n",
       "    </tr>\n",
       "  </thead>\n",
       "  <tbody>\n",
       "    <tr>\n",
       "      <th>0</th>\n",
       "      <td>Rp_13</td>\n",
       "      <td>U_11731</td>\n",
       "      <td>C_696700</td>\n",
       "      <td>Cm_102</td>\n",
       "      <td>发达</td>\n",
       "      <td>2019-09-05 14:50:14</td>\n",
       "      <td>696700</td>\n",
       "      <td>{375775: '2019-02-15 17:51:52', 375778: '2019-...</td>\n",
       "    </tr>\n",
       "    <tr>\n",
       "      <th>1</th>\n",
       "      <td>Rp_14</td>\n",
       "      <td>U_11731</td>\n",
       "      <td>C_696700</td>\n",
       "      <td>Cm_102</td>\n",
       "      <td>打发</td>\n",
       "      <td>2019-09-05 14:50:18</td>\n",
       "      <td>696700</td>\n",
       "      <td>{375775: '2019-02-15 17:51:52', 375778: '2019-...</td>\n",
       "    </tr>\n",
       "    <tr>\n",
       "      <th>2</th>\n",
       "      <td>Rp_15</td>\n",
       "      <td>U_11731</td>\n",
       "      <td>C_696700</td>\n",
       "      <td>Cm_100</td>\n",
       "      <td>打发大水</td>\n",
       "      <td>2019-09-05 14:50:26</td>\n",
       "      <td>696700</td>\n",
       "      <td>{375775: '2019-02-15 17:51:52', 375778: '2019-...</td>\n",
       "    </tr>\n",
       "    <tr>\n",
       "      <th>3</th>\n",
       "      <td>Rp_16</td>\n",
       "      <td>U_6875014</td>\n",
       "      <td>C_734023</td>\n",
       "      <td>Cm_224</td>\n",
       "      <td>嗯</td>\n",
       "      <td>2019-09-06 18:40:35</td>\n",
       "      <td>734023</td>\n",
       "      <td>{375775: '2019-03-21 11:23:24', 375778: '2019-...</td>\n",
       "    </tr>\n",
       "    <tr>\n",
       "      <th>4</th>\n",
       "      <td>Rp_18</td>\n",
       "      <td>U_11031591</td>\n",
       "      <td>C_696814</td>\n",
       "      <td>Cm_320</td>\n",
       "      <td>我说的是如果</td>\n",
       "      <td>2019-09-09 19:00:15</td>\n",
       "      <td>696814</td>\n",
       "      <td>{696814: '2019-09-09 17:32:41'}</td>\n",
       "    </tr>\n",
       "  </tbody>\n",
       "</table>\n",
       "</div>"
      ],
      "text/plain": [
       "  reply_id     user_id course_id comment_id    text          create_time  \\\n",
       "0    Rp_13     U_11731  C_696700     Cm_102      发达  2019-09-05 14:50:14   \n",
       "1    Rp_14     U_11731  C_696700     Cm_102      打发  2019-09-05 14:50:18   \n",
       "2    Rp_15     U_11731  C_696700     Cm_100    打发大水  2019-09-05 14:50:26   \n",
       "3    Rp_16   U_6875014  C_734023     Cm_224       嗯  2019-09-06 18:40:35   \n",
       "4    Rp_18  U_11031591  C_696814     Cm_320  我说的是如果  2019-09-09 19:00:15   \n",
       "\n",
       "   course_id_clean                                  course_enroll_map  \n",
       "0           696700  {375775: '2019-02-15 17:51:52', 375778: '2019-...  \n",
       "1           696700  {375775: '2019-02-15 17:51:52', 375778: '2019-...  \n",
       "2           696700  {375775: '2019-02-15 17:51:52', 375778: '2019-...  \n",
       "3           734023  {375775: '2019-03-21 11:23:24', 375778: '2019-...  \n",
       "4           696814                    {696814: '2019-09-09 17:32:41'}  "
      ]
     },
     "execution_count": 24,
     "metadata": {},
     "output_type": "execute_result"
    }
   ],
   "source": [
    "reply_user.head()"
   ]
  },
  {
   "cell_type": "code",
   "execution_count": 25,
   "id": "2de8ff7a",
   "metadata": {
    "execution": {
     "iopub.execute_input": "2025-04-24T14:39:30.339301Z",
     "iopub.status.busy": "2025-04-24T14:39:30.338822Z",
     "iopub.status.idle": "2025-04-24T14:39:31.903287Z",
     "shell.execute_reply": "2025-04-24T14:39:31.902153Z"
    },
    "papermill": {
     "duration": 1.582594,
     "end_time": "2025-04-24T14:39:31.905260",
     "exception": false,
     "start_time": "2025-04-24T14:39:30.322666",
     "status": "completed"
    },
    "tags": []
   },
   "outputs": [],
   "source": [
    "reply_user[\"enroll_time\"] = reply_user.apply(\n",
    "    lambda row: row[\"course_enroll_map\"].get(row[\"course_id_clean\"], None) \n",
    "    if isinstance(row[\"course_enroll_map\"], dict) else None, axis=1\n",
    ")"
   ]
  },
  {
   "cell_type": "code",
   "execution_count": 26,
   "id": "10da9286",
   "metadata": {
    "execution": {
     "iopub.execute_input": "2025-04-24T14:39:31.937486Z",
     "iopub.status.busy": "2025-04-24T14:39:31.937064Z",
     "iopub.status.idle": "2025-04-24T14:39:31.961467Z",
     "shell.execute_reply": "2025-04-24T14:39:31.960321Z"
    },
    "papermill": {
     "duration": 0.042195,
     "end_time": "2025-04-24T14:39:31.963475",
     "exception": false,
     "start_time": "2025-04-24T14:39:31.921280",
     "status": "completed"
    },
    "tags": []
   },
   "outputs": [],
   "source": [
    "reply_user.drop(columns=[\"course_enroll_map\",'course_id_clean'], inplace=True)"
   ]
  },
  {
   "cell_type": "code",
   "execution_count": 27,
   "id": "22371fca",
   "metadata": {
    "execution": {
     "iopub.execute_input": "2025-04-24T14:39:31.994692Z",
     "iopub.status.busy": "2025-04-24T14:39:31.994263Z",
     "iopub.status.idle": "2025-04-24T14:39:32.068733Z",
     "shell.execute_reply": "2025-04-24T14:39:32.067552Z"
    },
    "papermill": {
     "duration": 0.09193,
     "end_time": "2025-04-24T14:39:32.070562",
     "exception": false,
     "start_time": "2025-04-24T14:39:31.978632",
     "status": "completed"
    },
    "tags": []
   },
   "outputs": [
    {
     "name": "stdout",
     "output_type": "stream",
     "text": [
      "<class 'pandas.core.frame.DataFrame'>\n",
      "RangeIndex: 146817 entries, 0 to 146816\n",
      "Data columns (total 7 columns):\n",
      " #   Column       Non-Null Count   Dtype \n",
      "---  ------       --------------   ----- \n",
      " 0   reply_id     146817 non-null  object\n",
      " 1   user_id      146817 non-null  object\n",
      " 2   course_id    146817 non-null  object\n",
      " 3   comment_id   146817 non-null  object\n",
      " 4   text         146817 non-null  object\n",
      " 5   create_time  146817 non-null  object\n",
      " 6   enroll_time  112763 non-null  object\n",
      "dtypes: object(7)\n",
      "memory usage: 7.8+ MB\n"
     ]
    }
   ],
   "source": [
    "reply_user.info()"
   ]
  },
  {
   "cell_type": "code",
   "execution_count": 28,
   "id": "50368c0f",
   "metadata": {
    "execution": {
     "iopub.execute_input": "2025-04-24T14:39:32.101779Z",
     "iopub.status.busy": "2025-04-24T14:39:32.101357Z",
     "iopub.status.idle": "2025-04-24T14:39:32.189373Z",
     "shell.execute_reply": "2025-04-24T14:39:32.187927Z"
    },
    "papermill": {
     "duration": 0.105713,
     "end_time": "2025-04-24T14:39:32.191295",
     "exception": false,
     "start_time": "2025-04-24T14:39:32.085582",
     "status": "completed"
    },
    "tags": []
   },
   "outputs": [
    {
     "name": "stdout",
     "output_type": "stream",
     "text": [
      "Số lượng khóa học không có thời gian đăng ký trên tổng số khóa học: 0.23194861630465136\n",
      "<class 'pandas.core.frame.DataFrame'>\n",
      "RangeIndex: 146817 entries, 0 to 146816\n",
      "Data columns (total 7 columns):\n",
      " #   Column       Non-Null Count   Dtype \n",
      "---  ------       --------------   ----- \n",
      " 0   reply_id     146817 non-null  object\n",
      " 1   user_id      146817 non-null  object\n",
      " 2   course_id    146817 non-null  object\n",
      " 3   comment_id   146817 non-null  object\n",
      " 4   text         146817 non-null  object\n",
      " 5   create_time  146817 non-null  object\n",
      " 6   enroll_time  112763 non-null  object\n",
      "dtypes: object(7)\n",
      "memory usage: 7.8+ MB\n"
     ]
    }
   ],
   "source": [
    "print(\"Số lượng khóa học không có thời gian đăng ký trên tổng số khóa học:\",reply_user['enroll_time'].isnull().sum()/len(reply_user))\n",
    "reply_user.info()"
   ]
  },
  {
   "cell_type": "code",
   "execution_count": 29,
   "id": "f0b95d1c",
   "metadata": {
    "execution": {
     "iopub.execute_input": "2025-04-24T14:39:32.222371Z",
     "iopub.status.busy": "2025-04-24T14:39:32.222045Z",
     "iopub.status.idle": "2025-04-24T14:39:32.280958Z",
     "shell.execute_reply": "2025-04-24T14:39:32.279823Z"
    },
    "papermill": {
     "duration": 0.076317,
     "end_time": "2025-04-24T14:39:32.282681",
     "exception": false,
     "start_time": "2025-04-24T14:39:32.206364",
     "status": "completed"
    },
    "tags": []
   },
   "outputs": [
    {
     "data": {
      "text/html": [
       "<div>\n",
       "<style scoped>\n",
       "    .dataframe tbody tr th:only-of-type {\n",
       "        vertical-align: middle;\n",
       "    }\n",
       "\n",
       "    .dataframe tbody tr th {\n",
       "        vertical-align: top;\n",
       "    }\n",
       "\n",
       "    .dataframe thead th {\n",
       "        text-align: right;\n",
       "    }\n",
       "</style>\n",
       "<table border=\"1\" class=\"dataframe\">\n",
       "  <thead>\n",
       "    <tr style=\"text-align: right;\">\n",
       "      <th></th>\n",
       "      <th>reply_id</th>\n",
       "      <th>user_id</th>\n",
       "      <th>course_id</th>\n",
       "      <th>comment_id</th>\n",
       "      <th>text</th>\n",
       "      <th>create_time</th>\n",
       "      <th>enroll_time</th>\n",
       "    </tr>\n",
       "  </thead>\n",
       "  <tbody>\n",
       "    <tr>\n",
       "      <th>0</th>\n",
       "      <td>Rp_13</td>\n",
       "      <td>U_11731</td>\n",
       "      <td>C_696700</td>\n",
       "      <td>Cm_102</td>\n",
       "      <td>发达</td>\n",
       "      <td>2019-09-05 14:50:14</td>\n",
       "      <td>2019-09-05 14:07:20</td>\n",
       "    </tr>\n",
       "    <tr>\n",
       "      <th>1</th>\n",
       "      <td>Rp_14</td>\n",
       "      <td>U_11731</td>\n",
       "      <td>C_696700</td>\n",
       "      <td>Cm_102</td>\n",
       "      <td>打发</td>\n",
       "      <td>2019-09-05 14:50:18</td>\n",
       "      <td>2019-09-05 14:07:20</td>\n",
       "    </tr>\n",
       "    <tr>\n",
       "      <th>2</th>\n",
       "      <td>Rp_15</td>\n",
       "      <td>U_11731</td>\n",
       "      <td>C_696700</td>\n",
       "      <td>Cm_100</td>\n",
       "      <td>打发大水</td>\n",
       "      <td>2019-09-05 14:50:26</td>\n",
       "      <td>2019-09-05 14:07:20</td>\n",
       "    </tr>\n",
       "    <tr>\n",
       "      <th>3</th>\n",
       "      <td>Rp_16</td>\n",
       "      <td>U_6875014</td>\n",
       "      <td>C_734023</td>\n",
       "      <td>Cm_224</td>\n",
       "      <td>嗯</td>\n",
       "      <td>2019-09-06 18:40:35</td>\n",
       "      <td>2019-09-05 16:24:36</td>\n",
       "    </tr>\n",
       "    <tr>\n",
       "      <th>4</th>\n",
       "      <td>Rp_18</td>\n",
       "      <td>U_11031591</td>\n",
       "      <td>C_696814</td>\n",
       "      <td>Cm_320</td>\n",
       "      <td>我说的是如果</td>\n",
       "      <td>2019-09-09 19:00:15</td>\n",
       "      <td>2019-09-09 17:32:41</td>\n",
       "    </tr>\n",
       "  </tbody>\n",
       "</table>\n",
       "</div>"
      ],
      "text/plain": [
       "  reply_id     user_id course_id comment_id    text          create_time  \\\n",
       "0    Rp_13     U_11731  C_696700     Cm_102      发达  2019-09-05 14:50:14   \n",
       "1    Rp_14     U_11731  C_696700     Cm_102      打发  2019-09-05 14:50:18   \n",
       "2    Rp_15     U_11731  C_696700     Cm_100    打发大水  2019-09-05 14:50:26   \n",
       "3    Rp_16   U_6875014  C_734023     Cm_224       嗯  2019-09-06 18:40:35   \n",
       "4    Rp_18  U_11031591  C_696814     Cm_320  我说的是如果  2019-09-09 19:00:15   \n",
       "\n",
       "           enroll_time  \n",
       "0  2019-09-05 14:07:20  \n",
       "1  2019-09-05 14:07:20  \n",
       "2  2019-09-05 14:07:20  \n",
       "3  2019-09-05 16:24:36  \n",
       "4  2019-09-09 17:32:41  "
      ]
     },
     "execution_count": 29,
     "metadata": {},
     "output_type": "execute_result"
    }
   ],
   "source": [
    "reply_user.dropna(subset=['enroll_time'], inplace=True)\n",
    "reply = reply_user\n",
    "reply.head()"
   ]
  },
  {
   "cell_type": "code",
   "execution_count": 30,
   "id": "c6875288",
   "metadata": {
    "execution": {
     "iopub.execute_input": "2025-04-24T14:39:32.315609Z",
     "iopub.status.busy": "2025-04-24T14:39:32.315219Z",
     "iopub.status.idle": "2025-04-24T14:39:32.427868Z",
     "shell.execute_reply": "2025-04-24T14:39:32.426978Z"
    },
    "papermill": {
     "duration": 0.131129,
     "end_time": "2025-04-24T14:39:32.429829",
     "exception": false,
     "start_time": "2025-04-24T14:39:32.298700",
     "status": "completed"
    },
    "tags": []
   },
   "outputs": [],
   "source": [
    "# Chuyển đổi cột thời gian sang kiểu datetime\n",
    "reply['create_time'] = pd.to_datetime(reply['create_time'], errors='coerce')\n",
    "reply['enroll_time'] = pd.to_datetime(reply['enroll_time'], errors='coerce')"
   ]
  },
  {
   "cell_type": "code",
   "execution_count": 31,
   "id": "af2a7e32",
   "metadata": {
    "execution": {
     "iopub.execute_input": "2025-04-24T14:39:32.463582Z",
     "iopub.status.busy": "2025-04-24T14:39:32.463147Z",
     "iopub.status.idle": "2025-04-24T14:39:32.475630Z",
     "shell.execute_reply": "2025-04-24T14:39:32.474612Z"
    },
    "papermill": {
     "duration": 0.031559,
     "end_time": "2025-04-24T14:39:32.477608",
     "exception": false,
     "start_time": "2025-04-24T14:39:32.446049",
     "status": "completed"
    },
    "tags": []
   },
   "outputs": [],
   "source": [
    "# Tính khoảng thời gian từ enroll_time đến create_time\n",
    "reply['days_since_enroll'] = (reply['create_time'] - reply['enroll_time']).dt.days"
   ]
  },
  {
   "cell_type": "code",
   "execution_count": 32,
   "id": "f37272c8",
   "metadata": {
    "execution": {
     "iopub.execute_input": "2025-04-24T14:39:32.570483Z",
     "iopub.status.busy": "2025-04-24T14:39:32.570080Z",
     "iopub.status.idle": "2025-04-24T14:39:32.979380Z",
     "shell.execute_reply": "2025-04-24T14:39:32.978263Z"
    },
    "papermill": {
     "duration": 0.42732,
     "end_time": "2025-04-24T14:39:32.981118",
     "exception": false,
     "start_time": "2025-04-24T14:39:32.553798",
     "status": "completed"
    },
    "tags": []
   },
   "outputs": [
    {
     "data": {
      "text/html": [
       "<div>\n",
       "<style scoped>\n",
       "    .dataframe tbody tr th:only-of-type {\n",
       "        vertical-align: middle;\n",
       "    }\n",
       "\n",
       "    .dataframe tbody tr th {\n",
       "        vertical-align: top;\n",
       "    }\n",
       "\n",
       "    .dataframe thead th {\n",
       "        text-align: right;\n",
       "    }\n",
       "</style>\n",
       "<table border=\"1\" class=\"dataframe\">\n",
       "  <thead>\n",
       "    <tr style=\"text-align: right;\">\n",
       "      <th></th>\n",
       "      <th>reply_id</th>\n",
       "      <th>user_id</th>\n",
       "      <th>course_id</th>\n",
       "      <th>comment_id</th>\n",
       "      <th>text</th>\n",
       "      <th>create_time</th>\n",
       "      <th>enroll_time</th>\n",
       "      <th>days_since_enroll</th>\n",
       "      <th>num_words_rep</th>\n",
       "    </tr>\n",
       "  </thead>\n",
       "  <tbody>\n",
       "    <tr>\n",
       "      <th>0</th>\n",
       "      <td>Rp_13</td>\n",
       "      <td>U_11731</td>\n",
       "      <td>C_696700</td>\n",
       "      <td>Cm_102</td>\n",
       "      <td>发达</td>\n",
       "      <td>2019-09-05 14:50:14</td>\n",
       "      <td>2019-09-05 14:07:20</td>\n",
       "      <td>0</td>\n",
       "      <td>2</td>\n",
       "    </tr>\n",
       "    <tr>\n",
       "      <th>1</th>\n",
       "      <td>Rp_14</td>\n",
       "      <td>U_11731</td>\n",
       "      <td>C_696700</td>\n",
       "      <td>Cm_102</td>\n",
       "      <td>打发</td>\n",
       "      <td>2019-09-05 14:50:18</td>\n",
       "      <td>2019-09-05 14:07:20</td>\n",
       "      <td>0</td>\n",
       "      <td>2</td>\n",
       "    </tr>\n",
       "    <tr>\n",
       "      <th>2</th>\n",
       "      <td>Rp_15</td>\n",
       "      <td>U_11731</td>\n",
       "      <td>C_696700</td>\n",
       "      <td>Cm_100</td>\n",
       "      <td>打发大水</td>\n",
       "      <td>2019-09-05 14:50:26</td>\n",
       "      <td>2019-09-05 14:07:20</td>\n",
       "      <td>0</td>\n",
       "      <td>4</td>\n",
       "    </tr>\n",
       "    <tr>\n",
       "      <th>3</th>\n",
       "      <td>Rp_16</td>\n",
       "      <td>U_6875014</td>\n",
       "      <td>C_734023</td>\n",
       "      <td>Cm_224</td>\n",
       "      <td>嗯</td>\n",
       "      <td>2019-09-06 18:40:35</td>\n",
       "      <td>2019-09-05 16:24:36</td>\n",
       "      <td>1</td>\n",
       "      <td>1</td>\n",
       "    </tr>\n",
       "    <tr>\n",
       "      <th>4</th>\n",
       "      <td>Rp_18</td>\n",
       "      <td>U_11031591</td>\n",
       "      <td>C_696814</td>\n",
       "      <td>Cm_320</td>\n",
       "      <td>我说的是如果</td>\n",
       "      <td>2019-09-09 19:00:15</td>\n",
       "      <td>2019-09-09 17:32:41</td>\n",
       "      <td>0</td>\n",
       "      <td>6</td>\n",
       "    </tr>\n",
       "    <tr>\n",
       "      <th>5</th>\n",
       "      <td>Rp_19</td>\n",
       "      <td>U_11035492</td>\n",
       "      <td>C_696814</td>\n",
       "      <td>Cm_320</td>\n",
       "      <td>好吧，可能得问问老师了</td>\n",
       "      <td>2019-09-09 19:00:43</td>\n",
       "      <td>2019-09-09 18:55:10</td>\n",
       "      <td>0</td>\n",
       "      <td>10</td>\n",
       "    </tr>\n",
       "    <tr>\n",
       "      <th>6</th>\n",
       "      <td>Rp_20</td>\n",
       "      <td>U_11086632</td>\n",
       "      <td>C_681088</td>\n",
       "      <td>Cm_374</td>\n",
       "      <td>嘻嘻，大家快来讲讲自己的看法呀！会计萌新还需要大佬指教呢！</td>\n",
       "      <td>2019-09-10 21:09:31</td>\n",
       "      <td>2019-09-10 12:13:10</td>\n",
       "      <td>0</td>\n",
       "      <td>26</td>\n",
       "    </tr>\n",
       "    <tr>\n",
       "      <th>7</th>\n",
       "      <td>Rp_28</td>\n",
       "      <td>U_9734771</td>\n",
       "      <td>C_696814</td>\n",
       "      <td>Cm_385</td>\n",
       "      <td>水分解成氧气和氢气，温度一般要求达到一千多度。</td>\n",
       "      <td>2019-09-12 15:33:32</td>\n",
       "      <td>2019-09-11 22:27:12</td>\n",
       "      <td>0</td>\n",
       "      <td>21</td>\n",
       "    </tr>\n",
       "    <tr>\n",
       "      <th>8</th>\n",
       "      <td>Rp_32</td>\n",
       "      <td>U_1528246</td>\n",
       "      <td>C_682452</td>\n",
       "      <td>Cm_955</td>\n",
       "      <td>少掉的省略号请忽略……</td>\n",
       "      <td>2019-09-15 17:23:12</td>\n",
       "      <td>2019-09-11 14:22:07</td>\n",
       "      <td>4</td>\n",
       "      <td>9</td>\n",
       "    </tr>\n",
       "    <tr>\n",
       "      <th>9</th>\n",
       "      <td>Rp_33</td>\n",
       "      <td>U_9734744</td>\n",
       "      <td>C_696814</td>\n",
       "      <td>Cm_528</td>\n",
       "      <td>大哥牛逼</td>\n",
       "      <td>2019-09-15 19:11:59</td>\n",
       "      <td>2019-09-10 21:13:18</td>\n",
       "      <td>4</td>\n",
       "      <td>4</td>\n",
       "    </tr>\n",
       "  </tbody>\n",
       "</table>\n",
       "</div>"
      ],
      "text/plain": [
       "  reply_id     user_id course_id comment_id                           text  \\\n",
       "0    Rp_13     U_11731  C_696700     Cm_102                             发达   \n",
       "1    Rp_14     U_11731  C_696700     Cm_102                             打发   \n",
       "2    Rp_15     U_11731  C_696700     Cm_100                           打发大水   \n",
       "3    Rp_16   U_6875014  C_734023     Cm_224                              嗯   \n",
       "4    Rp_18  U_11031591  C_696814     Cm_320                         我说的是如果   \n",
       "5    Rp_19  U_11035492  C_696814     Cm_320                    好吧，可能得问问老师了   \n",
       "6    Rp_20  U_11086632  C_681088     Cm_374  嘻嘻，大家快来讲讲自己的看法呀！会计萌新还需要大佬指教呢！   \n",
       "7    Rp_28   U_9734771  C_696814     Cm_385        水分解成氧气和氢气，温度一般要求达到一千多度。   \n",
       "8    Rp_32   U_1528246  C_682452     Cm_955                    少掉的省略号请忽略……   \n",
       "9    Rp_33   U_9734744  C_696814     Cm_528                           大哥牛逼   \n",
       "\n",
       "          create_time         enroll_time  days_since_enroll  num_words_rep  \n",
       "0 2019-09-05 14:50:14 2019-09-05 14:07:20                  0              2  \n",
       "1 2019-09-05 14:50:18 2019-09-05 14:07:20                  0              2  \n",
       "2 2019-09-05 14:50:26 2019-09-05 14:07:20                  0              4  \n",
       "3 2019-09-06 18:40:35 2019-09-05 16:24:36                  1              1  \n",
       "4 2019-09-09 19:00:15 2019-09-09 17:32:41                  0              6  \n",
       "5 2019-09-09 19:00:43 2019-09-09 18:55:10                  0             10  \n",
       "6 2019-09-10 21:09:31 2019-09-10 12:13:10                  0             26  \n",
       "7 2019-09-12 15:33:32 2019-09-11 22:27:12                  0             21  \n",
       "8 2019-09-15 17:23:12 2019-09-11 14:22:07                  4              9  \n",
       "9 2019-09-15 19:11:59 2019-09-10 21:13:18                  4              4  "
      ]
     },
     "execution_count": 32,
     "metadata": {},
     "output_type": "execute_result"
    }
   ],
   "source": [
    "import re\n",
    "\n",
    "def count_words(text):\n",
    "    text = str(text).strip()  # Đảm bảo dữ liệu không bị lỗi None hoặc NaN\n",
    "    \n",
    "    # Nếu chứa ký tự CJK (tiếng Trung, Nhật, Hàn)\n",
    "    if re.search(r'[\\u4e00-\\u9fff\\u3040-\\u30ff\\uac00-\\ud7af]', text):\n",
    "        # Loại bỏ dấu câu trước khi đếm ký tự\n",
    "        text = re.sub(r'[，。！？、…—「」『』（）【】《》〈〉~]', '', text)\n",
    "        return len(text)  # Đếm số ký tự còn lại\n",
    "    \n",
    "    else:\n",
    "        # Đếm số từ tiếng Anh\n",
    "        return len(re.findall(r'\\b\\w+\\b', text))\n",
    "\n",
    "# Áp dụng vào DataFrame\n",
    "reply['num_words_rep'] = reply['text'].apply(count_words)\n",
    "\n",
    "# Kiểm tra kết quả\n",
    "reply.head(10)"
   ]
  },
  {
   "cell_type": "code",
   "execution_count": 33,
   "id": "fb5b8ecf",
   "metadata": {
    "execution": {
     "iopub.execute_input": "2025-04-24T14:39:33.013579Z",
     "iopub.status.busy": "2025-04-24T14:39:33.013119Z",
     "iopub.status.idle": "2025-04-24T14:39:33.059978Z",
     "shell.execute_reply": "2025-04-24T14:39:33.058781Z"
    },
    "papermill": {
     "duration": 0.064919,
     "end_time": "2025-04-24T14:39:33.061725",
     "exception": false,
     "start_time": "2025-04-24T14:39:32.996806",
     "status": "completed"
    },
    "tags": []
   },
   "outputs": [
    {
     "name": "stdout",
     "output_type": "stream",
     "text": [
      "<class 'pandas.core.frame.DataFrame'>\n",
      "Index: 112763 entries, 0 to 146815\n",
      "Data columns (total 9 columns):\n",
      " #   Column             Non-Null Count   Dtype         \n",
      "---  ------             --------------   -----         \n",
      " 0   reply_id           112763 non-null  object        \n",
      " 1   user_id            112763 non-null  object        \n",
      " 2   course_id          112763 non-null  object        \n",
      " 3   comment_id         112763 non-null  object        \n",
      " 4   text               112763 non-null  object        \n",
      " 5   create_time        112763 non-null  datetime64[ns]\n",
      " 6   enroll_time        112763 non-null  datetime64[ns]\n",
      " 7   days_since_enroll  112763 non-null  int64         \n",
      " 8   num_words_rep      112763 non-null  int64         \n",
      "dtypes: datetime64[ns](2), int64(2), object(5)\n",
      "memory usage: 8.6+ MB\n"
     ]
    }
   ],
   "source": [
    "reply.info()"
   ]
  },
  {
   "cell_type": "code",
   "execution_count": 34,
   "id": "5d6d9534",
   "metadata": {
    "execution": {
     "iopub.execute_input": "2025-04-24T14:39:33.095685Z",
     "iopub.status.busy": "2025-04-24T14:39:33.095289Z",
     "iopub.status.idle": "2025-04-24T14:39:34.064447Z",
     "shell.execute_reply": "2025-04-24T14:39:34.063334Z"
    },
    "papermill": {
     "duration": 0.98831,
     "end_time": "2025-04-24T14:39:34.066732",
     "exception": false,
     "start_time": "2025-04-24T14:39:33.078422",
     "status": "completed"
    },
    "tags": []
   },
   "outputs": [],
   "source": [
    "reply.to_csv(\"reply_C.csv\", index = False)"
   ]
  },
  {
   "cell_type": "code",
   "execution_count": 35,
   "id": "f4ec89fb",
   "metadata": {
    "execution": {
     "iopub.execute_input": "2025-04-24T14:39:34.101151Z",
     "iopub.status.busy": "2025-04-24T14:39:34.100748Z",
     "iopub.status.idle": "2025-04-24T14:39:35.100130Z",
     "shell.execute_reply": "2025-04-24T14:39:35.099028Z"
    },
    "papermill": {
     "duration": 1.018676,
     "end_time": "2025-04-24T14:39:35.101759",
     "exception": false,
     "start_time": "2025-04-24T14:39:34.083083",
     "status": "completed"
    },
    "tags": []
   },
   "outputs": [
    {
     "name": "stderr",
     "output_type": "stream",
     "text": [
      "/usr/local/lib/python3.10/dist-packages/seaborn/_oldcore.py:1119: FutureWarning: use_inf_as_na option is deprecated and will be removed in a future version. Convert inf values to NaN before operating instead.\n",
      "  with pd.option_context('mode.use_inf_as_na', True):\n"
     ]
    },
    {
     "data": {
      "image/png": "[encoded data removed]",
      "text/plain": [
       "<Figure size 1000x500 with 1 Axes>"
      ]
     },
     "metadata": {},
     "output_type": "display_data"
    }
   ],
   "source": [
    "plt.figure(figsize=(10, 5))\n",
    "sns.histplot(reply['days_since_enroll'], bins=50, kde=True, color='royalblue')\n",
    "plt.xlabel('Days Since Enroll', fontsize=14)\n",
    "plt.ylabel('Frequency', fontsize=14)\n",
    "plt.title('Distribution of Days Since Enroll', fontsize=16)\n",
    "plt.grid(axis=\"y\", linestyle=\"--\", alpha=0.7)\n",
    "plt.show()"
   ]
  },
  {
   "cell_type": "markdown",
   "id": "50f55564",
   "metadata": {
    "papermill": {
     "duration": 0.016052,
     "end_time": "2025-04-24T14:39:35.134653",
     "exception": false,
     "start_time": "2025-04-24T14:39:35.118601",
     "status": "completed"
    },
    "tags": []
   },
   "source": [
    "# Phase 1"
   ]
  },
  {
   "cell_type": "code",
   "execution_count": 36,
   "id": "2acf358c",
   "metadata": {
    "execution": {
     "iopub.execute_input": "2025-04-24T14:39:35.168826Z",
     "iopub.status.busy": "2025-04-24T14:39:35.168420Z",
     "iopub.status.idle": "2025-04-24T14:39:35.179303Z",
     "shell.execute_reply": "2025-04-24T14:39:35.178171Z"
    },
    "papermill": {
     "duration": 0.030078,
     "end_time": "2025-04-24T14:39:35.181114",
     "exception": false,
     "start_time": "2025-04-24T14:39:35.151036",
     "status": "completed"
    },
    "tags": []
   },
   "outputs": [],
   "source": [
    "Phase1_rep = reply[reply['days_since_enroll'] <= 14]"
   ]
  },
  {
   "cell_type": "code",
   "execution_count": 37,
   "id": "0df54914",
   "metadata": {
    "execution": {
     "iopub.execute_input": "2025-04-24T14:39:35.216516Z",
     "iopub.status.busy": "2025-04-24T14:39:35.216109Z",
     "iopub.status.idle": "2025-04-24T14:39:35.238445Z",
     "shell.execute_reply": "2025-04-24T14:39:35.237120Z"
    },
    "papermill": {
     "duration": 0.041859,
     "end_time": "2025-04-24T14:39:35.240340",
     "exception": false,
     "start_time": "2025-04-24T14:39:35.198481",
     "status": "completed"
    },
    "tags": []
   },
   "outputs": [
    {
     "name": "stdout",
     "output_type": "stream",
     "text": [
      "<class 'pandas.core.frame.DataFrame'>\n",
      "Index: 23913 entries, 0 to 146781\n",
      "Data columns (total 9 columns):\n",
      " #   Column             Non-Null Count  Dtype         \n",
      "---  ------             --------------  -----         \n",
      " 0   reply_id           23913 non-null  object        \n",
      " 1   user_id            23913 non-null  object        \n",
      " 2   course_id          23913 non-null  object        \n",
      " 3   comment_id         23913 non-null  object        \n",
      " 4   text               23913 non-null  object        \n",
      " 5   create_time        23913 non-null  datetime64[ns]\n",
      " 6   enroll_time        23913 non-null  datetime64[ns]\n",
      " 7   days_since_enroll  23913 non-null  int64         \n",
      " 8   num_words_rep      23913 non-null  int64         \n",
      "dtypes: datetime64[ns](2), int64(2), object(5)\n",
      "memory usage: 1.8+ MB\n"
     ]
    }
   ],
   "source": [
    "Phase1_rep.info()"
   ]
  },
  {
   "cell_type": "code",
   "execution_count": 38,
   "id": "1b10ad23",
   "metadata": {
    "execution": {
     "iopub.execute_input": "2025-04-24T14:39:35.276283Z",
     "iopub.status.busy": "2025-04-24T14:39:35.275898Z",
     "iopub.status.idle": "2025-04-24T14:39:35.353195Z",
     "shell.execute_reply": "2025-04-24T14:39:35.351963Z"
    },
    "papermill": {
     "duration": 0.097228,
     "end_time": "2025-04-24T14:39:35.355096",
     "exception": false,
     "start_time": "2025-04-24T14:39:35.257868",
     "status": "completed"
    },
    "tags": []
   },
   "outputs": [
    {
     "name": "stdout",
     "output_type": "stream",
     "text": [
      "          user_id course_id  reply_count_phase1  total_words_phase1\n",
      "0      U_10036301  C_936971                   1                   1\n",
      "1      U_10036426  C_936971                   1                   5\n",
      "2      U_10060289  C_948428                   3                  84\n",
      "3      U_10060390  C_681074                   1                  76\n",
      "4      U_10062271  C_735296                   1                   6\n",
      "...           ...       ...                 ...                 ...\n",
      "14744   U_9955256  C_936971                   1                   5\n",
      "14745     U_99567  C_676664                   1                  51\n",
      "14746     U_99567  C_696994                   1                   3\n",
      "14747   U_9963608  C_936971                   1                   2\n",
      "14748   U_9969882  C_696700                   2                   7\n",
      "\n",
      "[14749 rows x 4 columns]\n"
     ]
    }
   ],
   "source": [
    "# Tính tổng số chữ phản hồi của user trong phase 1\n",
    "word_count_phase1 = Phase1_rep.groupby(['user_id', 'course_id'])['num_words_rep'].sum().reset_index(name='total_words_phase1')\n",
    "\n",
    "# Đếm số lượng phản hồi trong phase 1\n",
    "reply_count_phase1 = Phase1_rep.groupby(['user_id', 'course_id']).size().reset_index(name='reply_count_phase1')\n",
    "\n",
    "result_phase1 = pd.merge(reply_count_phase1, word_count_phase1, on=['user_id', 'course_id'], how='outer')\n",
    "print(result_phase1)"
   ]
  },
  {
   "cell_type": "code",
   "execution_count": 39,
   "id": "2f7a290b",
   "metadata": {
    "execution": {
     "iopub.execute_input": "2025-04-24T14:39:35.391725Z",
     "iopub.status.busy": "2025-04-24T14:39:35.391297Z",
     "iopub.status.idle": "2025-04-24T14:39:35.964435Z",
     "shell.execute_reply": "2025-04-24T14:39:35.963209Z"
    },
    "papermill": {
     "duration": 0.593838,
     "end_time": "2025-04-24T14:39:35.966582",
     "exception": false,
     "start_time": "2025-04-24T14:39:35.372744",
     "status": "completed"
    },
    "tags": []
   },
   "outputs": [
    {
     "name": "stdout",
     "output_type": "stream",
     "text": [
      "      user_id course_id  entropy_time_reply_phase1\n",
      "0  U_10036301  C_936971                   0.000000\n",
      "1  U_10036426  C_936971                   0.000000\n",
      "2  U_10060289  C_948428                   0.636514\n",
      "3  U_10060390  C_681074                   0.000000\n",
      "4  U_10062271  C_735296                   0.000000\n"
     ]
    }
   ],
   "source": [
    "# Bước 1: Sắp xếp dữ liệu theo user_id, course_id, và create_time\n",
    "Phase1_rep = Phase1_rep.sort_values(by=['user_id', 'course_id', 'create_time'])\n",
    "\n",
    "# Bước 2: Xác định khoảng thời gian (bins)\n",
    "def assign_time_bin(timestamp):\n",
    "    \"\"\"\n",
    "    Chia ngày thành 48 khoảng thời gian (mỗi khoảng 30 phút) và gán bin tương ứng.\n",
    "    \"\"\"\n",
    "    return (timestamp.hour * 60 + timestamp.minute) // 30\n",
    "\n",
    "Phase1_rep['time_bin'] = Phase1_rep['create_time'].apply(assign_time_bin)\n",
    "\n",
    "# Bước 3: Đếm số lượng reply trong mỗi khoảng thời gian\n",
    "time_bin_counts1 = Phase1_rep.groupby(['user_id', 'course_id', 'time_bin']).size().reset_index(name='count')\n",
    "\n",
    "# Bước 4: Tính tổng số reply của mỗi user trong từng khóa học\n",
    "total_replies1 = Phase1_rep.groupby(['user_id', 'course_id']).size().reset_index(name='total_count')\n",
    "\n",
    "# Gộp dữ liệu để tính xác suất\n",
    "time_bin_counts1 = time_bin_counts1.merge(total_replies1, on=['user_id', 'course_id'], how='left')\n",
    "\n",
    "# Bước 5: Tính xác suất xuất hiện của mỗi bin\n",
    "time_bin_counts1['probability'] = time_bin_counts1['count'] / time_bin_counts1['total_count']\n",
    "\n",
    "# Bước 6: Tính entropy theo công thức Shannon entropy\n",
    "def calculate_entropy(probabilities):\n",
    "    \"\"\"\n",
    "    Tính entropy theo công thức Shannon entropy.\n",
    "    Loại bỏ giá trị xác suất bằng 0 để tránh lỗi log(0).\n",
    "    \"\"\"\n",
    "    probabilities = probabilities[probabilities > 0]  # Loại bỏ giá trị 0\n",
    "    return -np.sum(probabilities * np.log(probabilities)) if len(probabilities) > 1 else 0\n",
    "\n",
    "entropy_values_phase1 = (\n",
    "    time_bin_counts1.groupby(['user_id', 'course_id'])['probability']\n",
    "    .apply(lambda x: calculate_entropy(x.values))\n",
    "    .reset_index(name='entropy_time_reply_phase1')\n",
    ")\n",
    "\n",
    "# Hiển thị kết quả\n",
    "print(entropy_values_phase1.head())"
   ]
  },
  {
   "cell_type": "code",
   "execution_count": 40,
   "id": "dec02033",
   "metadata": {
    "execution": {
     "iopub.execute_input": "2025-04-24T14:39:36.001944Z",
     "iopub.status.busy": "2025-04-24T14:39:36.001534Z",
     "iopub.status.idle": "2025-04-24T14:39:36.380365Z",
     "shell.execute_reply": "2025-04-24T14:39:36.379264Z"
    },
    "papermill": {
     "duration": 0.398545,
     "end_time": "2025-04-24T14:39:36.382243",
     "exception": false,
     "start_time": "2025-04-24T14:39:35.983698",
     "status": "completed"
    },
    "tags": []
   },
   "outputs": [
    {
     "name": "stderr",
     "output_type": "stream",
     "text": [
      "/usr/local/lib/python3.10/dist-packages/seaborn/_oldcore.py:1119: FutureWarning: use_inf_as_na option is deprecated and will be removed in a future version. Convert inf values to NaN before operating instead.\n",
      "  with pd.option_context('mode.use_inf_as_na', True):\n"
     ]
    },
    {
     "data": {
      "image/png": "[encoded data removed]",
      "text/plain": [
       "<Figure size 1000x600 with 1 Axes>"
      ]
     },
     "metadata": {},
     "output_type": "display_data"
    }
   ],
   "source": [
    "# Vẽ biểu đồ phân bố entropy\n",
    "plt.figure(figsize=(10, 6))\n",
    "sns.histplot(entropy_values_phase1[\"entropy_time_reply_phase1\"], bins=50, kde=True, color=\"royalblue\")\n",
    "\n",
    "# Định dạng biểu đồ\n",
    "plt.xlabel(\"Entropy\", fontsize=14)\n",
    "plt.ylabel(\"Số lượng user-course\", fontsize=14)\n",
    "plt.title(\"Phân bố Entropy của thời gian reply\", fontsize=16)\n",
    "plt.grid(axis=\"y\", linestyle=\"--\", alpha=0.7)\n",
    "\n",
    "# Hiển thị biểu đồ\n",
    "plt.show()"
   ]
  },
  {
   "cell_type": "markdown",
   "id": "82244460",
   "metadata": {
    "papermill": {
     "duration": 0.017734,
     "end_time": "2025-04-24T14:39:36.418161",
     "exception": false,
     "start_time": "2025-04-24T14:39:36.400427",
     "status": "completed"
    },
    "tags": []
   },
   "source": [
    "Nhận xét:\n",
    "- Biểu đồ này cho thấy rằng phần lớn user không có hoặc có rất ít hoạt động reply trên diễn đàn.\n",
    "- Nhóm có entropy thấp (< 0.5): Reply vào khung giờ cố định hoặc rất ít hoạt động.\n",
    "- Nhóm có entropy trung bình (0.5 - 1.5): Reply có quy luật nhưng vẫn có chút linh hoạt.\n",
    "- Nhóm có entropy cao (> 2.0): Thói quen học tập không cố định, reply vào nhiều khung giờ khác nhau."
   ]
  },
  {
   "cell_type": "code",
   "execution_count": 41,
   "id": "6aac7225",
   "metadata": {
    "execution": {
     "iopub.execute_input": "2025-04-24T14:39:36.455670Z",
     "iopub.status.busy": "2025-04-24T14:39:36.455247Z",
     "iopub.status.idle": "2025-04-24T14:39:36.485802Z",
     "shell.execute_reply": "2025-04-24T14:39:36.484502Z"
    },
    "papermill": {
     "duration": 0.05138,
     "end_time": "2025-04-24T14:39:36.487591",
     "exception": false,
     "start_time": "2025-04-24T14:39:36.436211",
     "status": "completed"
    },
    "tags": []
   },
   "outputs": [
    {
     "name": "stdout",
     "output_type": "stream",
     "text": [
      "      user_id course_id  reply_count_phase1  total_words_phase1  \\\n",
      "0  U_10036301  C_936971                   1                   1   \n",
      "1  U_10036426  C_936971                   1                   5   \n",
      "2  U_10060289  C_948428                   3                  84   \n",
      "3  U_10060390  C_681074                   1                  76   \n",
      "4  U_10062271  C_735296                   1                   6   \n",
      "\n",
      "   entropy_time_reply_phase1  \n",
      "0                   0.000000  \n",
      "1                   0.000000  \n",
      "2                   0.636514  \n",
      "3                   0.000000  \n",
      "4                   0.000000  \n"
     ]
    }
   ],
   "source": [
    "Phase1_reply = result_phase1.merge(entropy_values_phase1, on=['user_id', 'course_id'], how='outer')\n",
    "\n",
    "# Nếu một số user-course không có entropy, điền giá trị mặc định là 0\n",
    "Phase1_reply['entropy_time_reply_phase1'] = Phase1_reply['entropy_time_reply_phase1'].fillna(0)\n",
    "\n",
    "print(Phase1_reply.head())"
   ]
  },
  {
   "cell_type": "markdown",
   "id": "c9649147",
   "metadata": {
    "papermill": {
     "duration": 0.017633,
     "end_time": "2025-04-24T14:39:36.523098",
     "exception": false,
     "start_time": "2025-04-24T14:39:36.505465",
     "status": "completed"
    },
    "tags": []
   },
   "source": [
    "# Phase 2"
   ]
  },
  {
   "cell_type": "code",
   "execution_count": 42,
   "id": "efdb78ae",
   "metadata": {
    "execution": {
     "iopub.execute_input": "2025-04-24T14:39:36.560258Z",
     "iopub.status.busy": "2025-04-24T14:39:36.559879Z",
     "iopub.status.idle": "2025-04-24T14:39:36.569977Z",
     "shell.execute_reply": "2025-04-24T14:39:36.568836Z"
    },
    "papermill": {
     "duration": 0.03122,
     "end_time": "2025-04-24T14:39:36.572155",
     "exception": false,
     "start_time": "2025-04-24T14:39:36.540935",
     "status": "completed"
    },
    "tags": []
   },
   "outputs": [],
   "source": [
    "Phase2_rep = reply[(reply['days_since_enroll'] > 14) & (reply['days_since_enroll'] <= 28)]"
   ]
  },
  {
   "cell_type": "code",
   "execution_count": 43,
   "id": "24413c85",
   "metadata": {
    "execution": {
     "iopub.execute_input": "2025-04-24T14:39:36.610104Z",
     "iopub.status.busy": "2025-04-24T14:39:36.609749Z",
     "iopub.status.idle": "2025-04-24T14:39:36.625854Z",
     "shell.execute_reply": "2025-04-24T14:39:36.624637Z"
    },
    "papermill": {
     "duration": 0.037281,
     "end_time": "2025-04-24T14:39:36.627814",
     "exception": false,
     "start_time": "2025-04-24T14:39:36.590533",
     "status": "completed"
    },
    "tags": []
   },
   "outputs": [
    {
     "name": "stdout",
     "output_type": "stream",
     "text": [
      "<class 'pandas.core.frame.DataFrame'>\n",
      "Index: 9958 entries, 65 to 146757\n",
      "Data columns (total 9 columns):\n",
      " #   Column             Non-Null Count  Dtype         \n",
      "---  ------             --------------  -----         \n",
      " 0   reply_id           9958 non-null   object        \n",
      " 1   user_id            9958 non-null   object        \n",
      " 2   course_id          9958 non-null   object        \n",
      " 3   comment_id         9958 non-null   object        \n",
      " 4   text               9958 non-null   object        \n",
      " 5   create_time        9958 non-null   datetime64[ns]\n",
      " 6   enroll_time        9958 non-null   datetime64[ns]\n",
      " 7   days_since_enroll  9958 non-null   int64         \n",
      " 8   num_words_rep      9958 non-null   int64         \n",
      "dtypes: datetime64[ns](2), int64(2), object(5)\n",
      "memory usage: 778.0+ KB\n"
     ]
    }
   ],
   "source": [
    "Phase2_rep.info()"
   ]
  },
  {
   "cell_type": "code",
   "execution_count": 44,
   "id": "2e2fa28b",
   "metadata": {
    "execution": {
     "iopub.execute_input": "2025-04-24T14:39:36.666377Z",
     "iopub.status.busy": "2025-04-24T14:39:36.666014Z",
     "iopub.status.idle": "2025-04-24T14:39:36.702062Z",
     "shell.execute_reply": "2025-04-24T14:39:36.700821Z"
    },
    "papermill": {
     "duration": 0.056638,
     "end_time": "2025-04-24T14:39:36.703917",
     "exception": false,
     "start_time": "2025-04-24T14:39:36.647279",
     "status": "completed"
    },
    "tags": []
   },
   "outputs": [
    {
     "name": "stdout",
     "output_type": "stream",
     "text": [
      "         user_id  course_id  reply_count_phase2  total_words_phase2\n",
      "0     U_10037312   C_936971                   1                   8\n",
      "1     U_10060390   C_681074                   1                   4\n",
      "2     U_10060401   C_862969                   7                  52\n",
      "3     U_10097786   C_682813                   1                   1\n",
      "4      U_1012380   C_696689                   1                  14\n",
      "...          ...        ...                 ...                 ...\n",
      "4509   U_9941870   C_770738                   1                  15\n",
      "4510   U_9952866  C_2290629                   1                  21\n",
      "4511   U_9955542   C_936971                   1                   3\n",
      "4512     U_99579   C_819285                   1                  15\n",
      "4513     U_99579   C_916828                   4                 361\n",
      "\n",
      "[4514 rows x 4 columns]\n"
     ]
    }
   ],
   "source": [
    "# Tính tổng số chữ phản hồi của user trong phase 2\n",
    "word_count_phase2 = Phase2_rep.groupby(['user_id', 'course_id'])['num_words_rep'].sum().reset_index(name='total_words_phase2')\n",
    "\n",
    "# Đếm số lượng phản hồi trong phase 2\n",
    "reply_count_phase2 = Phase2_rep.groupby(['user_id', 'course_id']).size().reset_index(name='reply_count_phase2')\n",
    "\n",
    "result_phase2 = pd.merge(reply_count_phase2, word_count_phase2, on=['user_id', 'course_id'], how='outer')\n",
    "print(result_phase2)"
   ]
  },
  {
   "cell_type": "code",
   "execution_count": 45,
   "id": "ffa38f9c",
   "metadata": {
    "execution": {
     "iopub.execute_input": "2025-04-24T14:39:36.741703Z",
     "iopub.status.busy": "2025-04-24T14:39:36.741309Z",
     "iopub.status.idle": "2025-04-24T14:39:37.022353Z",
     "shell.execute_reply": "2025-04-24T14:39:37.020807Z"
    },
    "papermill": {
     "duration": 0.302306,
     "end_time": "2025-04-24T14:39:37.024421",
     "exception": false,
     "start_time": "2025-04-24T14:39:36.722115",
     "status": "completed"
    },
    "tags": []
   },
   "outputs": [
    {
     "name": "stdout",
     "output_type": "stream",
     "text": [
      "      user_id course_id  entropy_time_reply_phase2\n",
      "0  U_10037312  C_936971                   0.000000\n",
      "1  U_10060390  C_681074                   0.000000\n",
      "2  U_10060401  C_862969                   1.078992\n",
      "3  U_10097786  C_682813                   0.000000\n",
      "4   U_1012380  C_696689                   0.000000\n"
     ]
    }
   ],
   "source": [
    "# Sắp xếp dữ liệu theo user_id, course_id, và create_time\n",
    "Phase2_rep = Phase2_rep.sort_values(by=['user_id', 'course_id', 'create_time'])\n",
    "\n",
    "# Xác định khoảng thời gian (bins)\n",
    "Phase2_rep['time_bin'] = Phase2_rep['create_time'].apply(assign_time_bin)\n",
    "\n",
    "# Đếm số lượng reply trong mỗi khoảng thời gian\n",
    "time_bin_counts2 = Phase2_rep.groupby(['user_id', 'course_id', 'time_bin']).size().reset_index(name='count')\n",
    "\n",
    "# Tính tổng số reply của mỗi user trong từng khóa học\n",
    "total_replies2 = Phase2_rep.groupby(['user_id', 'course_id']).size().reset_index(name='total_count')\n",
    "\n",
    "time_bin_counts2 = time_bin_counts2.merge(total_replies2, on=['user_id', 'course_id'], how='left')\n",
    "\n",
    "# Tính xác suất xuất hiện của mỗi bin\n",
    "time_bin_counts2['probability'] = time_bin_counts2['count'] / time_bin_counts2['total_count']\n",
    "\n",
    "# Tính entropy theo công thức Shannon entropy\n",
    "entropy_values_phase2 = (\n",
    "    time_bin_counts2.groupby(['user_id', 'course_id'])['probability']\n",
    "    .apply(lambda x: calculate_entropy(x.values))\n",
    "    .reset_index(name='entropy_time_reply_phase2')\n",
    ")\n",
    "\n",
    "# Hiển thị kết quả\n",
    "print(entropy_values_phase2.head())"
   ]
  },
  {
   "cell_type": "code",
   "execution_count": 46,
   "id": "9ac6ce5b",
   "metadata": {
    "execution": {
     "iopub.execute_input": "2025-04-24T14:39:37.063840Z",
     "iopub.status.busy": "2025-04-24T14:39:37.063425Z",
     "iopub.status.idle": "2025-04-24T14:39:37.408629Z",
     "shell.execute_reply": "2025-04-24T14:39:37.407533Z"
    },
    "papermill": {
     "duration": 0.366791,
     "end_time": "2025-04-24T14:39:37.410433",
     "exception": false,
     "start_time": "2025-04-24T14:39:37.043642",
     "status": "completed"
    },
    "tags": []
   },
   "outputs": [
    {
     "name": "stderr",
     "output_type": "stream",
     "text": [
      "/usr/local/lib/python3.10/dist-packages/seaborn/_oldcore.py:1119: FutureWarning: use_inf_as_na option is deprecated and will be removed in a future version. Convert inf values to NaN before operating instead.\n",
      "  with pd.option_context('mode.use_inf_as_na', True):\n"
     ]
    },
    {
     "data": {
      "image/png": "[encoded data removed]",
      "text/plain": [
       "<Figure size 1000x600 with 1 Axes>"
      ]
     },
     "metadata": {},
     "output_type": "display_data"
    }
   ],
   "source": [
    "# Vẽ biểu đồ phân bố entropy\n",
    "plt.figure(figsize=(10, 6))\n",
    "sns.histplot(entropy_values_phase2[\"entropy_time_reply_phase2\"], bins=50, kde=True, color=\"royalblue\")\n",
    "\n",
    "# Định dạng biểu đồ\n",
    "plt.xlabel(\"Entropy\", fontsize=14)\n",
    "plt.ylabel(\"Số lượng user-course\", fontsize=14)\n",
    "plt.title(\"Phân bố Entropy của thời gian reply Phase 2\", fontsize=16)\n",
    "plt.grid(axis=\"y\", linestyle=\"--\", alpha=0.7)\n",
    "\n",
    "# Hiển thị biểu đồ\n",
    "plt.show()"
   ]
  },
  {
   "cell_type": "code",
   "execution_count": 47,
   "id": "c5bc1c45",
   "metadata": {
    "execution": {
     "iopub.execute_input": "2025-04-24T14:39:37.450918Z",
     "iopub.status.busy": "2025-04-24T14:39:37.450493Z",
     "iopub.status.idle": "2025-04-24T14:39:37.468112Z",
     "shell.execute_reply": "2025-04-24T14:39:37.466967Z"
    },
    "papermill": {
     "duration": 0.039694,
     "end_time": "2025-04-24T14:39:37.469841",
     "exception": false,
     "start_time": "2025-04-24T14:39:37.430147",
     "status": "completed"
    },
    "tags": []
   },
   "outputs": [
    {
     "name": "stdout",
     "output_type": "stream",
     "text": [
      "      user_id course_id  reply_count_phase2  total_words_phase2  \\\n",
      "0  U_10037312  C_936971                   1                   8   \n",
      "1  U_10060390  C_681074                   1                   4   \n",
      "2  U_10060401  C_862969                   7                  52   \n",
      "3  U_10097786  C_682813                   1                   1   \n",
      "4   U_1012380  C_696689                   1                  14   \n",
      "\n",
      "   entropy_time_reply_phase2  \n",
      "0                   0.000000  \n",
      "1                   0.000000  \n",
      "2                   1.078992  \n",
      "3                   0.000000  \n",
      "4                   0.000000  \n"
     ]
    }
   ],
   "source": [
    "Phase2_reply = result_phase2.merge(entropy_values_phase2, on=['user_id', 'course_id'], how='outer')\n",
    "\n",
    "# Nếu một số user-course không có entropy, điền giá trị mặc định là 0\n",
    "Phase2_reply['entropy_time_reply_phase2'] = Phase2_reply['entropy_time_reply_phase2'].fillna(0)\n",
    "\n",
    "print(Phase2_reply.head())"
   ]
  },
  {
   "cell_type": "markdown",
   "id": "62332744",
   "metadata": {
    "papermill": {
     "duration": 0.019016,
     "end_time": "2025-04-24T14:39:37.508631",
     "exception": false,
     "start_time": "2025-04-24T14:39:37.489615",
     "status": "completed"
    },
    "tags": []
   },
   "source": [
    "# Phase 3"
   ]
  },
  {
   "cell_type": "code",
   "execution_count": 48,
   "id": "9268fabe",
   "metadata": {
    "execution": {
     "iopub.execute_input": "2025-04-24T14:39:37.548295Z",
     "iopub.status.busy": "2025-04-24T14:39:37.547923Z",
     "iopub.status.idle": "2025-04-24T14:39:37.557316Z",
     "shell.execute_reply": "2025-04-24T14:39:37.556344Z"
    },
    "papermill": {
     "duration": 0.031415,
     "end_time": "2025-04-24T14:39:37.559218",
     "exception": false,
     "start_time": "2025-04-24T14:39:37.527803",
     "status": "completed"
    },
    "tags": []
   },
   "outputs": [],
   "source": [
    "Phase3_rep = reply[(reply['days_since_enroll'] > 28) & (reply['days_since_enroll'] <= 42)]"
   ]
  },
  {
   "cell_type": "code",
   "execution_count": 49,
   "id": "1e3ad812",
   "metadata": {
    "execution": {
     "iopub.execute_input": "2025-04-24T14:39:37.600070Z",
     "iopub.status.busy": "2025-04-24T14:39:37.599720Z",
     "iopub.status.idle": "2025-04-24T14:39:37.614760Z",
     "shell.execute_reply": "2025-04-24T14:39:37.613536Z"
    },
    "papermill": {
     "duration": 0.037135,
     "end_time": "2025-04-24T14:39:37.616518",
     "exception": false,
     "start_time": "2025-04-24T14:39:37.579383",
     "status": "completed"
    },
    "tags": []
   },
   "outputs": [
    {
     "name": "stdout",
     "output_type": "stream",
     "text": [
      "<class 'pandas.core.frame.DataFrame'>\n",
      "Index: 7188 entries, 244 to 146802\n",
      "Data columns (total 9 columns):\n",
      " #   Column             Non-Null Count  Dtype         \n",
      "---  ------             --------------  -----         \n",
      " 0   reply_id           7188 non-null   object        \n",
      " 1   user_id            7188 non-null   object        \n",
      " 2   course_id          7188 non-null   object        \n",
      " 3   comment_id         7188 non-null   object        \n",
      " 4   text               7188 non-null   object        \n",
      " 5   create_time        7188 non-null   datetime64[ns]\n",
      " 6   enroll_time        7188 non-null   datetime64[ns]\n",
      " 7   days_since_enroll  7188 non-null   int64         \n",
      " 8   num_words_rep      7188 non-null   int64         \n",
      "dtypes: datetime64[ns](2), int64(2), object(5)\n",
      "memory usage: 561.6+ KB\n"
     ]
    }
   ],
   "source": [
    "Phase3_rep.info()"
   ]
  },
  {
   "cell_type": "code",
   "execution_count": 50,
   "id": "a322f1b5",
   "metadata": {
    "execution": {
     "iopub.execute_input": "2025-04-24T14:39:37.656424Z",
     "iopub.status.busy": "2025-04-24T14:39:37.656031Z",
     "iopub.status.idle": "2025-04-24T14:39:37.685318Z",
     "shell.execute_reply": "2025-04-24T14:39:37.684226Z"
    },
    "papermill": {
     "duration": 0.051078,
     "end_time": "2025-04-24T14:39:37.686943",
     "exception": false,
     "start_time": "2025-04-24T14:39:37.635865",
     "status": "completed"
    },
    "tags": []
   },
   "outputs": [
    {
     "name": "stdout",
     "output_type": "stream",
     "text": [
      "         user_id  course_id  reply_count_phase3  total_words_phase3\n",
      "0     U_10034442   C_696889                   1                   3\n",
      "1     U_10060390   C_681074                   6                 331\n",
      "2     U_10060580   C_681074                   1                   7\n",
      "3     U_10136965  C_1738993                  13                  81\n",
      "4     U_10175340  C_1647264                   4                 327\n",
      "...          ...        ...                 ...                 ...\n",
      "2973   U_9884041   C_789961                   1                   4\n",
      "2974   U_9941870   C_735157                   1                  17\n",
      "2975   U_9952866   C_674953                   1                   2\n",
      "2976     U_99579   C_819285                   1                  23\n",
      "2977     U_99772  C_1903985                   1                  19\n",
      "\n",
      "[2978 rows x 4 columns]\n"
     ]
    }
   ],
   "source": [
    "# Tính tổng số chữ phản hồi của user trong phase 3\n",
    "word_count_phase3 = Phase3_rep.groupby(['user_id', 'course_id'])['num_words_rep'].sum().reset_index(name='total_words_phase3')\n",
    "\n",
    "# Đếm số lượng phản hồi trong phase 3\n",
    "reply_count_phase3 = Phase3_rep.groupby(['user_id', 'course_id']).size().reset_index(name='reply_count_phase3')\n",
    "\n",
    "result_phase3 = pd.merge(reply_count_phase3, word_count_phase3, on=['user_id', 'course_id'], how='outer')\n",
    "print(result_phase3)"
   ]
  },
  {
   "cell_type": "code",
   "execution_count": 51,
   "id": "0e7fb1fe",
   "metadata": {
    "execution": {
     "iopub.execute_input": "2025-04-24T14:39:37.728077Z",
     "iopub.status.busy": "2025-04-24T14:39:37.727723Z",
     "iopub.status.idle": "2025-04-24T14:39:37.864604Z",
     "shell.execute_reply": "2025-04-24T14:39:37.863409Z"
    },
    "papermill": {
     "duration": 0.159683,
     "end_time": "2025-04-24T14:39:37.866403",
     "exception": false,
     "start_time": "2025-04-24T14:39:37.706720",
     "status": "completed"
    },
    "tags": []
   },
   "outputs": [
    {
     "name": "stdout",
     "output_type": "stream",
     "text": [
      "      user_id  course_id  entropy_time_reply_phase3\n",
      "0  U_10034442   C_696889                   0.000000\n",
      "1  U_10060390   C_681074                   1.329661\n",
      "2  U_10060580   C_681074                   0.000000\n",
      "3  U_10136965  C_1738993                   0.000000\n",
      "4  U_10175340  C_1647264                   1.039721\n"
     ]
    }
   ],
   "source": [
    "# Bước 1: Sắp xếp dữ liệu theo user_id, course_id, và create_time\n",
    "Phase3_rep = Phase3_rep.sort_values(by=['user_id', 'course_id', 'create_time'])\n",
    "\n",
    "# Bước 2: Xác định khoảng thời gian (bins)\n",
    "Phase3_rep['time_bin'] = Phase3_rep['create_time'].apply(assign_time_bin)\n",
    "\n",
    "# Bước 3: Đếm số lượng reply trong mỗi khoảng thời gian\n",
    "time_bin_counts3 = Phase3_rep.groupby(['user_id', 'course_id', 'time_bin']).size().reset_index(name='count')\n",
    "\n",
    "# Bước 4: Tính tổng số reply của mỗi user trong từng khóa học\n",
    "total_replies3 = Phase3_rep.groupby(['user_id', 'course_id']).size().reset_index(name='total_count')\n",
    "\n",
    "time_bin_counts3 = time_bin_counts3.merge(total_replies3, on=['user_id', 'course_id'], how='left')\n",
    "\n",
    "# Bước 5: Tính xác suất xuất hiện của mỗi bin\n",
    "time_bin_counts3['probability'] = time_bin_counts3['count'] / time_bin_counts3['total_count']\n",
    "\n",
    "# Bước 6: Tính entropy theo công thức Shannon entropy\n",
    "entropy_values_phase3 = (\n",
    "    time_bin_counts3.groupby(['user_id', 'course_id'])['probability']\n",
    "    .apply(lambda x: calculate_entropy(x.values))\n",
    "    .reset_index(name='entropy_time_reply_phase3')\n",
    ")\n",
    "\n",
    "# Hiển thị kết quả\n",
    "print(entropy_values_phase3.head())"
   ]
  },
  {
   "cell_type": "code",
   "execution_count": 52,
   "id": "123fe180",
   "metadata": {
    "execution": {
     "iopub.execute_input": "2025-04-24T14:39:37.908698Z",
     "iopub.status.busy": "2025-04-24T14:39:37.908287Z",
     "iopub.status.idle": "2025-04-24T14:39:38.216656Z",
     "shell.execute_reply": "2025-04-24T14:39:38.215613Z"
    },
    "papermill": {
     "duration": 0.332346,
     "end_time": "2025-04-24T14:39:38.218298",
     "exception": false,
     "start_time": "2025-04-24T14:39:37.885952",
     "status": "completed"
    },
    "tags": []
   },
   "outputs": [
    {
     "name": "stderr",
     "output_type": "stream",
     "text": [
      "/usr/local/lib/python3.10/dist-packages/seaborn/_oldcore.py:1119: FutureWarning: use_inf_as_na option is deprecated and will be removed in a future version. Convert inf values to NaN before operating instead.\n",
      "  with pd.option_context('mode.use_inf_as_na', True):\n"
     ]
    },
    {
     "data": {
      "image/png": "[encoded data removed]",
      "text/plain": [
       "<Figure size 1000x600 with 1 Axes>"
      ]
     },
     "metadata": {},
     "output_type": "display_data"
    }
   ],
   "source": [
    "# Vẽ biểu đồ phân bố entropy\n",
    "plt.figure(figsize=(10, 6))\n",
    "sns.histplot(entropy_values_phase3[\"entropy_time_reply_phase3\"], bins=50, kde=True, color=\"royalblue\")\n",
    "\n",
    "# Định dạng biểu đồ\n",
    "plt.xlabel(\"Entropy\", fontsize=14)\n",
    "plt.ylabel(\"Số lượng user-course\", fontsize=14)\n",
    "plt.title(\"Phân bố Entropy của thời gian reply Phase 3\", fontsize=16)\n",
    "plt.grid(axis=\"y\", linestyle=\"--\", alpha=0.7)\n",
    "\n",
    "# Hiển thị biểu đồ\n",
    "plt.show()"
   ]
  },
  {
   "cell_type": "code",
   "execution_count": 53,
   "id": "0bfc0686",
   "metadata": {
    "execution": {
     "iopub.execute_input": "2025-04-24T14:39:38.260462Z",
     "iopub.status.busy": "2025-04-24T14:39:38.260095Z",
     "iopub.status.idle": "2025-04-24T14:39:38.275046Z",
     "shell.execute_reply": "2025-04-24T14:39:38.273611Z"
    },
    "papermill": {
     "duration": 0.038205,
     "end_time": "2025-04-24T14:39:38.276977",
     "exception": false,
     "start_time": "2025-04-24T14:39:38.238772",
     "status": "completed"
    },
    "tags": []
   },
   "outputs": [
    {
     "name": "stdout",
     "output_type": "stream",
     "text": [
      "      user_id  course_id  reply_count_phase3  total_words_phase3  \\\n",
      "0  U_10034442   C_696889                   1                   3   \n",
      "1  U_10060390   C_681074                   6                 331   \n",
      "2  U_10060580   C_681074                   1                   7   \n",
      "3  U_10136965  C_1738993                  13                  81   \n",
      "4  U_10175340  C_1647264                   4                 327   \n",
      "\n",
      "   entropy_time_reply_phase3  \n",
      "0                   0.000000  \n",
      "1                   1.329661  \n",
      "2                   0.000000  \n",
      "3                   0.000000  \n",
      "4                   1.039721  \n"
     ]
    }
   ],
   "source": [
    "Phase3_reply = result_phase3.merge(entropy_values_phase3, on=['user_id', 'course_id'], how='left')\n",
    "\n",
    "# Nếu một số user-course không có entropy, điền giá trị mặc định là 0\n",
    "Phase3_reply['entropy_time_reply_phase3'] = Phase3_reply['entropy_time_reply_phase3'].fillna(0)\n",
    "\n",
    "print(Phase3_reply.head())"
   ]
  },
  {
   "cell_type": "markdown",
   "id": "91f89352",
   "metadata": {
    "papermill": {
     "duration": 0.020089,
     "end_time": "2025-04-24T14:39:38.317792",
     "exception": false,
     "start_time": "2025-04-24T14:39:38.297703",
     "status": "completed"
    },
    "tags": []
   },
   "source": [
    "# Phase 4"
   ]
  },
  {
   "cell_type": "code",
   "execution_count": 54,
   "id": "ea595ae8",
   "metadata": {
    "execution": {
     "iopub.execute_input": "2025-04-24T14:39:38.359704Z",
     "iopub.status.busy": "2025-04-24T14:39:38.359274Z",
     "iopub.status.idle": "2025-04-24T14:39:38.368072Z",
     "shell.execute_reply": "2025-04-24T14:39:38.366981Z"
    },
    "papermill": {
     "duration": 0.031866,
     "end_time": "2025-04-24T14:39:38.369870",
     "exception": false,
     "start_time": "2025-04-24T14:39:38.338004",
     "status": "completed"
    },
    "tags": []
   },
   "outputs": [],
   "source": [
    "Phase4_rep = reply[(reply['days_since_enroll'] > 42) & (reply['days_since_enroll'] <= 56)]"
   ]
  },
  {
   "cell_type": "code",
   "execution_count": 55,
   "id": "f5288f8f",
   "metadata": {
    "execution": {
     "iopub.execute_input": "2025-04-24T14:39:38.412938Z",
     "iopub.status.busy": "2025-04-24T14:39:38.412564Z",
     "iopub.status.idle": "2025-04-24T14:39:38.427815Z",
     "shell.execute_reply": "2025-04-24T14:39:38.426469Z"
    },
    "papermill": {
     "duration": 0.038215,
     "end_time": "2025-04-24T14:39:38.429600",
     "exception": false,
     "start_time": "2025-04-24T14:39:38.391385",
     "status": "completed"
    },
    "tags": []
   },
   "outputs": [
    {
     "name": "stdout",
     "output_type": "stream",
     "text": [
      "<class 'pandas.core.frame.DataFrame'>\n",
      "Index: 6069 entries, 503 to 146805\n",
      "Data columns (total 9 columns):\n",
      " #   Column             Non-Null Count  Dtype         \n",
      "---  ------             --------------  -----         \n",
      " 0   reply_id           6069 non-null   object        \n",
      " 1   user_id            6069 non-null   object        \n",
      " 2   course_id          6069 non-null   object        \n",
      " 3   comment_id         6069 non-null   object        \n",
      " 4   text               6069 non-null   object        \n",
      " 5   create_time        6069 non-null   datetime64[ns]\n",
      " 6   enroll_time        6069 non-null   datetime64[ns]\n",
      " 7   days_since_enroll  6069 non-null   int64         \n",
      " 8   num_words_rep      6069 non-null   int64         \n",
      "dtypes: datetime64[ns](2), int64(2), object(5)\n",
      "memory usage: 474.1+ KB\n"
     ]
    }
   ],
   "source": [
    "Phase4_rep.info()"
   ]
  },
  {
   "cell_type": "code",
   "execution_count": 56,
   "id": "952922a3",
   "metadata": {
    "execution": {
     "iopub.execute_input": "2025-04-24T14:39:38.473594Z",
     "iopub.status.busy": "2025-04-24T14:39:38.473203Z",
     "iopub.status.idle": "2025-04-24T14:39:38.497939Z",
     "shell.execute_reply": "2025-04-24T14:39:38.496418Z"
    },
    "papermill": {
     "duration": 0.049529,
     "end_time": "2025-04-24T14:39:38.499733",
     "exception": false,
     "start_time": "2025-04-24T14:39:38.450204",
     "status": "completed"
    },
    "tags": []
   },
   "outputs": [
    {
     "name": "stdout",
     "output_type": "stream",
     "text": [
      "         user_id course_id  reply_count_phase4  total_words_phase4\n",
      "0       U_100306  C_697018                   1                   2\n",
      "1     U_10036304  C_936971                   1                   1\n",
      "2     U_10099780  C_948417                  15                 269\n",
      "3     U_10136965  C_789278                   1                  45\n",
      "4     U_10150412  C_679390                   7                 359\n",
      "...          ...       ...                 ...                 ...\n",
      "2151   U_9805409  C_682469                   1                  21\n",
      "2152     U_98262  C_948417                   1                   5\n",
      "2153   U_9826537  C_947260                   1                  21\n",
      "2154   U_9860774  C_735046                   5                 190\n",
      "2155    U_989735  C_735164                   1                   4\n",
      "\n",
      "[2156 rows x 4 columns]\n"
     ]
    }
   ],
   "source": [
    "# Tính tổng số chữ phản hồi của user trong phase 4\n",
    "word_count_phase4 = Phase4_rep.groupby(['user_id', 'course_id'])['num_words_rep'].sum().reset_index(name='total_words_phase4')\n",
    "\n",
    "# Đếm số lượng phản hồi trong phase 4\n",
    "reply_count_phase4 = Phase4_rep.groupby(['user_id', 'course_id']).size().reset_index(name='reply_count_phase4')\n",
    "\n",
    "result_phase4 = pd.merge(reply_count_phase4, word_count_phase4, on=['user_id', 'course_id'], how='outer')\n",
    "print(result_phase4)"
   ]
  },
  {
   "cell_type": "code",
   "execution_count": 57,
   "id": "36b3f153",
   "metadata": {
    "execution": {
     "iopub.execute_input": "2025-04-24T14:39:38.542439Z",
     "iopub.status.busy": "2025-04-24T14:39:38.542092Z",
     "iopub.status.idle": "2025-04-24T14:39:38.647048Z",
     "shell.execute_reply": "2025-04-24T14:39:38.645894Z"
    },
    "papermill": {
     "duration": 0.128371,
     "end_time": "2025-04-24T14:39:38.648922",
     "exception": false,
     "start_time": "2025-04-24T14:39:38.520551",
     "status": "completed"
    },
    "tags": []
   },
   "outputs": [
    {
     "name": "stdout",
     "output_type": "stream",
     "text": [
      "      user_id course_id  entropy_time_reply_phase4\n",
      "0    U_100306  C_697018                   0.000000\n",
      "1  U_10036304  C_936971                   0.000000\n",
      "2  U_10099780  C_948417                   1.235145\n",
      "3  U_10136965  C_789278                   0.000000\n",
      "4  U_10150412  C_679390                   1.351784\n"
     ]
    }
   ],
   "source": [
    "# Bước 1: Sắp xếp dữ liệu theo user_id, course_id, và create_time\n",
    "Phase4_rep = Phase4_rep.sort_values(by=['user_id', 'course_id', 'create_time'])\n",
    "\n",
    "# Bước 2: Xác định khoảng thời gian (bins)\n",
    "Phase4_rep['time_bin'] = Phase4_rep['create_time'].apply(assign_time_bin)\n",
    "\n",
    "# Bước 3: Đếm số lượng reply trong mỗi khoảng thời gian\n",
    "time_bin_counts4 = Phase4_rep.groupby(['user_id', 'course_id', 'time_bin']).size().reset_index(name='count')\n",
    "\n",
    "# Bước 4: Tính tổng số reply của mỗi user trong từng khóa học\n",
    "total_replies4 = Phase4_rep.groupby(['user_id', 'course_id']).size().reset_index(name='total_count')\n",
    "\n",
    "time_bin_counts4 = time_bin_counts4.merge(total_replies4, on=['user_id', 'course_id'], how='left')\n",
    "\n",
    "# Bước 5: Tính xác suất xuất hiện của mỗi bin\n",
    "time_bin_counts4['probability'] = time_bin_counts4['count'] / time_bin_counts4['total_count']\n",
    "\n",
    "# Bước 6: Tính entropy theo công thức Shannon entropy\n",
    "entropy_values_phase4 = (\n",
    "    time_bin_counts4.groupby(['user_id', 'course_id'])['probability']\n",
    "    .apply(lambda x: calculate_entropy(x.values))\n",
    "    .reset_index(name='entropy_time_reply_phase4')\n",
    ")\n",
    "\n",
    "# Hiển thị kết quả\n",
    "print(entropy_values_phase4.head())"
   ]
  },
  {
   "cell_type": "code",
   "execution_count": 58,
   "id": "e10c0d97",
   "metadata": {
    "execution": {
     "iopub.execute_input": "2025-04-24T14:39:38.691471Z",
     "iopub.status.busy": "2025-04-24T14:39:38.691043Z",
     "iopub.status.idle": "2025-04-24T14:39:39.012064Z",
     "shell.execute_reply": "2025-04-24T14:39:39.010951Z"
    },
    "papermill": {
     "duration": 0.344215,
     "end_time": "2025-04-24T14:39:39.013849",
     "exception": false,
     "start_time": "2025-04-24T14:39:38.669634",
     "status": "completed"
    },
    "tags": []
   },
   "outputs": [
    {
     "name": "stderr",
     "output_type": "stream",
     "text": [
      "/usr/local/lib/python3.10/dist-packages/seaborn/_oldcore.py:1119: FutureWarning: use_inf_as_na option is deprecated and will be removed in a future version. Convert inf values to NaN before operating instead.\n",
      "  with pd.option_context('mode.use_inf_as_na', True):\n"
     ]
    },
    {
     "data": {
      "image/png": "[encoded data removed]",
      "text/plain": [
       "<Figure size 1000x600 with 1 Axes>"
      ]
     },
     "metadata": {},
     "output_type": "display_data"
    }
   ],
   "source": [
    "# Vẽ biểu đồ phân bố entropy\n",
    "plt.figure(figsize=(10, 6))\n",
    "sns.histplot(entropy_values_phase4[\"entropy_time_reply_phase4\"], bins=50, kde=True, color=\"royalblue\")\n",
    "\n",
    "# Định dạng biểu đồ\n",
    "plt.xlabel(\"Entropy\", fontsize=14)\n",
    "plt.ylabel(\"Số lượng user-course\", fontsize=14)\n",
    "plt.title(\"Phân bố Entropy của thời gian reply Phase 4\", fontsize=16)\n",
    "plt.grid(axis=\"y\", linestyle=\"--\", alpha=0.7)\n",
    "\n",
    "# Hiển thị biểu đồ\n",
    "plt.show()"
   ]
  },
  {
   "cell_type": "code",
   "execution_count": 59,
   "id": "6293fe98",
   "metadata": {
    "execution": {
     "iopub.execute_input": "2025-04-24T14:39:39.060253Z",
     "iopub.status.busy": "2025-04-24T14:39:39.059861Z",
     "iopub.status.idle": "2025-04-24T14:39:39.075199Z",
     "shell.execute_reply": "2025-04-24T14:39:39.073902Z"
    },
    "papermill": {
     "duration": 0.041362,
     "end_time": "2025-04-24T14:39:39.076991",
     "exception": false,
     "start_time": "2025-04-24T14:39:39.035629",
     "status": "completed"
    },
    "tags": []
   },
   "outputs": [
    {
     "name": "stdout",
     "output_type": "stream",
     "text": [
      "      user_id course_id  reply_count_phase4  total_words_phase4  \\\n",
      "0    U_100306  C_697018                   1                   2   \n",
      "1  U_10036304  C_936971                   1                   1   \n",
      "2  U_10099780  C_948417                  15                 269   \n",
      "3  U_10136965  C_789278                   1                  45   \n",
      "4  U_10150412  C_679390                   7                 359   \n",
      "\n",
      "   entropy_time_reply_phase4  \n",
      "0                   0.000000  \n",
      "1                   0.000000  \n",
      "2                   1.235145  \n",
      "3                   0.000000  \n",
      "4                   1.351784  \n"
     ]
    }
   ],
   "source": [
    "Phase4_reply = result_phase4.merge(entropy_values_phase4, on=['user_id', 'course_id'], how='outer')\n",
    "\n",
    "# Nếu một số user-course không có entropy, điền giá trị mặc định là 0\n",
    "Phase4_reply['entropy_time_reply_phase4'] = Phase4_reply['entropy_time_reply_phase4'].fillna(0)\n",
    "\n",
    "print(Phase4_reply.head())"
   ]
  },
  {
   "cell_type": "code",
   "execution_count": 60,
   "id": "bdeaa5c3",
   "metadata": {
    "execution": {
     "iopub.execute_input": "2025-04-24T14:39:39.122352Z",
     "iopub.status.busy": "2025-04-24T14:39:39.122020Z",
     "iopub.status.idle": "2025-04-24T14:39:39.259789Z",
     "shell.execute_reply": "2025-04-24T14:39:39.258415Z"
    },
    "papermill": {
     "duration": 0.162782,
     "end_time": "2025-04-24T14:39:39.261610",
     "exception": false,
     "start_time": "2025-04-24T14:39:39.098828",
     "status": "completed"
    },
    "tags": []
   },
   "outputs": [
    {
     "name": "stdout",
     "output_type": "stream",
     "text": [
      "<class 'pandas.core.frame.DataFrame'>\n",
      "RangeIndex: 22162 entries, 0 to 22161\n",
      "Data columns (total 14 columns):\n",
      " #   Column                     Non-Null Count  Dtype  \n",
      "---  ------                     --------------  -----  \n",
      " 0   user_id                    22162 non-null  object \n",
      " 1   course_id                  22162 non-null  object \n",
      " 2   reply_count_phase4         2156 non-null   float64\n",
      " 3   total_words_phase4         2156 non-null   float64\n",
      " 4   entropy_time_reply_phase4  2156 non-null   float64\n",
      " 5   reply_count_phase3         2978 non-null   float64\n",
      " 6   total_words_phase3         2978 non-null   float64\n",
      " 7   entropy_time_reply_phase3  2978 non-null   float64\n",
      " 8   reply_count_phase2         4514 non-null   float64\n",
      " 9   total_words_phase2         4514 non-null   float64\n",
      " 10  entropy_time_reply_phase2  4514 non-null   float64\n",
      " 11  reply_count_phase1         14749 non-null  float64\n",
      " 12  total_words_phase1         14749 non-null  float64\n",
      " 13  entropy_time_reply_phase1  14749 non-null  float64\n",
      "dtypes: float64(12), object(2)\n",
      "memory usage: 2.4+ MB\n"
     ]
    }
   ],
   "source": [
    "# Gộp dữ liệu của các phase lại\n",
    "Phase2 = Phase2_reply.merge(Phase1_reply, on=['user_id', 'course_id'], how='outer')\n",
    "\n",
    "Phase3 = Phase3_reply.merge(Phase2, on=['user_id', 'course_id'], how='outer')\n",
    "\n",
    "all_phases_reply = Phase4_reply.merge(Phase3, on=['user_id', 'course_id'], how='outer')\n",
    "\n",
    "all_phases_reply.info()"
   ]
  },
  {
   "cell_type": "code",
   "execution_count": 61,
   "id": "0ba7d62e",
   "metadata": {
    "execution": {
     "iopub.execute_input": "2025-04-24T14:39:39.306992Z",
     "iopub.status.busy": "2025-04-24T14:39:39.306603Z",
     "iopub.status.idle": "2025-04-24T14:39:39.338448Z",
     "shell.execute_reply": "2025-04-24T14:39:39.337212Z"
    },
    "papermill": {
     "duration": 0.056763,
     "end_time": "2025-04-24T14:39:39.340391",
     "exception": false,
     "start_time": "2025-04-24T14:39:39.283628",
     "status": "completed"
    },
    "tags": []
   },
   "outputs": [
    {
     "name": "stderr",
     "output_type": "stream",
     "text": [
      "/usr/local/lib/python3.10/dist-packages/pandas/io/formats/format.py:1458: RuntimeWarning: invalid value encountered in greater\n",
      "  has_large_values = (abs_vals > 1e6).any()\n",
      "/usr/local/lib/python3.10/dist-packages/pandas/io/formats/format.py:1459: RuntimeWarning: invalid value encountered in less\n",
      "  has_small_values = ((abs_vals < 10 ** (-self.digits)) & (abs_vals > 0)).any()\n",
      "/usr/local/lib/python3.10/dist-packages/pandas/io/formats/format.py:1459: RuntimeWarning: invalid value encountered in greater\n",
      "  has_small_values = ((abs_vals < 10 ** (-self.digits)) & (abs_vals > 0)).any()\n"
     ]
    },
    {
     "data": {
      "text/html": [
       "<div>\n",
       "<style scoped>\n",
       "    .dataframe tbody tr th:only-of-type {\n",
       "        vertical-align: middle;\n",
       "    }\n",
       "\n",
       "    .dataframe tbody tr th {\n",
       "        vertical-align: top;\n",
       "    }\n",
       "\n",
       "    .dataframe thead th {\n",
       "        text-align: right;\n",
       "    }\n",
       "</style>\n",
       "<table border=\"1\" class=\"dataframe\">\n",
       "  <thead>\n",
       "    <tr style=\"text-align: right;\">\n",
       "      <th></th>\n",
       "      <th>user_id</th>\n",
       "      <th>course_id</th>\n",
       "      <th>reply_count_phase1</th>\n",
       "      <th>total_words_phase1</th>\n",
       "      <th>entropy_time_reply_phase1</th>\n",
       "      <th>reply_count_phase2</th>\n",
       "      <th>total_words_phase2</th>\n",
       "      <th>entropy_time_reply_phase2</th>\n",
       "      <th>reply_count_phase3</th>\n",
       "      <th>total_words_phase3</th>\n",
       "      <th>entropy_time_reply_phase3</th>\n",
       "      <th>reply_count_phase4</th>\n",
       "      <th>total_words_phase4</th>\n",
       "      <th>entropy_time_reply_phase4</th>\n",
       "    </tr>\n",
       "  </thead>\n",
       "  <tbody>\n",
       "    <tr>\n",
       "      <th>0</th>\n",
       "      <td>U_100306</td>\n",
       "      <td>C_697018</td>\n",
       "      <td>NaN</td>\n",
       "      <td>NaN</td>\n",
       "      <td>NaN</td>\n",
       "      <td>NaN</td>\n",
       "      <td>NaN</td>\n",
       "      <td>NaN</td>\n",
       "      <td>NaN</td>\n",
       "      <td>NaN</td>\n",
       "      <td>NaN</td>\n",
       "      <td>1.0</td>\n",
       "      <td>2.0</td>\n",
       "      <td>0.0</td>\n",
       "    </tr>\n",
       "    <tr>\n",
       "      <th>1</th>\n",
       "      <td>U_10034442</td>\n",
       "      <td>C_696889</td>\n",
       "      <td>NaN</td>\n",
       "      <td>NaN</td>\n",
       "      <td>NaN</td>\n",
       "      <td>NaN</td>\n",
       "      <td>NaN</td>\n",
       "      <td>NaN</td>\n",
       "      <td>1.0</td>\n",
       "      <td>3.0</td>\n",
       "      <td>0.000000</td>\n",
       "      <td>NaN</td>\n",
       "      <td>NaN</td>\n",
       "      <td>NaN</td>\n",
       "    </tr>\n",
       "    <tr>\n",
       "      <th>2</th>\n",
       "      <td>U_10036301</td>\n",
       "      <td>C_936971</td>\n",
       "      <td>1.0</td>\n",
       "      <td>1.0</td>\n",
       "      <td>0.000000</td>\n",
       "      <td>NaN</td>\n",
       "      <td>NaN</td>\n",
       "      <td>NaN</td>\n",
       "      <td>NaN</td>\n",
       "      <td>NaN</td>\n",
       "      <td>NaN</td>\n",
       "      <td>NaN</td>\n",
       "      <td>NaN</td>\n",
       "      <td>NaN</td>\n",
       "    </tr>\n",
       "    <tr>\n",
       "      <th>3</th>\n",
       "      <td>U_10036304</td>\n",
       "      <td>C_936971</td>\n",
       "      <td>NaN</td>\n",
       "      <td>NaN</td>\n",
       "      <td>NaN</td>\n",
       "      <td>NaN</td>\n",
       "      <td>NaN</td>\n",
       "      <td>NaN</td>\n",
       "      <td>NaN</td>\n",
       "      <td>NaN</td>\n",
       "      <td>NaN</td>\n",
       "      <td>1.0</td>\n",
       "      <td>1.0</td>\n",
       "      <td>0.0</td>\n",
       "    </tr>\n",
       "    <tr>\n",
       "      <th>4</th>\n",
       "      <td>U_10036426</td>\n",
       "      <td>C_936971</td>\n",
       "      <td>1.0</td>\n",
       "      <td>5.0</td>\n",
       "      <td>0.000000</td>\n",
       "      <td>NaN</td>\n",
       "      <td>NaN</td>\n",
       "      <td>NaN</td>\n",
       "      <td>NaN</td>\n",
       "      <td>NaN</td>\n",
       "      <td>NaN</td>\n",
       "      <td>NaN</td>\n",
       "      <td>NaN</td>\n",
       "      <td>NaN</td>\n",
       "    </tr>\n",
       "    <tr>\n",
       "      <th>5</th>\n",
       "      <td>U_10037312</td>\n",
       "      <td>C_936971</td>\n",
       "      <td>NaN</td>\n",
       "      <td>NaN</td>\n",
       "      <td>NaN</td>\n",
       "      <td>1.0</td>\n",
       "      <td>8.0</td>\n",
       "      <td>0.000000</td>\n",
       "      <td>NaN</td>\n",
       "      <td>NaN</td>\n",
       "      <td>NaN</td>\n",
       "      <td>NaN</td>\n",
       "      <td>NaN</td>\n",
       "      <td>NaN</td>\n",
       "    </tr>\n",
       "    <tr>\n",
       "      <th>6</th>\n",
       "      <td>U_10060289</td>\n",
       "      <td>C_948428</td>\n",
       "      <td>3.0</td>\n",
       "      <td>84.0</td>\n",
       "      <td>0.636514</td>\n",
       "      <td>NaN</td>\n",
       "      <td>NaN</td>\n",
       "      <td>NaN</td>\n",
       "      <td>NaN</td>\n",
       "      <td>NaN</td>\n",
       "      <td>NaN</td>\n",
       "      <td>NaN</td>\n",
       "      <td>NaN</td>\n",
       "      <td>NaN</td>\n",
       "    </tr>\n",
       "    <tr>\n",
       "      <th>7</th>\n",
       "      <td>U_10060390</td>\n",
       "      <td>C_681074</td>\n",
       "      <td>1.0</td>\n",
       "      <td>76.0</td>\n",
       "      <td>0.000000</td>\n",
       "      <td>1.0</td>\n",
       "      <td>4.0</td>\n",
       "      <td>0.000000</td>\n",
       "      <td>6.0</td>\n",
       "      <td>331.0</td>\n",
       "      <td>1.329661</td>\n",
       "      <td>NaN</td>\n",
       "      <td>NaN</td>\n",
       "      <td>NaN</td>\n",
       "    </tr>\n",
       "    <tr>\n",
       "      <th>8</th>\n",
       "      <td>U_10060401</td>\n",
       "      <td>C_862969</td>\n",
       "      <td>NaN</td>\n",
       "      <td>NaN</td>\n",
       "      <td>NaN</td>\n",
       "      <td>7.0</td>\n",
       "      <td>52.0</td>\n",
       "      <td>1.078992</td>\n",
       "      <td>NaN</td>\n",
       "      <td>NaN</td>\n",
       "      <td>NaN</td>\n",
       "      <td>NaN</td>\n",
       "      <td>NaN</td>\n",
       "      <td>NaN</td>\n",
       "    </tr>\n",
       "    <tr>\n",
       "      <th>9</th>\n",
       "      <td>U_10060580</td>\n",
       "      <td>C_681074</td>\n",
       "      <td>NaN</td>\n",
       "      <td>NaN</td>\n",
       "      <td>NaN</td>\n",
       "      <td>NaN</td>\n",
       "      <td>NaN</td>\n",
       "      <td>NaN</td>\n",
       "      <td>1.0</td>\n",
       "      <td>7.0</td>\n",
       "      <td>0.000000</td>\n",
       "      <td>NaN</td>\n",
       "      <td>NaN</td>\n",
       "      <td>NaN</td>\n",
       "    </tr>\n",
       "  </tbody>\n",
       "</table>\n",
       "</div>"
      ],
      "text/plain": [
       "      user_id course_id  reply_count_phase1  total_words_phase1  \\\n",
       "0    U_100306  C_697018                 NaN                 NaN   \n",
       "1  U_10034442  C_696889                 NaN                 NaN   \n",
       "2  U_10036301  C_936971                 1.0                 1.0   \n",
       "3  U_10036304  C_936971                 NaN                 NaN   \n",
       "4  U_10036426  C_936971                 1.0                 5.0   \n",
       "5  U_10037312  C_936971                 NaN                 NaN   \n",
       "6  U_10060289  C_948428                 3.0                84.0   \n",
       "7  U_10060390  C_681074                 1.0                76.0   \n",
       "8  U_10060401  C_862969                 NaN                 NaN   \n",
       "9  U_10060580  C_681074                 NaN                 NaN   \n",
       "\n",
       "   entropy_time_reply_phase1  reply_count_phase2  total_words_phase2  \\\n",
       "0                        NaN                 NaN                 NaN   \n",
       "1                        NaN                 NaN                 NaN   \n",
       "2                   0.000000                 NaN                 NaN   \n",
       "3                        NaN                 NaN                 NaN   \n",
       "4                   0.000000                 NaN                 NaN   \n",
       "5                        NaN                 1.0                 8.0   \n",
       "6                   0.636514                 NaN                 NaN   \n",
       "7                   0.000000                 1.0                 4.0   \n",
       "8                        NaN                 7.0                52.0   \n",
       "9                        NaN                 NaN                 NaN   \n",
       "\n",
       "   entropy_time_reply_phase2  reply_count_phase3  total_words_phase3  \\\n",
       "0                        NaN                 NaN                 NaN   \n",
       "1                        NaN                 1.0                 3.0   \n",
       "2                        NaN                 NaN                 NaN   \n",
       "3                        NaN                 NaN                 NaN   \n",
       "4                        NaN                 NaN                 NaN   \n",
       "5                   0.000000                 NaN                 NaN   \n",
       "6                        NaN                 NaN                 NaN   \n",
       "7                   0.000000                 6.0               331.0   \n",
       "8                   1.078992                 NaN                 NaN   \n",
       "9                        NaN                 1.0                 7.0   \n",
       "\n",
       "   entropy_time_reply_phase3  reply_count_phase4  total_words_phase4  \\\n",
       "0                        NaN                 1.0                 2.0   \n",
       "1                   0.000000                 NaN                 NaN   \n",
       "2                        NaN                 NaN                 NaN   \n",
       "3                        NaN                 1.0                 1.0   \n",
       "4                        NaN                 NaN                 NaN   \n",
       "5                        NaN                 NaN                 NaN   \n",
       "6                        NaN                 NaN                 NaN   \n",
       "7                   1.329661                 NaN                 NaN   \n",
       "8                        NaN                 NaN                 NaN   \n",
       "9                   0.000000                 NaN                 NaN   \n",
       "\n",
       "   entropy_time_reply_phase4  \n",
       "0                        0.0  \n",
       "1                        NaN  \n",
       "2                        NaN  \n",
       "3                        0.0  \n",
       "4                        NaN  \n",
       "5                        NaN  \n",
       "6                        NaN  \n",
       "7                        NaN  \n",
       "8                        NaN  \n",
       "9                        NaN  "
      ]
     },
     "execution_count": 61,
     "metadata": {},
     "output_type": "execute_result"
    }
   ],
   "source": [
    "new_column_order = [\n",
    "    'user_id', \n",
    "    'course_id', \n",
    "    'reply_count_phase1', \n",
    "    'total_words_phase1', \n",
    "    'entropy_time_reply_phase1', \n",
    "    'reply_count_phase2', \n",
    "    'total_words_phase2', \n",
    "    'entropy_time_reply_phase2', \n",
    "    'reply_count_phase3', \n",
    "    'total_words_phase3', \n",
    "    'entropy_time_reply_phase3', \n",
    "    'reply_count_phase4', \n",
    "    'total_words_phase4', \n",
    "    'entropy_time_reply_phase4'\n",
    "]\n",
    "\n",
    "# Sắp xếp lại thứ tự cột trong DataFrame\n",
    "all_phases_reply = all_phases_reply[new_column_order]\n",
    "\n",
    "all_phases_reply.head(10)"
   ]
  }
 ],
 "metadata": {
  "kaggle": {
   "accelerator": "none",
   "dataSources": [
    {
     "datasetId": 6915857,
     "sourceId": 11094245,
     "sourceType": "datasetVersion"
    }
   ],
   "dockerImageVersionId": 30918,
   "isGpuEnabled": false,
   "isInternetEnabled": true,
   "language": "python",
   "sourceType": "notebook"
  },
  "kernelspec": {
   "display_name": "Python 3",
   "language": "python",
   "name": "python3"
  },
  "language_info": {
   "codemirror_mode": {
    "name": "ipython",
    "version": 3
   },
   "file_extension": ".py",
   "mimetype": "text/x-python",
   "name": "python",
   "nbconvert_exporter": "python",
   "pygments_lexer": "ipython3",
   "version": "3.10.12"
  },
  "papermill": {
   "default_parameters": {},
   "duration": 174.577804,
   "end_time": "2025-04-24T14:39:43.890877",
   "environment_variables": {},
   "exception": null,
   "input_path": "__notebook__.ipynb",
   "output_path": "__notebook__.ipynb",
   "parameters": {},
   "start_time": "2025-04-24T14:36:49.313073",
   "version": "2.6.0"
  }
 },
 "nbformat": 4,
 "nbformat_minor": 5
}
