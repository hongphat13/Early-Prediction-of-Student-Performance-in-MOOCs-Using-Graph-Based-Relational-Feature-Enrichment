{
 "cells": [
  {
   "cell_type": "code",
   "execution_count": 1,
   "id": "6e5a992f",
   "metadata": {
    "_cell_guid": "b1076dfc-b9ad-4769-8c92-a6c4dae69d19",
    "_uuid": "8f2839f25d086af736a60e9eeb907d3b93b6e0e5",
    "execution": {
     "iopub.execute_input": "2025-04-24T12:09:51.044758Z",
     "iopub.status.busy": "2025-04-24T12:09:51.044383Z",
     "iopub.status.idle": "2025-04-24T12:09:52.006375Z",
     "shell.execute_reply": "2025-04-24T12:09:52.005169Z"
    },
    "papermill": {
     "duration": 0.976771,
     "end_time": "2025-04-24T12:09:52.008260",
     "exception": false,
     "start_time": "2025-04-24T12:09:51.031489",
     "status": "completed"
    },
    "tags": []
   },
   "outputs": [
    {
     "name": "stdout",
     "output_type": "stream",
     "text": [
      "/kaggle/input/lightmooccubex/relations/course-teacher.txt\n",
      "/kaggle/input/lightmooccubex/relations/concept-comment.txt\n",
      "/kaggle/input/lightmooccubex/relations/user-video.json\n",
      "/kaggle/input/lightmooccubex/relations/course-comment.txt\n",
      "/kaggle/input/lightmooccubex/relations/concept-problem.txt\n",
      "/kaggle/input/lightmooccubex/relations/user-reply.txt\n",
      "/kaggle/input/lightmooccubex/relations/concept-video.txt\n",
      "/kaggle/input/lightmooccubex/relations/course-school.txt\n",
      "/kaggle/input/lightmooccubex/relations/user-comment.txt\n",
      "/kaggle/input/lightmooccubex/relations/exercise-problem.txt\n",
      "/kaggle/input/lightmooccubex/relations/concept-paper.txt\n",
      "/kaggle/input/lightmooccubex/relations/reply-reply.txt\n",
      "/kaggle/input/lightmooccubex/relations/course-field.json\n",
      "/kaggle/input/lightmooccubex/relations/video_id-ccid.txt\n",
      "/kaggle/input/lightmooccubex/relations/concept-reply.json\n",
      "/kaggle/input/lightmooccubex/relations/comment-reply.txt\n",
      "/kaggle/input/lightmooccubex/relations/concept-other.txt\n",
      "/kaggle/input/lightmooccubex/entities/comment.json\n",
      "/kaggle/input/lightmooccubex/entities/course.json\n",
      "/kaggle/input/lightmooccubex/entities/reply.json\n",
      "/kaggle/input/lightmooccubex/entities/school.json\n",
      "/kaggle/input/lightmooccubex/entities/video.json\n",
      "/kaggle/input/lightmooccubex/entities/other.json\n",
      "/kaggle/input/lightmooccubex/entities/problem.json\n",
      "/kaggle/input/lightmooccubex/entities/user.json\n",
      "/kaggle/input/lightmooccubex/entities/concept.json\n",
      "/kaggle/input/lightmooccubex/entities/teacher.json\n",
      "/kaggle/input/lightmooccubex/prerequisites/cs.json\n",
      "/kaggle/input/lightmooccubex/prerequisites/psy.json\n",
      "/kaggle/input/lightmooccubex/prerequisites/math.json\n"
     ]
    }
   ],
   "source": [
    "# This Python 3 environment comes with many helpful analytics libraries installed\n",
    "# It is defined by the kaggle/python Docker image: https://github.com/kaggle/docker-python\n",
    "# For example, here's several helpful packages to load\n",
    "\n",
    "import numpy as np # linear algebra\n",
    "import pandas as pd # data processing, CSV file I/O (e.g. pd.read_csv)\n",
    "\n",
    "# Input data files are available in the read-only \"../input/\" directory\n",
    "# For example, running this (by clicking run or pressing Shift+Enter) will list all files under the input directory\n",
    "\n",
    "import os\n",
    "for dirname, _, filenames in os.walk('/kaggle/input'):\n",
    "    for filename in filenames:\n",
    "        print(os.path.join(dirname, filename))\n",
    "\n",
    "# You can write up to 20GB to the current directory (/kaggle/working/) that gets preserved as output when you create a version using \"Save & Run All\" \n",
    "# You can also write temporary files to /kaggle/temp/, but they won't be saved outside of the current session"
   ]
  },
  {
   "cell_type": "code",
   "execution_count": 2,
   "id": "c68d26d9",
   "metadata": {
    "execution": {
     "iopub.execute_input": "2025-04-24T12:09:52.032158Z",
     "iopub.status.busy": "2025-04-24T12:09:52.031625Z",
     "iopub.status.idle": "2025-04-24T12:09:54.332970Z",
     "shell.execute_reply": "2025-04-24T12:09:54.332136Z"
    },
    "papermill": {
     "duration": 2.31505,
     "end_time": "2025-04-24T12:09:54.334820",
     "exception": false,
     "start_time": "2025-04-24T12:09:52.019770",
     "status": "completed"
    },
    "tags": []
   },
   "outputs": [],
   "source": [
    "import polars as pl\n",
    "from tqdm import tqdm\n",
    "import os\n",
    "import pandas as pd\n",
    "import json\n",
    "import matplotlib.pyplot as plt\n",
    "import seaborn as sns\n",
    "import numpy as np\n",
    "import scipy"
   ]
  },
  {
   "cell_type": "markdown",
   "id": "df5c7ee3",
   "metadata": {
    "papermill": {
     "duration": 0.0106,
     "end_time": "2025-04-24T12:09:54.356732",
     "exception": false,
     "start_time": "2025-04-24T12:09:54.346132",
     "status": "completed"
    },
    "tags": []
   },
   "source": [
    "# Import data"
   ]
  },
  {
   "cell_type": "code",
   "execution_count": 3,
   "id": "0159c960",
   "metadata": {
    "execution": {
     "iopub.execute_input": "2025-04-24T12:09:54.380059Z",
     "iopub.status.busy": "2025-04-24T12:09:54.379537Z",
     "iopub.status.idle": "2025-04-24T12:10:05.165968Z",
     "shell.execute_reply": "2025-04-24T12:10:05.164855Z"
    },
    "papermill": {
     "duration": 10.800093,
     "end_time": "2025-04-24T12:10:05.167746",
     "exception": false,
     "start_time": "2025-04-24T12:09:54.367653",
     "status": "completed"
    },
    "tags": []
   },
   "outputs": [
    {
     "data": {
      "text/html": [
       "<div><style>\n",
       ".dataframe > thead > tr,\n",
       ".dataframe > tbody > tr {\n",
       "  text-align: right;\n",
       "  white-space: pre-wrap;\n",
       "}\n",
       "</style>\n",
       "<small>shape: (5, 5)</small><table border=\"1\" class=\"dataframe\"><thead><tr><th>comment_id</th><th>user_id</th><th>text</th><th>resource_id</th><th>create_time</th></tr><tr><td>str</td><td>i64</td><td>str</td><td>str</td><td>str</td></tr></thead><tbody><tr><td>&quot;Cm_1&quot;</td><td>10030806</td><td>&quot;测试评论&quot;</td><td>null</td><td>&quot;2019-08-05 12:55:27&quot;</td></tr><tr><td>&quot;Cm_4&quot;</td><td>1705400</td><td>&quot;嗯嗯&quot;</td><td>null</td><td>&quot;2019-08-05 16:56:43&quot;</td></tr><tr><td>&quot;Cm_5&quot;</td><td>10031537</td><td>&quot;是的，我也看不到&quot;</td><td>null</td><td>&quot;2019-08-07 21:05:38&quot;</td></tr><tr><td>&quot;Cm_7&quot;</td><td>10031502</td><td>&quot;大师傅as&quot;</td><td>null</td><td>&quot;2019-08-09 13:06:06&quot;</td></tr><tr><td>&quot;Cm_12&quot;</td><td>10031397</td><td>&quot;点赞&quot;</td><td>null</td><td>&quot;2019-08-09 16:38:56&quot;</td></tr></tbody></table></div>"
      ],
      "text/plain": [
       "shape: (5, 5)\n",
       "┌────────────┬──────────┬──────────────────┬─────────────┬─────────────────────┐\n",
       "│ comment_id ┆ user_id  ┆ text             ┆ resource_id ┆ create_time         │\n",
       "│ ---        ┆ ---      ┆ ---              ┆ ---         ┆ ---                 │\n",
       "│ str        ┆ i64      ┆ str              ┆ str         ┆ str                 │\n",
       "╞════════════╪══════════╪══════════════════╪═════════════╪═════════════════════╡\n",
       "│ Cm_1       ┆ 10030806 ┆ 测试评论         ┆ null        ┆ 2019-08-05 12:55:27 │\n",
       "│ Cm_4       ┆ 1705400  ┆ 嗯嗯             ┆ null        ┆ 2019-08-05 16:56:43 │\n",
       "│ Cm_5       ┆ 10031537 ┆ 是的，我也看不到 ┆ null        ┆ 2019-08-07 21:05:38 │\n",
       "│ Cm_7       ┆ 10031502 ┆ 大师傅as         ┆ null        ┆ 2019-08-09 13:06:06 │\n",
       "│ Cm_12      ┆ 10031397 ┆ 点赞             ┆ null        ┆ 2019-08-09 16:38:56 │\n",
       "└────────────┴──────────┴──────────────────┴─────────────┴─────────────────────┘"
      ]
     },
     "execution_count": 3,
     "metadata": {},
     "output_type": "execute_result"
    }
   ],
   "source": [
    "comment_df = pl.read_ndjson('/kaggle/input/lightmooccubex/entities/comment.json')\n",
    "comment_df = comment_df.rename({\"id\": \"comment_id\"})\n",
    "comment_df.head()"
   ]
  },
  {
   "cell_type": "code",
   "execution_count": 4,
   "id": "63fc49b1",
   "metadata": {
    "execution": {
     "iopub.execute_input": "2025-04-24T12:10:05.192492Z",
     "iopub.status.busy": "2025-04-24T12:10:05.192154Z",
     "iopub.status.idle": "2025-04-24T12:10:05.455385Z",
     "shell.execute_reply": "2025-04-24T12:10:05.454302Z"
    },
    "papermill": {
     "duration": 0.277804,
     "end_time": "2025-04-24T12:10:05.457190",
     "exception": false,
     "start_time": "2025-04-24T12:10:05.179386",
     "status": "completed"
    },
    "tags": []
   },
   "outputs": [
    {
     "data": {
      "text/html": [
       "<div><style>\n",
       ".dataframe > thead > tr,\n",
       ".dataframe > tbody > tr {\n",
       "  text-align: right;\n",
       "  white-space: pre-wrap;\n",
       "}\n",
       "</style>\n",
       "<small>shape: (5, 4)</small><table border=\"1\" class=\"dataframe\"><thead><tr><th>reply_id</th><th>user_id</th><th>text</th><th>create_time</th></tr><tr><td>str</td><td>str</td><td>str</td><td>str</td></tr></thead><tbody><tr><td>&quot;Rp_1&quot;</td><td>&quot;U_10030806&quot;</td><td>&quot;测试回复&quot;</td><td>&quot;2019-08-05 12:55:54&quot;</td></tr><tr><td>&quot;Rp_2&quot;</td><td>&quot;U_10031397&quot;</td><td>&quot;赞&quot;</td><td>&quot;2019-08-09 16:39:06&quot;</td></tr><tr><td>&quot;Rp_3&quot;</td><td>&quot;U_10031531&quot;</td><td>&quot;好喜欢&quot;</td><td>&quot;2019-08-10 22:39:35&quot;</td></tr><tr><td>&quot;Rp_4&quot;</td><td>&quot;U_10031508&quot;</td><td>&quot;你也好棒&quot;</td><td>&quot;2019-08-12 14:43:34&quot;</td></tr><tr><td>&quot;Rp_5&quot;</td><td>&quot;U_10031508&quot;</td><td>&quot;嗯对&quot;</td><td>&quot;2019-08-12 14:44:51&quot;</td></tr></tbody></table></div>"
      ],
      "text/plain": [
       "shape: (5, 4)\n",
       "┌──────────┬────────────┬──────────┬─────────────────────┐\n",
       "│ reply_id ┆ user_id    ┆ text     ┆ create_time         │\n",
       "│ ---      ┆ ---        ┆ ---      ┆ ---                 │\n",
       "│ str      ┆ str        ┆ str      ┆ str                 │\n",
       "╞══════════╪════════════╪══════════╪═════════════════════╡\n",
       "│ Rp_1     ┆ U_10030806 ┆ 测试回复 ┆ 2019-08-05 12:55:54 │\n",
       "│ Rp_2     ┆ U_10031397 ┆ 赞       ┆ 2019-08-09 16:39:06 │\n",
       "│ Rp_3     ┆ U_10031531 ┆ 好喜欢   ┆ 2019-08-10 22:39:35 │\n",
       "│ Rp_4     ┆ U_10031508 ┆ 你也好棒 ┆ 2019-08-12 14:43:34 │\n",
       "│ Rp_5     ┆ U_10031508 ┆ 嗯对     ┆ 2019-08-12 14:44:51 │\n",
       "└──────────┴────────────┴──────────┴─────────────────────┘"
      ]
     },
     "execution_count": 4,
     "metadata": {},
     "output_type": "execute_result"
    }
   ],
   "source": [
    "reply_df = pl.read_ndjson('/kaggle/input/lightmooccubex/entities/reply.json')\n",
    "reply_df = reply_df.rename({\"id\": \"reply_id\"})\n",
    "reply_df.head()"
   ]
  },
  {
   "cell_type": "code",
   "execution_count": 5,
   "id": "b8cf2db5",
   "metadata": {
    "execution": {
     "iopub.execute_input": "2025-04-24T12:10:05.481503Z",
     "iopub.status.busy": "2025-04-24T12:10:05.481144Z",
     "iopub.status.idle": "2025-04-24T12:10:25.672338Z",
     "shell.execute_reply": "2025-04-24T12:10:25.671366Z"
    },
    "papermill": {
     "duration": 20.204981,
     "end_time": "2025-04-24T12:10:25.674006",
     "exception": false,
     "start_time": "2025-04-24T12:10:05.469025",
     "status": "completed"
    },
    "tags": []
   },
   "outputs": [
    {
     "data": {
      "text/html": [
       "<div><style>\n",
       ".dataframe > thead > tr,\n",
       ".dataframe > tbody > tr {\n",
       "  text-align: right;\n",
       "  white-space: pre-wrap;\n",
       "}\n",
       "</style>\n",
       "<small>shape: (5, 7)</small><table border=\"1\" class=\"dataframe\"><thead><tr><th>user_id</th><th>name</th><th>gender</th><th>school</th><th>year_of_birth</th><th>course_order</th><th>enroll_time</th></tr><tr><td>str</td><td>str</td><td>i64</td><td>str</td><td>i64</td><td>list[i64]</td><td>list[str]</td></tr></thead><tbody><tr><td>&quot;U_22&quot;</td><td>&quot;我&quot;</td><td>0</td><td>&quot;&quot;</td><td>2015</td><td>[682129, 2294668]</td><td>[&quot;2019-10-12 10:28:02&quot;, &quot;2020-11-21 14:03:28&quot;]</td></tr><tr><td>&quot;U_24&quot;</td><td>&quot;王帅国&quot;</td><td>1</td><td>&quot;清华大学&quot;</td><td>6558</td><td>[597214, 605512, … 2229905]</td><td>[&quot;2019-05-20 16:06:48&quot;, &quot;2019-05-24 19:34:43&quot;, … &quot;2020-11-21 11:38:57&quot;]</td></tr><tr><td>&quot;U_25&quot;</td><td>&quot;王帅国&quot;</td><td>0</td><td>&quot;清华大学&quot;</td><td>null</td><td>[1903985]</td><td>[&quot;2020-08-07 18:59:13&quot;]</td></tr><tr><td>&quot;U_53&quot;</td><td>&quot;于歆杰&quot;</td><td>1</td><td>&quot;清华大学&quot;</td><td>1973</td><td>[696679, 1704639, … 1794464]</td><td>[&quot;2020-03-01 21:24:30&quot;, &quot;2020-03-12 16:17:02&quot;, … &quot;2020-06-18 18:47:15&quot;]</td></tr><tr><td>&quot;U_54&quot;</td><td>&quot;马昱春&quot;</td><td>2</td><td>&quot;清华大学&quot;</td><td>null</td><td>[682442, 682164, … 1906706]</td><td>[&quot;2019-10-09 02:17:49&quot;, &quot;2019-11-08 00:49:03&quot;, … &quot;2020-07-20 11:27:28&quot;]</td></tr></tbody></table></div>"
      ],
      "text/plain": [
       "shape: (5, 7)\n",
       "┌─────────┬────────┬────────┬──────────┬───────────────┬─────────────────────┬─────────────────────┐\n",
       "│ user_id ┆ name   ┆ gender ┆ school   ┆ year_of_birth ┆ course_order        ┆ enroll_time         │\n",
       "│ ---     ┆ ---    ┆ ---    ┆ ---      ┆ ---           ┆ ---                 ┆ ---                 │\n",
       "│ str     ┆ str    ┆ i64    ┆ str      ┆ i64           ┆ list[i64]           ┆ list[str]           │\n",
       "╞═════════╪════════╪════════╪══════════╪═══════════════╪═════════════════════╪═════════════════════╡\n",
       "│ U_22    ┆ 我     ┆ 0      ┆          ┆ 2015          ┆ [682129, 2294668]   ┆ [\"2019-10-12        │\n",
       "│         ┆        ┆        ┆          ┆               ┆                     ┆ 10:28:02\", \"2020-…  │\n",
       "│ U_24    ┆ 王帅国 ┆ 1      ┆ 清华大学 ┆ 6558          ┆ [597214, 605512, …  ┆ [\"2019-05-20        │\n",
       "│         ┆        ┆        ┆          ┆               ┆ 2229905]            ┆ 16:06:48\", \"2019-…  │\n",
       "│ U_25    ┆ 王帅国 ┆ 0      ┆ 清华大学 ┆ null          ┆ [1903985]           ┆ [\"2020-08-07        │\n",
       "│         ┆        ┆        ┆          ┆               ┆                     ┆ 18:59:13\"]          │\n",
       "│ U_53    ┆ 于歆杰 ┆ 1      ┆ 清华大学 ┆ 1973          ┆ [696679, 1704639, … ┆ [\"2020-03-01        │\n",
       "│         ┆        ┆        ┆          ┆               ┆ 1794464]            ┆ 21:24:30\", \"2020-…  │\n",
       "│ U_54    ┆ 马昱春 ┆ 2      ┆ 清华大学 ┆ null          ┆ [682442, 682164, …  ┆ [\"2019-10-09        │\n",
       "│         ┆        ┆        ┆          ┆               ┆ 1906706]            ┆ 02:17:49\", \"2019-…  │\n",
       "└─────────┴────────┴────────┴──────────┴───────────────┴─────────────────────┴─────────────────────┘"
      ]
     },
     "execution_count": 5,
     "metadata": {},
     "output_type": "execute_result"
    }
   ],
   "source": [
    "user_df = pl.read_ndjson('/kaggle/input/lightmooccubex/entities/user.json')\n",
    "user_df = user_df.rename({\"id\": \"user_id\"})\n",
    "user_df.head()"
   ]
  },
  {
   "cell_type": "code",
   "execution_count": 6,
   "id": "30a16653",
   "metadata": {
    "execution": {
     "iopub.execute_input": "2025-04-24T12:10:25.698219Z",
     "iopub.status.busy": "2025-04-24T12:10:25.697824Z",
     "iopub.status.idle": "2025-04-24T12:10:34.822075Z",
     "shell.execute_reply": "2025-04-24T12:10:34.821024Z"
    },
    "papermill": {
     "duration": 9.138007,
     "end_time": "2025-04-24T12:10:34.823649",
     "exception": false,
     "start_time": "2025-04-24T12:10:25.685642",
     "status": "completed"
    },
    "tags": []
   },
   "outputs": [
    {
     "data": {
      "text/html": [
       "<div>\n",
       "<style scoped>\n",
       "    .dataframe tbody tr th:only-of-type {\n",
       "        vertical-align: middle;\n",
       "    }\n",
       "\n",
       "    .dataframe tbody tr th {\n",
       "        vertical-align: top;\n",
       "    }\n",
       "\n",
       "    .dataframe thead th {\n",
       "        text-align: right;\n",
       "    }\n",
       "</style>\n",
       "<table border=\"1\" class=\"dataframe\">\n",
       "  <thead>\n",
       "    <tr style=\"text-align: right;\">\n",
       "      <th></th>\n",
       "      <th>course_id</th>\n",
       "      <th>comment_id</th>\n",
       "    </tr>\n",
       "  </thead>\n",
       "  <tbody>\n",
       "    <tr>\n",
       "      <th>0</th>\n",
       "      <td>C_597284</td>\n",
       "      <td>Cm_4</td>\n",
       "    </tr>\n",
       "    <tr>\n",
       "      <th>1</th>\n",
       "      <td>C_597334</td>\n",
       "      <td>Cm_61</td>\n",
       "    </tr>\n",
       "    <tr>\n",
       "      <th>2</th>\n",
       "      <td>C_682246</td>\n",
       "      <td>Cm_74</td>\n",
       "    </tr>\n",
       "    <tr>\n",
       "      <th>3</th>\n",
       "      <td>C_697602</td>\n",
       "      <td>Cm_83</td>\n",
       "    </tr>\n",
       "    <tr>\n",
       "      <th>4</th>\n",
       "      <td>C_605983</td>\n",
       "      <td>Cm_88</td>\n",
       "    </tr>\n",
       "  </tbody>\n",
       "</table>\n",
       "</div>"
      ],
      "text/plain": [
       "  course_id comment_id\n",
       "0  C_597284       Cm_4\n",
       "1  C_597334      Cm_61\n",
       "2  C_682246      Cm_74\n",
       "3  C_697602      Cm_83\n",
       "4  C_605983      Cm_88"
      ]
     },
     "execution_count": 6,
     "metadata": {},
     "output_type": "execute_result"
    }
   ],
   "source": [
    "course_comment = pd.read_csv('/kaggle/input/lightmooccubex/relations/course-comment.txt', \n",
    "                             sep=\"\\t\", header=None, names=[\"course_id\", \"comment_id\"])\n",
    "course_comment.head()"
   ]
  },
  {
   "cell_type": "code",
   "execution_count": 7,
   "id": "ab799afd",
   "metadata": {
    "execution": {
     "iopub.execute_input": "2025-04-24T12:10:34.848529Z",
     "iopub.status.busy": "2025-04-24T12:10:34.848165Z",
     "iopub.status.idle": "2025-04-24T12:10:35.315968Z",
     "shell.execute_reply": "2025-04-24T12:10:35.314850Z"
    },
    "papermill": {
     "duration": 0.482193,
     "end_time": "2025-04-24T12:10:35.317779",
     "exception": false,
     "start_time": "2025-04-24T12:10:34.835586",
     "status": "completed"
    },
    "tags": []
   },
   "outputs": [
    {
     "data": {
      "text/html": [
       "<div>\n",
       "<style scoped>\n",
       "    .dataframe tbody tr th:only-of-type {\n",
       "        vertical-align: middle;\n",
       "    }\n",
       "\n",
       "    .dataframe tbody tr th {\n",
       "        vertical-align: top;\n",
       "    }\n",
       "\n",
       "    .dataframe thead th {\n",
       "        text-align: right;\n",
       "    }\n",
       "</style>\n",
       "<table border=\"1\" class=\"dataframe\">\n",
       "  <thead>\n",
       "    <tr style=\"text-align: right;\">\n",
       "      <th></th>\n",
       "      <th>comment_id</th>\n",
       "      <th>reply_id</th>\n",
       "    </tr>\n",
       "  </thead>\n",
       "  <tbody>\n",
       "    <tr>\n",
       "      <th>0</th>\n",
       "      <td>Cm_1</td>\n",
       "      <td>Rp_1</td>\n",
       "    </tr>\n",
       "    <tr>\n",
       "      <th>1</th>\n",
       "      <td>Cm_12</td>\n",
       "      <td>Rp_2</td>\n",
       "    </tr>\n",
       "    <tr>\n",
       "      <th>2</th>\n",
       "      <td>Cm_24</td>\n",
       "      <td>Rp_3</td>\n",
       "    </tr>\n",
       "    <tr>\n",
       "      <th>3</th>\n",
       "      <td>Cm_43</td>\n",
       "      <td>Rp_4</td>\n",
       "    </tr>\n",
       "    <tr>\n",
       "      <th>4</th>\n",
       "      <td>Cm_44</td>\n",
       "      <td>Rp_5</td>\n",
       "    </tr>\n",
       "  </tbody>\n",
       "</table>\n",
       "</div>"
      ],
      "text/plain": [
       "  comment_id reply_id\n",
       "0       Cm_1     Rp_1\n",
       "1      Cm_12     Rp_2\n",
       "2      Cm_24     Rp_3\n",
       "3      Cm_43     Rp_4\n",
       "4      Cm_44     Rp_5"
      ]
     },
     "execution_count": 7,
     "metadata": {},
     "output_type": "execute_result"
    }
   ],
   "source": [
    "comment_reply = pd.read_csv('/kaggle/input/lightmooccubex/relations/comment-reply.txt',\n",
    "                             sep=\"\\t\", header=None, names=[\"comment_id\", \"reply_id\"])\n",
    "\n",
    "comment_reply.head()"
   ]
  },
  {
   "cell_type": "markdown",
   "id": "582e2b90",
   "metadata": {
    "papermill": {
     "duration": 0.011336,
     "end_time": "2025-04-24T12:10:35.341076",
     "exception": false,
     "start_time": "2025-04-24T12:10:35.329740",
     "status": "completed"
    },
    "tags": []
   },
   "source": [
    "# EDA cơ bản"
   ]
  },
  {
   "cell_type": "code",
   "execution_count": 8,
   "id": "86dd1d66",
   "metadata": {
    "execution": {
     "iopub.execute_input": "2025-04-24T12:10:35.365578Z",
     "iopub.status.busy": "2025-04-24T12:10:35.365217Z",
     "iopub.status.idle": "2025-04-24T12:10:36.081910Z",
     "shell.execute_reply": "2025-04-24T12:10:36.080735Z"
    },
    "papermill": {
     "duration": 0.730973,
     "end_time": "2025-04-24T12:10:36.083651",
     "exception": false,
     "start_time": "2025-04-24T12:10:35.352678",
     "status": "completed"
    },
    "tags": []
   },
   "outputs": [
    {
     "name": "stdout",
     "output_type": "stream",
     "text": [
      "<class 'pandas.core.frame.DataFrame'>\n",
      "RangeIndex: 331011 entries, 0 to 331010\n",
      "Data columns (total 4 columns):\n",
      " #   Column       Non-Null Count   Dtype \n",
      "---  ------       --------------   ----- \n",
      " 0   reply_id     331011 non-null  object\n",
      " 1   user_id      331011 non-null  object\n",
      " 2   text         331011 non-null  object\n",
      " 3   create_time  331011 non-null  object\n",
      "dtypes: object(4)\n",
      "memory usage: 10.1+ MB\n"
     ]
    }
   ],
   "source": [
    "reply_pd = reply_df.to_pandas()\n",
    "reply_pd.info()"
   ]
  },
  {
   "cell_type": "code",
   "execution_count": 9,
   "id": "e62e8175",
   "metadata": {
    "execution": {
     "iopub.execute_input": "2025-04-24T12:10:36.108771Z",
     "iopub.status.busy": "2025-04-24T12:10:36.108406Z",
     "iopub.status.idle": "2025-04-24T12:10:36.133218Z",
     "shell.execute_reply": "2025-04-24T12:10:36.132097Z"
    },
    "papermill": {
     "duration": 0.038999,
     "end_time": "2025-04-24T12:10:36.134833",
     "exception": false,
     "start_time": "2025-04-24T12:10:36.095834",
     "status": "completed"
    },
    "tags": []
   },
   "outputs": [],
   "source": [
    "comment_df = comment_df[['comment_id',\t'user_id', 'text', 'create_time']]"
   ]
  },
  {
   "cell_type": "code",
   "execution_count": 10,
   "id": "025eb1f3",
   "metadata": {
    "execution": {
     "iopub.execute_input": "2025-04-24T12:10:36.159699Z",
     "iopub.status.busy": "2025-04-24T12:10:36.159360Z",
     "iopub.status.idle": "2025-04-24T12:10:52.205932Z",
     "shell.execute_reply": "2025-04-24T12:10:52.204651Z"
    },
    "papermill": {
     "duration": 16.061042,
     "end_time": "2025-04-24T12:10:52.207714",
     "exception": false,
     "start_time": "2025-04-24T12:10:36.146672",
     "status": "completed"
    },
    "tags": []
   },
   "outputs": [
    {
     "name": "stdout",
     "output_type": "stream",
     "text": [
      "<class 'pandas.core.frame.DataFrame'>\n",
      "RangeIndex: 8395141 entries, 0 to 8395140\n",
      "Data columns (total 4 columns):\n",
      " #   Column       Dtype \n",
      "---  ------       ----- \n",
      " 0   comment_id   object\n",
      " 1   user_id      int64 \n",
      " 2   text         object\n",
      " 3   create_time  object\n",
      "dtypes: int64(1), object(3)\n",
      "memory usage: 256.2+ MB\n"
     ]
    }
   ],
   "source": [
    "comment_pd = comment_df.to_pandas()\n",
    "comment_pd.info()"
   ]
  },
  {
   "cell_type": "code",
   "execution_count": 11,
   "id": "a91de021",
   "metadata": {
    "execution": {
     "iopub.execute_input": "2025-04-24T12:10:52.233658Z",
     "iopub.status.busy": "2025-04-24T12:10:52.233333Z",
     "iopub.status.idle": "2025-04-24T12:11:04.373586Z",
     "shell.execute_reply": "2025-04-24T12:11:04.372353Z"
    },
    "papermill": {
     "duration": 12.155309,
     "end_time": "2025-04-24T12:11:04.375532",
     "exception": false,
     "start_time": "2025-04-24T12:10:52.220223",
     "status": "completed"
    },
    "tags": []
   },
   "outputs": [
    {
     "name": "stdout",
     "output_type": "stream",
     "text": [
      "<class 'pandas.core.frame.DataFrame'>\n",
      "RangeIndex: 3330294 entries, 0 to 3330293\n",
      "Data columns (total 7 columns):\n",
      " #   Column         Dtype  \n",
      "---  ------         -----  \n",
      " 0   user_id        object \n",
      " 1   name           object \n",
      " 2   gender         float64\n",
      " 3   school         object \n",
      " 4   year_of_birth  float64\n",
      " 5   course_order   object \n",
      " 6   enroll_time    object \n",
      "dtypes: float64(2), object(5)\n",
      "memory usage: 177.9+ MB\n"
     ]
    }
   ],
   "source": [
    "user_pd = user_df.to_pandas()\n",
    "user_pd.info()"
   ]
  },
  {
   "cell_type": "code",
   "execution_count": 12,
   "id": "901f05cc",
   "metadata": {
    "execution": {
     "iopub.execute_input": "2025-04-24T12:11:04.400637Z",
     "iopub.status.busy": "2025-04-24T12:11:04.400276Z",
     "iopub.status.idle": "2025-04-24T12:11:04.689416Z",
     "shell.execute_reply": "2025-04-24T12:11:04.688090Z"
    },
    "papermill": {
     "duration": 0.303469,
     "end_time": "2025-04-24T12:11:04.691077",
     "exception": false,
     "start_time": "2025-04-24T12:11:04.387608",
     "status": "completed"
    },
    "tags": []
   },
   "outputs": [
    {
     "name": "stdout",
     "output_type": "stream",
     "text": [
      "comment_id\n",
      "Cm_7297425     499\n",
      "Cm_13936683    331\n",
      "Cm_7297413     330\n",
      "Cm_4643165     323\n",
      "Cm_6654880     279\n",
      "              ... \n",
      "Cm_656602        2\n",
      "Cm_15619133      2\n",
      "Cm_6912686       2\n",
      "Cm_3198473       2\n",
      "Cm_13747811      2\n",
      "Name: count, Length: 30980, dtype: int64\n"
     ]
    }
   ],
   "source": [
    "reply_counts = comment_reply[\"comment_id\"].value_counts()\n",
    "multiple_replies = reply_counts[reply_counts > 1]\n",
    "\n",
    "print(multiple_replies)"
   ]
  },
  {
   "cell_type": "markdown",
   "id": "eda0cf44",
   "metadata": {
    "papermill": {
     "duration": 0.01142,
     "end_time": "2025-04-24T12:11:04.714646",
     "exception": false,
     "start_time": "2025-04-24T12:11:04.703226",
     "status": "completed"
    },
    "tags": []
   },
   "source": [
    "# Gộp các file"
   ]
  },
  {
   "cell_type": "code",
   "execution_count": 13,
   "id": "a92f3cd9",
   "metadata": {
    "execution": {
     "iopub.execute_input": "2025-04-24T12:11:04.741307Z",
     "iopub.status.busy": "2025-04-24T12:11:04.740933Z",
     "iopub.status.idle": "2025-04-24T12:11:21.077356Z",
     "shell.execute_reply": "2025-04-24T12:11:21.076303Z"
    },
    "papermill": {
     "duration": 16.352388,
     "end_time": "2025-04-24T12:11:21.079084",
     "exception": false,
     "start_time": "2025-04-24T12:11:04.726696",
     "status": "completed"
    },
    "tags": []
   },
   "outputs": [
    {
     "data": {
      "text/html": [
       "<div>\n",
       "<style scoped>\n",
       "    .dataframe tbody tr th:only-of-type {\n",
       "        vertical-align: middle;\n",
       "    }\n",
       "\n",
       "    .dataframe tbody tr th {\n",
       "        vertical-align: top;\n",
       "    }\n",
       "\n",
       "    .dataframe thead th {\n",
       "        text-align: right;\n",
       "    }\n",
       "</style>\n",
       "<table border=\"1\" class=\"dataframe\">\n",
       "  <thead>\n",
       "    <tr style=\"text-align: right;\">\n",
       "      <th></th>\n",
       "      <th>course_id</th>\n",
       "      <th>comment_id</th>\n",
       "      <th>user_id</th>\n",
       "      <th>text</th>\n",
       "      <th>create_time</th>\n",
       "    </tr>\n",
       "  </thead>\n",
       "  <tbody>\n",
       "    <tr>\n",
       "      <th>0</th>\n",
       "      <td>NaN</td>\n",
       "      <td>Cm_1</td>\n",
       "      <td>10030806</td>\n",
       "      <td>测试评论</td>\n",
       "      <td>2019-08-05 12:55:27</td>\n",
       "    </tr>\n",
       "    <tr>\n",
       "      <th>1</th>\n",
       "      <td>C_597284</td>\n",
       "      <td>Cm_4</td>\n",
       "      <td>1705400</td>\n",
       "      <td>嗯嗯</td>\n",
       "      <td>2019-08-05 16:56:43</td>\n",
       "    </tr>\n",
       "    <tr>\n",
       "      <th>2</th>\n",
       "      <td>NaN</td>\n",
       "      <td>Cm_5</td>\n",
       "      <td>10031537</td>\n",
       "      <td>是的，我也看不到</td>\n",
       "      <td>2019-08-07 21:05:38</td>\n",
       "    </tr>\n",
       "    <tr>\n",
       "      <th>3</th>\n",
       "      <td>NaN</td>\n",
       "      <td>Cm_7</td>\n",
       "      <td>10031502</td>\n",
       "      <td>大师傅as</td>\n",
       "      <td>2019-08-09 13:06:06</td>\n",
       "    </tr>\n",
       "    <tr>\n",
       "      <th>4</th>\n",
       "      <td>NaN</td>\n",
       "      <td>Cm_12</td>\n",
       "      <td>10031397</td>\n",
       "      <td>点赞</td>\n",
       "      <td>2019-08-09 16:38:56</td>\n",
       "    </tr>\n",
       "    <tr>\n",
       "      <th>5</th>\n",
       "      <td>NaN</td>\n",
       "      <td>Cm_13</td>\n",
       "      <td>10031397</td>\n",
       "      <td>好滴</td>\n",
       "      <td>2019-08-09 17:29:01</td>\n",
       "    </tr>\n",
       "    <tr>\n",
       "      <th>6</th>\n",
       "      <td>NaN</td>\n",
       "      <td>Cm_14</td>\n",
       "      <td>10031528</td>\n",
       "      <td>很好，赞一个</td>\n",
       "      <td>2019-08-09 17:41:54</td>\n",
       "    </tr>\n",
       "    <tr>\n",
       "      <th>7</th>\n",
       "      <td>NaN</td>\n",
       "      <td>Cm_16</td>\n",
       "      <td>10031531</td>\n",
       "      <td>老师好</td>\n",
       "      <td>2019-08-09 17:44:31</td>\n",
       "    </tr>\n",
       "    <tr>\n",
       "      <th>8</th>\n",
       "      <td>NaN</td>\n",
       "      <td>Cm_19</td>\n",
       "      <td>10031356</td>\n",
       "      <td>好的</td>\n",
       "      <td>2019-08-09 18:20:05</td>\n",
       "    </tr>\n",
       "    <tr>\n",
       "      <th>9</th>\n",
       "      <td>NaN</td>\n",
       "      <td>Cm_20</td>\n",
       "      <td>10031356</td>\n",
       "      <td>好的</td>\n",
       "      <td>2019-08-09 18:20:07</td>\n",
       "    </tr>\n",
       "  </tbody>\n",
       "</table>\n",
       "</div>"
      ],
      "text/plain": [
       "  course_id comment_id   user_id      text          create_time\n",
       "0       NaN       Cm_1  10030806      测试评论  2019-08-05 12:55:27\n",
       "1  C_597284       Cm_4   1705400        嗯嗯  2019-08-05 16:56:43\n",
       "2       NaN       Cm_5  10031537  是的，我也看不到  2019-08-07 21:05:38\n",
       "3       NaN       Cm_7  10031502     大师傅as  2019-08-09 13:06:06\n",
       "4       NaN      Cm_12  10031397        点赞  2019-08-09 16:38:56\n",
       "5       NaN      Cm_13  10031397        好滴  2019-08-09 17:29:01\n",
       "6       NaN      Cm_14  10031528    很好，赞一个  2019-08-09 17:41:54\n",
       "7       NaN      Cm_16  10031531       老师好  2019-08-09 17:44:31\n",
       "8       NaN      Cm_19  10031356        好的  2019-08-09 18:20:05\n",
       "9       NaN      Cm_20  10031356        好的  2019-08-09 18:20:07"
      ]
     },
     "execution_count": 13,
     "metadata": {},
     "output_type": "execute_result"
    }
   ],
   "source": [
    "comment_data = course_comment.merge(comment_pd, on=\"comment_id\", how=\"right\")\n",
    "comment_data.head(10)"
   ]
  },
  {
   "cell_type": "code",
   "execution_count": 14,
   "id": "ae76ec0d",
   "metadata": {
    "execution": {
     "iopub.execute_input": "2025-04-24T12:11:21.106595Z",
     "iopub.status.busy": "2025-04-24T12:11:21.106255Z",
     "iopub.status.idle": "2025-04-24T12:11:23.046285Z",
     "shell.execute_reply": "2025-04-24T12:11:23.045247Z"
    },
    "papermill": {
     "duration": 1.955613,
     "end_time": "2025-04-24T12:11:23.048095",
     "exception": false,
     "start_time": "2025-04-24T12:11:21.092482",
     "status": "completed"
    },
    "tags": []
   },
   "outputs": [
    {
     "data": {
      "text/plain": [
       "course_id      1786561\n",
       "comment_id           0\n",
       "user_id              0\n",
       "text                 0\n",
       "create_time          0\n",
       "dtype: int64"
      ]
     },
     "execution_count": 14,
     "metadata": {},
     "output_type": "execute_result"
    }
   ],
   "source": [
    "comment_data.isnull().sum()"
   ]
  },
  {
   "cell_type": "code",
   "execution_count": 15,
   "id": "442d995c",
   "metadata": {
    "execution": {
     "iopub.execute_input": "2025-04-24T12:11:23.074628Z",
     "iopub.status.busy": "2025-04-24T12:11:23.074259Z",
     "iopub.status.idle": "2025-04-24T12:11:29.138400Z",
     "shell.execute_reply": "2025-04-24T12:11:29.137337Z"
    },
    "papermill": {
     "duration": 6.079664,
     "end_time": "2025-04-24T12:11:29.140300",
     "exception": false,
     "start_time": "2025-04-24T12:11:23.060636",
     "status": "completed"
    },
    "tags": []
   },
   "outputs": [
    {
     "data": {
      "text/html": [
       "<div>\n",
       "<style scoped>\n",
       "    .dataframe tbody tr th:only-of-type {\n",
       "        vertical-align: middle;\n",
       "    }\n",
       "\n",
       "    .dataframe tbody tr th {\n",
       "        vertical-align: top;\n",
       "    }\n",
       "\n",
       "    .dataframe thead th {\n",
       "        text-align: right;\n",
       "    }\n",
       "</style>\n",
       "<table border=\"1\" class=\"dataframe\">\n",
       "  <thead>\n",
       "    <tr style=\"text-align: right;\">\n",
       "      <th></th>\n",
       "      <th>comment_id</th>\n",
       "      <th>user_id</th>\n",
       "      <th>course_id</th>\n",
       "      <th>text</th>\n",
       "      <th>create_time</th>\n",
       "    </tr>\n",
       "  </thead>\n",
       "  <tbody>\n",
       "    <tr>\n",
       "      <th>1</th>\n",
       "      <td>Cm_4</td>\n",
       "      <td>U_1705400</td>\n",
       "      <td>C_597284</td>\n",
       "      <td>嗯嗯</td>\n",
       "      <td>2019-08-05 16:56:43</td>\n",
       "    </tr>\n",
       "    <tr>\n",
       "      <th>28</th>\n",
       "      <td>Cm_61</td>\n",
       "      <td>U_105</td>\n",
       "      <td>C_597334</td>\n",
       "      <td>老师好</td>\n",
       "      <td>2019-08-15 16:25:14</td>\n",
       "    </tr>\n",
       "    <tr>\n",
       "      <th>31</th>\n",
       "      <td>Cm_74</td>\n",
       "      <td>U_9520252</td>\n",
       "      <td>C_682246</td>\n",
       "      <td>这个评价的功能太隐蔽了</td>\n",
       "      <td>2019-08-23 11:25:35</td>\n",
       "    </tr>\n",
       "    <tr>\n",
       "      <th>33</th>\n",
       "      <td>Cm_83</td>\n",
       "      <td>U_361418</td>\n",
       "      <td>C_697602</td>\n",
       "      <td>评论</td>\n",
       "      <td>2019-09-02 15:37:18</td>\n",
       "    </tr>\n",
       "    <tr>\n",
       "      <th>34</th>\n",
       "      <td>Cm_88</td>\n",
       "      <td>U_6875014</td>\n",
       "      <td>C_605983</td>\n",
       "      <td>测试</td>\n",
       "      <td>2019-09-03 10:35:27</td>\n",
       "    </tr>\n",
       "  </tbody>\n",
       "</table>\n",
       "</div>"
      ],
      "text/plain": [
       "   comment_id    user_id course_id         text          create_time\n",
       "1        Cm_4  U_1705400  C_597284           嗯嗯  2019-08-05 16:56:43\n",
       "28      Cm_61      U_105  C_597334          老师好  2019-08-15 16:25:14\n",
       "31      Cm_74  U_9520252  C_682246  这个评价的功能太隐蔽了  2019-08-23 11:25:35\n",
       "33      Cm_83   U_361418  C_697602           评论  2019-09-02 15:37:18\n",
       "34      Cm_88  U_6875014  C_605983           测试  2019-09-03 10:35:27"
      ]
     },
     "execution_count": 15,
     "metadata": {},
     "output_type": "execute_result"
    }
   ],
   "source": [
    "# Chuyển đổi thứ tự cột\n",
    "comment_user = comment_data[['comment_id', 'user_id', 'course_id', 'text', 'create_time']]\n",
    "comment_user['user_id'] = comment_user['user_id'].apply(lambda x: f\"U_{x}\")\n",
    "comment_user.dropna(subset=['course_id', 'user_id'], inplace=True)\n",
    "\n",
    "comment_user.head()"
   ]
  },
  {
   "cell_type": "code",
   "execution_count": 16,
   "id": "2d1cd083",
   "metadata": {
    "execution": {
     "iopub.execute_input": "2025-04-24T12:11:29.167170Z",
     "iopub.status.busy": "2025-04-24T12:11:29.166709Z",
     "iopub.status.idle": "2025-04-24T12:12:07.546446Z",
     "shell.execute_reply": "2025-04-24T12:12:07.545335Z"
    },
    "papermill": {
     "duration": 38.395005,
     "end_time": "2025-04-24T12:12:07.548263",
     "exception": false,
     "start_time": "2025-04-24T12:11:29.153258",
     "status": "completed"
    },
    "tags": []
   },
   "outputs": [],
   "source": [
    "user = user_pd\n",
    "user[\"course_enroll_map\"] = user.apply(\n",
    "    lambda row: dict(zip(row[\"course_order\"], row[\"enroll_time\"])), axis=1\n",
    ")"
   ]
  },
  {
   "cell_type": "code",
   "execution_count": 17,
   "id": "af26fa4f",
   "metadata": {
    "execution": {
     "iopub.execute_input": "2025-04-24T12:12:07.574787Z",
     "iopub.status.busy": "2025-04-24T12:12:07.574456Z",
     "iopub.status.idle": "2025-04-24T12:12:16.164849Z",
     "shell.execute_reply": "2025-04-24T12:12:16.163783Z"
    },
    "papermill": {
     "duration": 8.605774,
     "end_time": "2025-04-24T12:12:16.166872",
     "exception": false,
     "start_time": "2025-04-24T12:12:07.561098",
     "status": "completed"
    },
    "tags": []
   },
   "outputs": [],
   "source": [
    "comment_user = comment_user.merge(user[['user_id', 'course_enroll_map']], on='user_id', how='left')"
   ]
  },
  {
   "cell_type": "code",
   "execution_count": 18,
   "id": "c761ad3c",
   "metadata": {
    "execution": {
     "iopub.execute_input": "2025-04-24T12:12:16.194235Z",
     "iopub.status.busy": "2025-04-24T12:12:16.193832Z",
     "iopub.status.idle": "2025-04-24T12:12:18.565309Z",
     "shell.execute_reply": "2025-04-24T12:12:18.564283Z"
    },
    "papermill": {
     "duration": 2.386905,
     "end_time": "2025-04-24T12:12:18.566957",
     "exception": false,
     "start_time": "2025-04-24T12:12:16.180052",
     "status": "completed"
    },
    "tags": []
   },
   "outputs": [
    {
     "data": {
      "text/plain": [
       "comment_id                0\n",
       "user_id                   0\n",
       "course_id                 0\n",
       "text                      0\n",
       "create_time               0\n",
       "course_enroll_map    275655\n",
       "dtype: int64"
      ]
     },
     "execution_count": 18,
     "metadata": {},
     "output_type": "execute_result"
    }
   ],
   "source": [
    "comment_user.isnull().sum()"
   ]
  },
  {
   "cell_type": "code",
   "execution_count": 19,
   "id": "77db58f4",
   "metadata": {
    "execution": {
     "iopub.execute_input": "2025-04-24T12:12:18.593427Z",
     "iopub.status.busy": "2025-04-24T12:12:18.593094Z",
     "iopub.status.idle": "2025-04-24T12:12:20.750078Z",
     "shell.execute_reply": "2025-04-24T12:12:20.749064Z"
    },
    "papermill": {
     "duration": 2.172085,
     "end_time": "2025-04-24T12:12:20.751966",
     "exception": false,
     "start_time": "2025-04-24T12:12:18.579881",
     "status": "completed"
    },
    "tags": []
   },
   "outputs": [],
   "source": [
    "comment_user[\"course_id_clean\"] = comment_user[\"course_id\"].str.replace(\"C_\", \"\", regex=False)  "
   ]
  },
  {
   "cell_type": "code",
   "execution_count": 20,
   "id": "5ba3fc38",
   "metadata": {
    "execution": {
     "iopub.execute_input": "2025-04-24T12:12:20.778657Z",
     "iopub.status.busy": "2025-04-24T12:12:20.778341Z",
     "iopub.status.idle": "2025-04-24T12:12:21.587309Z",
     "shell.execute_reply": "2025-04-24T12:12:21.586205Z"
    },
    "papermill": {
     "duration": 0.824608,
     "end_time": "2025-04-24T12:12:21.589346",
     "exception": false,
     "start_time": "2025-04-24T12:12:20.764738",
     "status": "completed"
    },
    "tags": []
   },
   "outputs": [],
   "source": [
    "comment_user[\"course_id_clean\"] = comment_user[\"course_id_clean\"].astype(int)"
   ]
  },
  {
   "cell_type": "code",
   "execution_count": 21,
   "id": "4f016de5",
   "metadata": {
    "execution": {
     "iopub.execute_input": "2025-04-24T12:12:21.618626Z",
     "iopub.status.busy": "2025-04-24T12:12:21.618291Z",
     "iopub.status.idle": "2025-04-24T12:12:21.634511Z",
     "shell.execute_reply": "2025-04-24T12:12:21.633491Z"
    },
    "papermill": {
     "duration": 0.032111,
     "end_time": "2025-04-24T12:12:21.636227",
     "exception": false,
     "start_time": "2025-04-24T12:12:21.604116",
     "status": "completed"
    },
    "tags": []
   },
   "outputs": [
    {
     "data": {
      "text/html": [
       "<div>\n",
       "<style scoped>\n",
       "    .dataframe tbody tr th:only-of-type {\n",
       "        vertical-align: middle;\n",
       "    }\n",
       "\n",
       "    .dataframe tbody tr th {\n",
       "        vertical-align: top;\n",
       "    }\n",
       "\n",
       "    .dataframe thead th {\n",
       "        text-align: right;\n",
       "    }\n",
       "</style>\n",
       "<table border=\"1\" class=\"dataframe\">\n",
       "  <thead>\n",
       "    <tr style=\"text-align: right;\">\n",
       "      <th></th>\n",
       "      <th>comment_id</th>\n",
       "      <th>user_id</th>\n",
       "      <th>course_id</th>\n",
       "      <th>text</th>\n",
       "      <th>create_time</th>\n",
       "      <th>course_enroll_map</th>\n",
       "      <th>course_id_clean</th>\n",
       "    </tr>\n",
       "  </thead>\n",
       "  <tbody>\n",
       "    <tr>\n",
       "      <th>0</th>\n",
       "      <td>Cm_4</td>\n",
       "      <td>U_1705400</td>\n",
       "      <td>C_597284</td>\n",
       "      <td>嗯嗯</td>\n",
       "      <td>2019-08-05 16:56:43</td>\n",
       "      <td>{375779: '2019-01-25 18:08:47', 375775: '2019-...</td>\n",
       "      <td>597284</td>\n",
       "    </tr>\n",
       "    <tr>\n",
       "      <th>1</th>\n",
       "      <td>Cm_61</td>\n",
       "      <td>U_105</td>\n",
       "      <td>C_597334</td>\n",
       "      <td>老师好</td>\n",
       "      <td>2019-08-15 16:25:14</td>\n",
       "      <td>{609639: '2019-06-04 17:03:21', 597334: '2019-...</td>\n",
       "      <td>597334</td>\n",
       "    </tr>\n",
       "    <tr>\n",
       "      <th>2</th>\n",
       "      <td>Cm_74</td>\n",
       "      <td>U_9520252</td>\n",
       "      <td>C_682246</td>\n",
       "      <td>这个评价的功能太隐蔽了</td>\n",
       "      <td>2019-08-23 11:25:35</td>\n",
       "      <td>{679265: '2019-08-20 15:38:03', 676946: '2019-...</td>\n",
       "      <td>682246</td>\n",
       "    </tr>\n",
       "    <tr>\n",
       "      <th>3</th>\n",
       "      <td>Cm_83</td>\n",
       "      <td>U_361418</td>\n",
       "      <td>C_697602</td>\n",
       "      <td>评论</td>\n",
       "      <td>2019-09-02 15:37:18</td>\n",
       "      <td>{375779: '2019-01-25 18:00:03', 375775: '2019-...</td>\n",
       "      <td>697602</td>\n",
       "    </tr>\n",
       "    <tr>\n",
       "      <th>4</th>\n",
       "      <td>Cm_88</td>\n",
       "      <td>U_6875014</td>\n",
       "      <td>C_605983</td>\n",
       "      <td>测试</td>\n",
       "      <td>2019-09-03 10:35:27</td>\n",
       "      <td>{375775: '2019-03-21 11:23:24', 375778: '2019-...</td>\n",
       "      <td>605983</td>\n",
       "    </tr>\n",
       "  </tbody>\n",
       "</table>\n",
       "</div>"
      ],
      "text/plain": [
       "  comment_id    user_id course_id         text          create_time  \\\n",
       "0       Cm_4  U_1705400  C_597284           嗯嗯  2019-08-05 16:56:43   \n",
       "1      Cm_61      U_105  C_597334          老师好  2019-08-15 16:25:14   \n",
       "2      Cm_74  U_9520252  C_682246  这个评价的功能太隐蔽了  2019-08-23 11:25:35   \n",
       "3      Cm_83   U_361418  C_697602           评论  2019-09-02 15:37:18   \n",
       "4      Cm_88  U_6875014  C_605983           测试  2019-09-03 10:35:27   \n",
       "\n",
       "                                   course_enroll_map  course_id_clean  \n",
       "0  {375779: '2019-01-25 18:08:47', 375775: '2019-...           597284  \n",
       "1  {609639: '2019-06-04 17:03:21', 597334: '2019-...           597334  \n",
       "2  {679265: '2019-08-20 15:38:03', 676946: '2019-...           682246  \n",
       "3  {375779: '2019-01-25 18:00:03', 375775: '2019-...           697602  \n",
       "4  {375775: '2019-03-21 11:23:24', 375778: '2019-...           605983  "
      ]
     },
     "execution_count": 21,
     "metadata": {},
     "output_type": "execute_result"
    }
   ],
   "source": [
    "comment_user.head()"
   ]
  },
  {
   "cell_type": "code",
   "execution_count": 22,
   "id": "39823e20",
   "metadata": {
    "execution": {
     "iopub.execute_input": "2025-04-24T12:12:21.663569Z",
     "iopub.status.busy": "2025-04-24T12:12:21.663165Z",
     "iopub.status.idle": "2025-04-24T12:13:36.245297Z",
     "shell.execute_reply": "2025-04-24T12:13:36.244182Z"
    },
    "papermill": {
     "duration": 74.598084,
     "end_time": "2025-04-24T12:13:36.247372",
     "exception": false,
     "start_time": "2025-04-24T12:12:21.649288",
     "status": "completed"
    },
    "tags": []
   },
   "outputs": [],
   "source": [
    "comment_user[\"enroll_time\"] = comment_user.apply(\n",
    "    lambda row: row[\"course_enroll_map\"].get(row[\"course_id_clean\"], None) \n",
    "    if isinstance(row[\"course_enroll_map\"], dict) else None, axis=1\n",
    ")"
   ]
  },
  {
   "cell_type": "code",
   "execution_count": 23,
   "id": "b58c8761",
   "metadata": {
    "execution": {
     "iopub.execute_input": "2025-04-24T12:13:36.274968Z",
     "iopub.status.busy": "2025-04-24T12:13:36.274609Z",
     "iopub.status.idle": "2025-04-24T12:13:37.050122Z",
     "shell.execute_reply": "2025-04-24T12:13:37.048924Z"
    },
    "papermill": {
     "duration": 0.79116,
     "end_time": "2025-04-24T12:13:37.052026",
     "exception": false,
     "start_time": "2025-04-24T12:13:36.260866",
     "status": "completed"
    },
    "tags": []
   },
   "outputs": [],
   "source": [
    "comment_user.drop(columns=[\"course_enroll_map\",'course_id_clean'], inplace=True)"
   ]
  },
  {
   "cell_type": "code",
   "execution_count": 24,
   "id": "204d0c2f",
   "metadata": {
    "execution": {
     "iopub.execute_input": "2025-04-24T12:13:37.078819Z",
     "iopub.status.busy": "2025-04-24T12:13:37.078480Z",
     "iopub.status.idle": "2025-04-24T12:13:37.087969Z",
     "shell.execute_reply": "2025-04-24T12:13:37.086713Z"
    },
    "papermill": {
     "duration": 0.024609,
     "end_time": "2025-04-24T12:13:37.089553",
     "exception": false,
     "start_time": "2025-04-24T12:13:37.064944",
     "status": "completed"
    },
    "tags": []
   },
   "outputs": [
    {
     "name": "stdout",
     "output_type": "stream",
     "text": [
      "<class 'pandas.core.frame.DataFrame'>\n",
      "RangeIndex: 6608580 entries, 0 to 6608579\n",
      "Data columns (total 6 columns):\n",
      " #   Column       Dtype \n",
      "---  ------       ----- \n",
      " 0   comment_id   object\n",
      " 1   user_id      object\n",
      " 2   course_id    object\n",
      " 3   text         object\n",
      " 4   create_time  object\n",
      " 5   enroll_time  object\n",
      "dtypes: object(6)\n",
      "memory usage: 302.5+ MB\n"
     ]
    }
   ],
   "source": [
    "comment_user.info()"
   ]
  },
  {
   "cell_type": "code",
   "execution_count": 25,
   "id": "d2553a6f",
   "metadata": {
    "execution": {
     "iopub.execute_input": "2025-04-24T12:13:37.117233Z",
     "iopub.status.busy": "2025-04-24T12:13:37.116800Z",
     "iopub.status.idle": "2025-04-24T12:13:37.606966Z",
     "shell.execute_reply": "2025-04-24T12:13:37.605764Z"
    },
    "papermill": {
     "duration": 0.505894,
     "end_time": "2025-04-24T12:13:37.608843",
     "exception": false,
     "start_time": "2025-04-24T12:13:37.102949",
     "status": "completed"
    },
    "tags": []
   },
   "outputs": [
    {
     "name": "stdout",
     "output_type": "stream",
     "text": [
      "Số lượng khóa học không có thời gian đăng ký trên tổng số khóa học: 0.04180686319905335\n"
     ]
    }
   ],
   "source": [
    "print(\"Số lượng khóa học không có thời gian đăng ký trên tổng số khóa học:\",comment_user['enroll_time'].isnull().sum()/len(comment_user))"
   ]
  },
  {
   "cell_type": "code",
   "execution_count": 26,
   "id": "ffb250a6",
   "metadata": {
    "execution": {
     "iopub.execute_input": "2025-04-24T12:13:37.636517Z",
     "iopub.status.busy": "2025-04-24T12:13:37.636187Z",
     "iopub.status.idle": "2025-04-24T12:13:39.509923Z",
     "shell.execute_reply": "2025-04-24T12:13:39.508892Z"
    },
    "papermill": {
     "duration": 1.889195,
     "end_time": "2025-04-24T12:13:39.511584",
     "exception": false,
     "start_time": "2025-04-24T12:13:37.622389",
     "status": "completed"
    },
    "tags": []
   },
   "outputs": [
    {
     "data": {
      "text/html": [
       "<div>\n",
       "<style scoped>\n",
       "    .dataframe tbody tr th:only-of-type {\n",
       "        vertical-align: middle;\n",
       "    }\n",
       "\n",
       "    .dataframe tbody tr th {\n",
       "        vertical-align: top;\n",
       "    }\n",
       "\n",
       "    .dataframe thead th {\n",
       "        text-align: right;\n",
       "    }\n",
       "</style>\n",
       "<table border=\"1\" class=\"dataframe\">\n",
       "  <thead>\n",
       "    <tr style=\"text-align: right;\">\n",
       "      <th></th>\n",
       "      <th>comment_id</th>\n",
       "      <th>user_id</th>\n",
       "      <th>course_id</th>\n",
       "      <th>text</th>\n",
       "      <th>create_time</th>\n",
       "      <th>enroll_time</th>\n",
       "    </tr>\n",
       "  </thead>\n",
       "  <tbody>\n",
       "    <tr>\n",
       "      <th>0</th>\n",
       "      <td>Cm_4</td>\n",
       "      <td>U_1705400</td>\n",
       "      <td>C_597284</td>\n",
       "      <td>嗯嗯</td>\n",
       "      <td>2019-08-05 16:56:43</td>\n",
       "      <td>2019-07-30 14:53:48</td>\n",
       "    </tr>\n",
       "    <tr>\n",
       "      <th>1</th>\n",
       "      <td>Cm_61</td>\n",
       "      <td>U_105</td>\n",
       "      <td>C_597334</td>\n",
       "      <td>老师好</td>\n",
       "      <td>2019-08-15 16:25:14</td>\n",
       "      <td>2019-08-15 16:19:54</td>\n",
       "    </tr>\n",
       "    <tr>\n",
       "      <th>2</th>\n",
       "      <td>Cm_74</td>\n",
       "      <td>U_9520252</td>\n",
       "      <td>C_682246</td>\n",
       "      <td>这个评价的功能太隐蔽了</td>\n",
       "      <td>2019-08-23 11:25:35</td>\n",
       "      <td>2019-08-23 11:23:23</td>\n",
       "    </tr>\n",
       "    <tr>\n",
       "      <th>3</th>\n",
       "      <td>Cm_83</td>\n",
       "      <td>U_361418</td>\n",
       "      <td>C_697602</td>\n",
       "      <td>评论</td>\n",
       "      <td>2019-09-02 15:37:18</td>\n",
       "      <td>2019-09-02 15:31:39</td>\n",
       "    </tr>\n",
       "    <tr>\n",
       "      <th>4</th>\n",
       "      <td>Cm_88</td>\n",
       "      <td>U_6875014</td>\n",
       "      <td>C_605983</td>\n",
       "      <td>测试</td>\n",
       "      <td>2019-09-03 10:35:27</td>\n",
       "      <td>2019-09-03 10:35:28</td>\n",
       "    </tr>\n",
       "  </tbody>\n",
       "</table>\n",
       "</div>"
      ],
      "text/plain": [
       "  comment_id    user_id course_id         text          create_time  \\\n",
       "0       Cm_4  U_1705400  C_597284           嗯嗯  2019-08-05 16:56:43   \n",
       "1      Cm_61      U_105  C_597334          老师好  2019-08-15 16:25:14   \n",
       "2      Cm_74  U_9520252  C_682246  这个评价的功能太隐蔽了  2019-08-23 11:25:35   \n",
       "3      Cm_83   U_361418  C_697602           评论  2019-09-02 15:37:18   \n",
       "4      Cm_88  U_6875014  C_605983           测试  2019-09-03 10:35:27   \n",
       "\n",
       "           enroll_time  \n",
       "0  2019-07-30 14:53:48  \n",
       "1  2019-08-15 16:19:54  \n",
       "2  2019-08-23 11:23:23  \n",
       "3  2019-09-02 15:31:39  \n",
       "4  2019-09-03 10:35:28  "
      ]
     },
     "execution_count": 26,
     "metadata": {},
     "output_type": "execute_result"
    }
   ],
   "source": [
    "comment_user.dropna(subset=['enroll_time'], inplace=True)\n",
    "comment = comment_user\n",
    "comment.head()"
   ]
  },
  {
   "cell_type": "code",
   "execution_count": 27,
   "id": "88ecbe06",
   "metadata": {
    "execution": {
     "iopub.execute_input": "2025-04-24T12:13:39.539624Z",
     "iopub.status.busy": "2025-04-24T12:13:39.539255Z",
     "iopub.status.idle": "2025-04-24T12:13:44.195415Z",
     "shell.execute_reply": "2025-04-24T12:13:44.194462Z"
    },
    "papermill": {
     "duration": 4.672177,
     "end_time": "2025-04-24T12:13:44.197297",
     "exception": false,
     "start_time": "2025-04-24T12:13:39.525120",
     "status": "completed"
    },
    "tags": []
   },
   "outputs": [],
   "source": [
    "# Chuyển đổi cột thời gian sang kiểu datetime\n",
    "comment['create_time'] = pd.to_datetime(comment['create_time'], errors='coerce')\n",
    "comment['enroll_time'] = pd.to_datetime(comment['enroll_time'], errors='coerce')"
   ]
  },
  {
   "cell_type": "code",
   "execution_count": 28,
   "id": "a68fb4e1",
   "metadata": {
    "execution": {
     "iopub.execute_input": "2025-04-24T12:13:44.224837Z",
     "iopub.status.busy": "2025-04-24T12:13:44.224503Z",
     "iopub.status.idle": "2025-04-24T12:13:44.456857Z",
     "shell.execute_reply": "2025-04-24T12:13:44.455950Z"
    },
    "papermill": {
     "duration": 0.248249,
     "end_time": "2025-04-24T12:13:44.458705",
     "exception": false,
     "start_time": "2025-04-24T12:13:44.210456",
     "status": "completed"
    },
    "tags": []
   },
   "outputs": [],
   "source": [
    "# Tính khoảng thời gian từ enroll_time đến create_time\n",
    "comment['days_since_enroll'] = (comment['create_time'] - comment['enroll_time']).dt.days"
   ]
  },
  {
   "cell_type": "code",
   "execution_count": 29,
   "id": "480b0853",
   "metadata": {
    "execution": {
     "iopub.execute_input": "2025-04-24T12:13:44.486570Z",
     "iopub.status.busy": "2025-04-24T12:13:44.486236Z",
     "iopub.status.idle": "2025-04-24T12:14:09.905887Z",
     "shell.execute_reply": "2025-04-24T12:14:09.905020Z"
    },
    "papermill": {
     "duration": 25.435343,
     "end_time": "2025-04-24T12:14:09.907635",
     "exception": false,
     "start_time": "2025-04-24T12:13:44.472292",
     "status": "completed"
    },
    "tags": []
   },
   "outputs": [
    {
     "data": {
      "text/html": [
       "<div>\n",
       "<style scoped>\n",
       "    .dataframe tbody tr th:only-of-type {\n",
       "        vertical-align: middle;\n",
       "    }\n",
       "\n",
       "    .dataframe tbody tr th {\n",
       "        vertical-align: top;\n",
       "    }\n",
       "\n",
       "    .dataframe thead th {\n",
       "        text-align: right;\n",
       "    }\n",
       "</style>\n",
       "<table border=\"1\" class=\"dataframe\">\n",
       "  <thead>\n",
       "    <tr style=\"text-align: right;\">\n",
       "      <th></th>\n",
       "      <th>comment_id</th>\n",
       "      <th>user_id</th>\n",
       "      <th>course_id</th>\n",
       "      <th>text</th>\n",
       "      <th>create_time</th>\n",
       "      <th>enroll_time</th>\n",
       "      <th>days_since_enroll</th>\n",
       "      <th>num_words_rep</th>\n",
       "    </tr>\n",
       "  </thead>\n",
       "  <tbody>\n",
       "    <tr>\n",
       "      <th>0</th>\n",
       "      <td>Cm_4</td>\n",
       "      <td>U_1705400</td>\n",
       "      <td>C_597284</td>\n",
       "      <td>嗯嗯</td>\n",
       "      <td>2019-08-05 16:56:43</td>\n",
       "      <td>2019-07-30 14:53:48</td>\n",
       "      <td>6</td>\n",
       "      <td>2</td>\n",
       "    </tr>\n",
       "    <tr>\n",
       "      <th>1</th>\n",
       "      <td>Cm_61</td>\n",
       "      <td>U_105</td>\n",
       "      <td>C_597334</td>\n",
       "      <td>老师好</td>\n",
       "      <td>2019-08-15 16:25:14</td>\n",
       "      <td>2019-08-15 16:19:54</td>\n",
       "      <td>0</td>\n",
       "      <td>3</td>\n",
       "    </tr>\n",
       "    <tr>\n",
       "      <th>2</th>\n",
       "      <td>Cm_74</td>\n",
       "      <td>U_9520252</td>\n",
       "      <td>C_682246</td>\n",
       "      <td>这个评价的功能太隐蔽了</td>\n",
       "      <td>2019-08-23 11:25:35</td>\n",
       "      <td>2019-08-23 11:23:23</td>\n",
       "      <td>0</td>\n",
       "      <td>11</td>\n",
       "    </tr>\n",
       "    <tr>\n",
       "      <th>3</th>\n",
       "      <td>Cm_83</td>\n",
       "      <td>U_361418</td>\n",
       "      <td>C_697602</td>\n",
       "      <td>评论</td>\n",
       "      <td>2019-09-02 15:37:18</td>\n",
       "      <td>2019-09-02 15:31:39</td>\n",
       "      <td>0</td>\n",
       "      <td>2</td>\n",
       "    </tr>\n",
       "    <tr>\n",
       "      <th>4</th>\n",
       "      <td>Cm_88</td>\n",
       "      <td>U_6875014</td>\n",
       "      <td>C_605983</td>\n",
       "      <td>测试</td>\n",
       "      <td>2019-09-03 10:35:27</td>\n",
       "      <td>2019-09-03 10:35:28</td>\n",
       "      <td>-1</td>\n",
       "      <td>2</td>\n",
       "    </tr>\n",
       "    <tr>\n",
       "      <th>5</th>\n",
       "      <td>Cm_89</td>\n",
       "      <td>U_2005701</td>\n",
       "      <td>C_605512</td>\n",
       "      <td>讨论</td>\n",
       "      <td>2019-09-03 10:40:38</td>\n",
       "      <td>2019-06-24 16:12:38</td>\n",
       "      <td>70</td>\n",
       "      <td>2</td>\n",
       "    </tr>\n",
       "    <tr>\n",
       "      <th>6</th>\n",
       "      <td>Cm_92</td>\n",
       "      <td>U_6875014</td>\n",
       "      <td>C_605983</td>\n",
       "      <td>厉害了</td>\n",
       "      <td>2019-09-03 20:15:13</td>\n",
       "      <td>2019-09-03 10:35:28</td>\n",
       "      <td>0</td>\n",
       "      <td>3</td>\n",
       "    </tr>\n",
       "    <tr>\n",
       "      <th>7</th>\n",
       "      <td>Cm_93</td>\n",
       "      <td>U_6875014</td>\n",
       "      <td>C_605983</td>\n",
       "      <td>厉害了</td>\n",
       "      <td>2019-09-03 20:15:14</td>\n",
       "      <td>2019-09-03 10:35:28</td>\n",
       "      <td>0</td>\n",
       "      <td>3</td>\n",
       "    </tr>\n",
       "    <tr>\n",
       "      <th>8</th>\n",
       "      <td>Cm_100</td>\n",
       "      <td>U_11731</td>\n",
       "      <td>C_696700</td>\n",
       "      <td>是根深蒂固</td>\n",
       "      <td>2019-09-05 14:50:03</td>\n",
       "      <td>2019-09-05 14:07:20</td>\n",
       "      <td>0</td>\n",
       "      <td>5</td>\n",
       "    </tr>\n",
       "    <tr>\n",
       "      <th>9</th>\n",
       "      <td>Cm_101</td>\n",
       "      <td>U_11731</td>\n",
       "      <td>C_696700</td>\n",
       "      <td>大发的说法</td>\n",
       "      <td>2019-09-05 14:50:06</td>\n",
       "      <td>2019-09-05 14:07:20</td>\n",
       "      <td>0</td>\n",
       "      <td>5</td>\n",
       "    </tr>\n",
       "  </tbody>\n",
       "</table>\n",
       "</div>"
      ],
      "text/plain": [
       "  comment_id    user_id course_id         text         create_time  \\\n",
       "0       Cm_4  U_1705400  C_597284           嗯嗯 2019-08-05 16:56:43   \n",
       "1      Cm_61      U_105  C_597334          老师好 2019-08-15 16:25:14   \n",
       "2      Cm_74  U_9520252  C_682246  这个评价的功能太隐蔽了 2019-08-23 11:25:35   \n",
       "3      Cm_83   U_361418  C_697602           评论 2019-09-02 15:37:18   \n",
       "4      Cm_88  U_6875014  C_605983           测试 2019-09-03 10:35:27   \n",
       "5      Cm_89  U_2005701  C_605512           讨论 2019-09-03 10:40:38   \n",
       "6      Cm_92  U_6875014  C_605983          厉害了 2019-09-03 20:15:13   \n",
       "7      Cm_93  U_6875014  C_605983          厉害了 2019-09-03 20:15:14   \n",
       "8     Cm_100    U_11731  C_696700        是根深蒂固 2019-09-05 14:50:03   \n",
       "9     Cm_101    U_11731  C_696700        大发的说法 2019-09-05 14:50:06   \n",
       "\n",
       "          enroll_time  days_since_enroll  num_words_rep  \n",
       "0 2019-07-30 14:53:48                  6              2  \n",
       "1 2019-08-15 16:19:54                  0              3  \n",
       "2 2019-08-23 11:23:23                  0             11  \n",
       "3 2019-09-02 15:31:39                  0              2  \n",
       "4 2019-09-03 10:35:28                 -1              2  \n",
       "5 2019-06-24 16:12:38                 70              2  \n",
       "6 2019-09-03 10:35:28                  0              3  \n",
       "7 2019-09-03 10:35:28                  0              3  \n",
       "8 2019-09-05 14:07:20                  0              5  \n",
       "9 2019-09-05 14:07:20                  0              5  "
      ]
     },
     "execution_count": 29,
     "metadata": {},
     "output_type": "execute_result"
    }
   ],
   "source": [
    "import re\n",
    "\n",
    "def count_words(text):\n",
    "    text = str(text).strip()  # Đảm bảo dữ liệu không bị lỗi None hoặc NaN\n",
    "    \n",
    "    # Nếu chứa ký tự CJK (tiếng Trung, Nhật, Hàn)\n",
    "    if re.search(r'[\\u4e00-\\u9fff\\u3040-\\u30ff\\uac00-\\ud7af]', text):\n",
    "        # Loại bỏ dấu câu trước khi đếm ký tự\n",
    "        text = re.sub(r'[，。！？、…—「」『』（）【】《》〈〉~]', '', text)\n",
    "        return len(text)  # Đếm số ký tự còn lại\n",
    "    \n",
    "    else:\n",
    "        # Đếm số từ tiếng Anh\n",
    "        return len(re.findall(r'\\b\\w+\\b', text))\n",
    "\n",
    "# Áp dụng vào DataFrame\n",
    "comment['num_words_rep'] = comment['text'].apply(count_words)\n",
    "\n",
    "# Kiểm tra kết quả\n",
    "comment.head(10)"
   ]
  },
  {
   "cell_type": "code",
   "execution_count": 30,
   "id": "2056920a",
   "metadata": {
    "execution": {
     "iopub.execute_input": "2025-04-24T12:14:09.936104Z",
     "iopub.status.busy": "2025-04-24T12:14:09.935665Z",
     "iopub.status.idle": "2025-04-24T12:14:10.598957Z",
     "shell.execute_reply": "2025-04-24T12:14:10.597796Z"
    },
    "papermill": {
     "duration": 0.679397,
     "end_time": "2025-04-24T12:14:10.600802",
     "exception": false,
     "start_time": "2025-04-24T12:14:09.921405",
     "status": "completed"
    },
    "tags": []
   },
   "outputs": [
    {
     "name": "stdout",
     "output_type": "stream",
     "text": [
      "<class 'pandas.core.frame.DataFrame'>\n",
      "Index: 6331256 entries, 0 to 6608579\n",
      "Data columns (total 8 columns):\n",
      " #   Column             Dtype         \n",
      "---  ------             -----         \n",
      " 0   comment_id         object        \n",
      " 1   user_id            object        \n",
      " 2   course_id          object        \n",
      " 3   text               object        \n",
      " 4   create_time        datetime64[ns]\n",
      " 5   enroll_time        datetime64[ns]\n",
      " 6   days_since_enroll  int64         \n",
      " 7   num_words_rep      int64         \n",
      "dtypes: datetime64[ns](2), int64(2), object(4)\n",
      "memory usage: 434.7+ MB\n"
     ]
    }
   ],
   "source": [
    "# Lọc bỏ những dòng có thời gian bình luận nhỏ hơn hoặc bằng thời gian đăng ký\n",
    "comment = comment[comment['create_time'] > comment['enroll_time']]\n",
    "\n",
    "comment.info()"
   ]
  },
  {
   "cell_type": "code",
   "execution_count": 31,
   "id": "d42be758",
   "metadata": {
    "execution": {
     "iopub.execute_input": "2025-04-24T12:14:10.629724Z",
     "iopub.status.busy": "2025-04-24T12:14:10.629316Z",
     "iopub.status.idle": "2025-04-24T12:15:01.566051Z",
     "shell.execute_reply": "2025-04-24T12:15:01.565081Z"
    },
    "papermill": {
     "duration": 50.953349,
     "end_time": "2025-04-24T12:15:01.568041",
     "exception": false,
     "start_time": "2025-04-24T12:14:10.614692",
     "status": "completed"
    },
    "tags": []
   },
   "outputs": [],
   "source": [
    "comment.to_csv(\"comment_C.csv\", index = False)"
   ]
  },
  {
   "cell_type": "code",
   "execution_count": 32,
   "id": "e3d6513d",
   "metadata": {
    "execution": {
     "iopub.execute_input": "2025-04-24T12:15:01.597403Z",
     "iopub.status.busy": "2025-04-24T12:15:01.596945Z",
     "iopub.status.idle": "2025-04-24T12:15:30.082426Z",
     "shell.execute_reply": "2025-04-24T12:15:30.081402Z"
    },
    "papermill": {
     "duration": 28.501863,
     "end_time": "2025-04-24T12:15:30.084204",
     "exception": false,
     "start_time": "2025-04-24T12:15:01.582341",
     "status": "completed"
    },
    "tags": []
   },
   "outputs": [
    {
     "name": "stderr",
     "output_type": "stream",
     "text": [
      "/usr/local/lib/python3.10/dist-packages/seaborn/_oldcore.py:1119: FutureWarning: use_inf_as_na option is deprecated and will be removed in a future version. Convert inf values to NaN before operating instead.\n",
      "  with pd.option_context('mode.use_inf_as_na', True):\n"
     ]
    },
    {
     "data": {
      "image/png": "[encoded data removed]",
      "text/plain": [
       "<Figure size 1000x500 with 1 Axes>"
      ]
     },
     "metadata": {},
     "output_type": "display_data"
    }
   ],
   "source": [
    "plt.figure(figsize=(10, 5))\n",
    "sns.histplot(comment['days_since_enroll'], bins=50, kde=True, color='royalblue')\n",
    "plt.xlabel('Days Since Enroll', fontsize=14)\n",
    "plt.ylabel('Frequency', fontsize=14)\n",
    "plt.title('Distribution of Days Since Enroll', fontsize=16)\n",
    "plt.grid(axis=\"y\", linestyle=\"--\", alpha=0.7)\n",
    "plt.show()"
   ]
  },
  {
   "cell_type": "markdown",
   "id": "8c3dfb6f",
   "metadata": {
    "papermill": {
     "duration": 0.014125,
     "end_time": "2025-04-24T12:15:30.170395",
     "exception": false,
     "start_time": "2025-04-24T12:15:30.156270",
     "status": "completed"
    },
    "tags": []
   },
   "source": [
    "# Phase 1"
   ]
  },
  {
   "cell_type": "code",
   "execution_count": 33,
   "id": "df6e834a",
   "metadata": {
    "execution": {
     "iopub.execute_input": "2025-04-24T12:15:30.200784Z",
     "iopub.status.busy": "2025-04-24T12:15:30.200434Z",
     "iopub.status.idle": "2025-04-24T12:15:30.556461Z",
     "shell.execute_reply": "2025-04-24T12:15:30.555335Z"
    },
    "papermill": {
     "duration": 0.373421,
     "end_time": "2025-04-24T12:15:30.558352",
     "exception": false,
     "start_time": "2025-04-24T12:15:30.184931",
     "status": "completed"
    },
    "tags": []
   },
   "outputs": [],
   "source": [
    "Phase1_cmt = comment[comment['days_since_enroll'] <= 14]"
   ]
  },
  {
   "cell_type": "code",
   "execution_count": 34,
   "id": "94c2a185",
   "metadata": {
    "execution": {
     "iopub.execute_input": "2025-04-24T12:15:30.589729Z",
     "iopub.status.busy": "2025-04-24T12:15:30.589373Z",
     "iopub.status.idle": "2025-04-24T12:15:30.598478Z",
     "shell.execute_reply": "2025-04-24T12:15:30.597472Z"
    },
    "papermill": {
     "duration": 0.026794,
     "end_time": "2025-04-24T12:15:30.600367",
     "exception": false,
     "start_time": "2025-04-24T12:15:30.573573",
     "status": "completed"
    },
    "tags": []
   },
   "outputs": [
    {
     "name": "stdout",
     "output_type": "stream",
     "text": [
      "<class 'pandas.core.frame.DataFrame'>\n",
      "Index: 2733459 entries, 0 to 6608566\n",
      "Data columns (total 8 columns):\n",
      " #   Column             Dtype         \n",
      "---  ------             -----         \n",
      " 0   comment_id         object        \n",
      " 1   user_id            object        \n",
      " 2   course_id          object        \n",
      " 3   text               object        \n",
      " 4   create_time        datetime64[ns]\n",
      " 5   enroll_time        datetime64[ns]\n",
      " 6   days_since_enroll  int64         \n",
      " 7   num_words_rep      int64         \n",
      "dtypes: datetime64[ns](2), int64(2), object(4)\n",
      "memory usage: 187.7+ MB\n"
     ]
    }
   ],
   "source": [
    "Phase1_cmt.info()"
   ]
  },
  {
   "cell_type": "code",
   "execution_count": 35,
   "id": "8fc86f2d",
   "metadata": {
    "execution": {
     "iopub.execute_input": "2025-04-24T12:15:30.631058Z",
     "iopub.status.busy": "2025-04-24T12:15:30.630608Z",
     "iopub.status.idle": "2025-04-24T12:15:36.208005Z",
     "shell.execute_reply": "2025-04-24T12:15:36.206778Z"
    },
    "papermill": {
     "duration": 5.594649,
     "end_time": "2025-04-24T12:15:36.209842",
     "exception": false,
     "start_time": "2025-04-24T12:15:30.615193",
     "status": "completed"
    },
    "tags": []
   },
   "outputs": [
    {
     "name": "stdout",
     "output_type": "stream",
     "text": [
      "          user_id  course_id  comment_count_phase1  total_words_phase1\n",
      "0       U_1000902   C_697821                     1                   2\n",
      "1       U_1001314  C_1779421                     3                  43\n",
      "2         U_10015  C_1729417                     1                   8\n",
      "3       U_1001600   C_694149                     1                   2\n",
      "4       U_1001625   C_735164                     1                   8\n",
      "...           ...        ...                   ...                 ...\n",
      "488010   U_998479   C_694149                     1                   2\n",
      "488011   U_998604   C_934535                     5                 324\n",
      "488012   U_999111   C_760442                     1                 309\n",
      "488013   U_999328   C_694149                     2                  22\n",
      "488014   U_999821   C_881485                     1                   7\n",
      "\n",
      "[488015 rows x 4 columns]\n"
     ]
    }
   ],
   "source": [
    "# Tính tổng số chữ phản hồi của user trong phase 1\n",
    "word_count_phase1 = Phase1_cmt.groupby(['user_id', 'course_id'])['num_words_rep'].sum().reset_index(name='total_words_phase1')\n",
    "\n",
    "# Đếm số lượng phản hồi trong phase 1\n",
    "comment_count_phase1 = Phase1_cmt.groupby(['user_id', 'course_id']).size().reset_index(name='comment_count_phase1')\n",
    "\n",
    "result_phase1 = pd.merge(comment_count_phase1, word_count_phase1, on=['user_id', 'course_id'], how='outer')\n",
    "print(result_phase1)"
   ]
  },
  {
   "cell_type": "code",
   "execution_count": 36,
   "id": "a2e88288",
   "metadata": {
    "execution": {
     "iopub.execute_input": "2025-04-24T12:15:36.241068Z",
     "iopub.status.busy": "2025-04-24T12:15:36.240648Z",
     "iopub.status.idle": "2025-04-24T12:16:11.207016Z",
     "shell.execute_reply": "2025-04-24T12:16:11.205883Z"
    },
    "papermill": {
     "duration": 34.999523,
     "end_time": "2025-04-24T12:16:11.224449",
     "exception": false,
     "start_time": "2025-04-24T12:15:36.224926",
     "status": "completed"
    },
    "tags": []
   },
   "outputs": [
    {
     "name": "stdout",
     "output_type": "stream",
     "text": [
      "     user_id  course_id  entropy_time_comment_phase1\n",
      "0  U_1000902   C_697821                     0.000000\n",
      "1  U_1001314  C_1779421                     0.636514\n",
      "2    U_10015  C_1729417                     0.000000\n",
      "3  U_1001600   C_694149                     0.000000\n",
      "4  U_1001625   C_735164                     0.000000\n"
     ]
    }
   ],
   "source": [
    "# Bước 1: Sắp xếp dữ liệu theo user_id, course_id, và create_time\n",
    "Phase1_cmt = Phase1_cmt.sort_values(by=['user_id', 'course_id', 'create_time'])\n",
    "\n",
    "# Bước 2: Xác định khoảng thời gian (bins)\n",
    "def assign_time_bin(timestamp):\n",
    "    \"\"\"\n",
    "    Chia ngày thành 48 khoảng thời gian (mỗi khoảng 30 phút) và gán bin tương ứng.\n",
    "    \"\"\"\n",
    "    return (timestamp.hour * 60 + timestamp.minute) // 30\n",
    "\n",
    "Phase1_cmt['time_bin'] = Phase1_cmt['create_time'].apply(assign_time_bin)\n",
    "\n",
    "# Bước 3: Đếm số lượng comment trong mỗi khoảng thời gian\n",
    "time_bin_counts1 = Phase1_cmt.groupby(['user_id', 'course_id', 'time_bin']).size().reset_index(name='count')\n",
    "\n",
    "# Bước 4: Tính tổng số comment của mỗi user trong từng khóa học\n",
    "total_comments1 = Phase1_cmt.groupby(['user_id', 'course_id']).size().reset_index(name='total_count')\n",
    "\n",
    "# Gộp dữ liệu để tính xác suất\n",
    "time_bin_counts1 = time_bin_counts1.merge(total_comments1, on=['user_id', 'course_id'], how='left')\n",
    "\n",
    "# Bước 5: Tính xác suất xuất hiện của mỗi bin\n",
    "time_bin_counts1['probability'] = time_bin_counts1['count'] / time_bin_counts1['total_count']\n",
    "\n",
    "# Bước 6: Tính entropy theo công thức Shannon entropy\n",
    "def calculate_entropy(probabilities):\n",
    "    \"\"\"\n",
    "    Tính entropy theo công thức Shannon entropy.\n",
    "    Loại bỏ giá trị xác suất bằng 0 để tránh lỗi log(0).\n",
    "    \"\"\"\n",
    "    probabilities = probabilities[probabilities > 0]  # Loại bỏ giá trị 0\n",
    "    return -np.sum(probabilities * np.log(probabilities)) if len(probabilities) > 1 else 0\n",
    "\n",
    "entropy_values_phase1 = (\n",
    "    time_bin_counts1.groupby(['user_id', 'course_id'])['probability']\n",
    "    .apply(lambda x: calculate_entropy(x.values))\n",
    "    .reset_index(name='entropy_time_comment_phase1')\n",
    ")\n",
    "\n",
    "# Hiển thị kết quả\n",
    "print(entropy_values_phase1.head())"
   ]
  },
  {
   "cell_type": "code",
   "execution_count": 37,
   "id": "0294a110",
   "metadata": {
    "execution": {
     "iopub.execute_input": "2025-04-24T12:16:11.255804Z",
     "iopub.status.busy": "2025-04-24T12:16:11.255416Z",
     "iopub.status.idle": "2025-04-24T12:16:13.695952Z",
     "shell.execute_reply": "2025-04-24T12:16:13.694810Z"
    },
    "papermill": {
     "duration": 2.458208,
     "end_time": "2025-04-24T12:16:13.697761",
     "exception": false,
     "start_time": "2025-04-24T12:16:11.239553",
     "status": "completed"
    },
    "tags": []
   },
   "outputs": [
    {
     "name": "stderr",
     "output_type": "stream",
     "text": [
      "/usr/local/lib/python3.10/dist-packages/seaborn/_oldcore.py:1119: FutureWarning: use_inf_as_na option is deprecated and will be removed in a future version. Convert inf values to NaN before operating instead.\n",
      "  with pd.option_context('mode.use_inf_as_na', True):\n"
     ]
    },
    {
     "data": {
      "image/png": "[encoded data removed]",
      "text/plain": [
       "<Figure size 1000x600 with 1 Axes>"
      ]
     },
     "metadata": {},
     "output_type": "display_data"
    }
   ],
   "source": [
    "# Vẽ biểu đồ phân bố entropy\n",
    "plt.figure(figsize=(10, 6))\n",
    "sns.histplot(entropy_values_phase1[\"entropy_time_comment_phase1\"], bins=50, kde=True, color=\"royalblue\")\n",
    "\n",
    "# Định dạng biểu đồ\n",
    "plt.xlabel(\"Entropy\", fontsize=14)\n",
    "plt.ylabel(\"Số lượng user-course\", fontsize=14)\n",
    "plt.title(\"Phân bố Entropy của thời gian comment\", fontsize=16)\n",
    "plt.grid(axis=\"y\", linestyle=\"--\", alpha=0.7)\n",
    "\n",
    "# Hiển thị biểu đồ\n",
    "plt.show()"
   ]
  },
  {
   "cell_type": "code",
   "execution_count": 38,
   "id": "d701fdf2",
   "metadata": {
    "execution": {
     "iopub.execute_input": "2025-04-24T12:16:13.731267Z",
     "iopub.status.busy": "2025-04-24T12:16:13.730858Z",
     "iopub.status.idle": "2025-04-24T12:16:15.343138Z",
     "shell.execute_reply": "2025-04-24T12:16:15.341692Z"
    },
    "papermill": {
     "duration": 1.630768,
     "end_time": "2025-04-24T12:16:15.344917",
     "exception": false,
     "start_time": "2025-04-24T12:16:13.714149",
     "status": "completed"
    },
    "tags": []
   },
   "outputs": [
    {
     "name": "stdout",
     "output_type": "stream",
     "text": [
      "     user_id  course_id  comment_count_phase1  total_words_phase1  \\\n",
      "0  U_1000902   C_697821                     1                   2   \n",
      "1  U_1001314  C_1779421                     3                  43   \n",
      "2    U_10015  C_1729417                     1                   8   \n",
      "3  U_1001600   C_694149                     1                   2   \n",
      "4  U_1001625   C_735164                     1                   8   \n",
      "\n",
      "   entropy_time_comment_phase1  \n",
      "0                     0.000000  \n",
      "1                     0.636514  \n",
      "2                     0.000000  \n",
      "3                     0.000000  \n",
      "4                     0.000000  \n"
     ]
    }
   ],
   "source": [
    "Phase1_comment = result_phase1.merge(entropy_values_phase1, on=['user_id', 'course_id'], how='outer')\n",
    "\n",
    "# Nếu một số user-course không có entropy, điền giá trị mặc định là 0\n",
    "Phase1_comment['entropy_time_comment_phase1'] = Phase1_comment['entropy_time_comment_phase1'].fillna(0)\n",
    "\n",
    "print(Phase1_comment.head())"
   ]
  },
  {
   "cell_type": "markdown",
   "id": "017ed44d",
   "metadata": {
    "papermill": {
     "duration": 0.015655,
     "end_time": "2025-04-24T12:16:15.376956",
     "exception": false,
     "start_time": "2025-04-24T12:16:15.361301",
     "status": "completed"
    },
    "tags": []
   },
   "source": [
    "# Phase 2"
   ]
  },
  {
   "cell_type": "code",
   "execution_count": 39,
   "id": "3a2a8fd5",
   "metadata": {
    "execution": {
     "iopub.execute_input": "2025-04-24T12:16:15.410612Z",
     "iopub.status.busy": "2025-04-24T12:16:15.410198Z",
     "iopub.status.idle": "2025-04-24T12:16:16.091527Z",
     "shell.execute_reply": "2025-04-24T12:16:16.090403Z"
    },
    "papermill": {
     "duration": 0.700301,
     "end_time": "2025-04-24T12:16:16.093563",
     "exception": false,
     "start_time": "2025-04-24T12:16:15.393262",
     "status": "completed"
    },
    "tags": []
   },
   "outputs": [],
   "source": [
    "Phase2_cmt = comment[(comment['days_since_enroll'] > 14) & (comment['days_since_enroll'] <= 28)]"
   ]
  },
  {
   "cell_type": "code",
   "execution_count": 40,
   "id": "22a169d5",
   "metadata": {
    "execution": {
     "iopub.execute_input": "2025-04-24T12:16:16.127588Z",
     "iopub.status.busy": "2025-04-24T12:16:16.127233Z",
     "iopub.status.idle": "2025-04-24T12:16:16.476474Z",
     "shell.execute_reply": "2025-04-24T12:16:16.475367Z"
    },
    "papermill": {
     "duration": 0.368402,
     "end_time": "2025-04-24T12:16:16.478492",
     "exception": false,
     "start_time": "2025-04-24T12:16:16.110090",
     "status": "completed"
    },
    "tags": []
   },
   "outputs": [
    {
     "name": "stdout",
     "output_type": "stream",
     "text": [
      "<class 'pandas.core.frame.DataFrame'>\n",
      "Index: 1042023 entries, 121 to 6608567\n",
      "Data columns (total 8 columns):\n",
      " #   Column             Non-Null Count    Dtype         \n",
      "---  ------             --------------    -----         \n",
      " 0   comment_id         1042023 non-null  object        \n",
      " 1   user_id            1042023 non-null  object        \n",
      " 2   course_id          1042023 non-null  object        \n",
      " 3   text               1042023 non-null  object        \n",
      " 4   create_time        1042023 non-null  datetime64[ns]\n",
      " 5   enroll_time        1042023 non-null  datetime64[ns]\n",
      " 6   days_since_enroll  1042023 non-null  int64         \n",
      " 7   num_words_rep      1042023 non-null  int64         \n",
      "dtypes: datetime64[ns](2), int64(2), object(4)\n",
      "memory usage: 71.6+ MB\n"
     ]
    }
   ],
   "source": [
    "Phase2_cmt.info()"
   ]
  },
  {
   "cell_type": "code",
   "execution_count": 41,
   "id": "22e53c91",
   "metadata": {
    "execution": {
     "iopub.execute_input": "2025-04-24T12:16:16.512760Z",
     "iopub.status.busy": "2025-04-24T12:16:16.512434Z",
     "iopub.status.idle": "2025-04-24T12:16:18.971833Z",
     "shell.execute_reply": "2025-04-24T12:16:18.970427Z"
    },
    "papermill": {
     "duration": 2.478599,
     "end_time": "2025-04-24T12:16:18.973545",
     "exception": false,
     "start_time": "2025-04-24T12:16:16.494946",
     "status": "completed"
    },
    "tags": []
   },
   "outputs": [
    {
     "name": "stdout",
     "output_type": "stream",
     "text": [
      "           user_id  course_id  comment_count_phase2  total_words_phase2\n",
      "0        U_1001703   C_735164                     2                  39\n",
      "1        U_1002046   C_760442                     2                 196\n",
      "2        U_1003052  C_1750780                     2                  11\n",
      "3         U_100306   C_707083                     1                  11\n",
      "4       U_10030725   C_948141                     2                 326\n",
      "...            ...        ...                   ...                 ...\n",
      "191622   U_9969052   C_936971                    14                 251\n",
      "191623   U_9969593   C_936971                     2                   8\n",
      "191624   U_9969778   C_936971                    11                 129\n",
      "191625   U_9969822   C_936971                    12                  53\n",
      "191626    U_997054   C_760442                     2                 424\n",
      "\n",
      "[191627 rows x 4 columns]\n"
     ]
    }
   ],
   "source": [
    "# Tính tổng số chữ phản hồi của user trong phase 2\n",
    "word_count_phase2 = Phase2_cmt.groupby(['user_id', 'course_id'])['num_words_rep'].sum().reset_index(name='total_words_phase2')\n",
    "\n",
    "# Đếm số lượng phản hồi trong phase 2\n",
    "comment_count_phase2 = Phase2_cmt.groupby(['user_id', 'course_id']).size().reset_index(name='comment_count_phase2')\n",
    "\n",
    "result_phase2 = pd.merge(comment_count_phase2, word_count_phase2, on=['user_id', 'course_id'], how='outer')\n",
    "print(result_phase2)"
   ]
  },
  {
   "cell_type": "code",
   "execution_count": 42,
   "id": "d82c91bf",
   "metadata": {
    "execution": {
     "iopub.execute_input": "2025-04-24T12:16:19.007369Z",
     "iopub.status.busy": "2025-04-24T12:16:19.007002Z",
     "iopub.status.idle": "2025-04-24T12:16:32.416648Z",
     "shell.execute_reply": "2025-04-24T12:16:32.415202Z"
    },
    "papermill": {
     "duration": 13.428744,
     "end_time": "2025-04-24T12:16:32.418309",
     "exception": false,
     "start_time": "2025-04-24T12:16:18.989565",
     "status": "completed"
    },
    "tags": []
   },
   "outputs": [
    {
     "name": "stdout",
     "output_type": "stream",
     "text": [
      "      user_id  course_id  entropy_time_comment_phase2\n",
      "0   U_1001703   C_735164                     0.000000\n",
      "1   U_1002046   C_760442                     0.000000\n",
      "2   U_1003052  C_1750780                     0.693147\n",
      "3    U_100306   C_707083                     0.000000\n",
      "4  U_10030725   C_948141                     0.693147\n"
     ]
    }
   ],
   "source": [
    "# Bước 1: Sắp xếp dữ liệu theo user_id, course_id, và create_time\n",
    "Phase2_cmt = Phase2_cmt.sort_values(by=['user_id', 'course_id', 'create_time'])\n",
    "\n",
    "# Bước 2: Xác định khoảng thời gian (bins)\n",
    "def assign_time_bin(timestamp):\n",
    "    \"\"\"\n",
    "    Chia ngày thành 48 khoảng thời gian (mỗi khoảng 30 phút) và gán bin tương ứng.\n",
    "    \"\"\"\n",
    "    return (timestamp.hour * 60 + timestamp.minute) // 30\n",
    "\n",
    "Phase2_cmt['time_bin'] = Phase2_cmt['create_time'].apply(assign_time_bin)\n",
    "\n",
    "# Bước 3: Đếm số lượng comment trong mỗi khoảng thời gian\n",
    "time_bin_counts2 = Phase2_cmt.groupby(['user_id', 'course_id', 'time_bin']).size().reset_index(name='count')\n",
    "\n",
    "# Bước 4: Tính tổng số comment của mỗi user trong từng khóa học\n",
    "total_comments2 = Phase2_cmt.groupby(['user_id', 'course_id']).size().reset_index(name='total_count')\n",
    "\n",
    "# Gộp dữ liệu để tính xác suất\n",
    "time_bin_counts2 = time_bin_counts2.merge(total_comments2, on=['user_id', 'course_id'], how='left')\n",
    "\n",
    "# Bước 5: Tính xác suất xuất hiện của mỗi bin\n",
    "time_bin_counts2['probability'] = time_bin_counts2['count'] / time_bin_counts2['total_count']\n",
    "\n",
    "# Bước 6: Tính entropy theo công thức Shannon entropy\n",
    "def calculate_entropy(probabilities):\n",
    "    \"\"\"\n",
    "    Tính entropy theo công thức Shannon entropy.\n",
    "    Loại bỏ giá trị xác suất bằng 0 để tránh lỗi log(0).\n",
    "    \"\"\"\n",
    "    probabilities = probabilities[probabilities > 0]  # Loại bỏ giá trị 0\n",
    "    return -np.sum(probabilities * np.log(probabilities)) if len(probabilities) > 1 else 0\n",
    "\n",
    "entropy_values_phase2 = (\n",
    "    time_bin_counts2.groupby(['user_id', 'course_id'])['probability']\n",
    "    .apply(lambda x: calculate_entropy(x.values))\n",
    "    .reset_index(name='entropy_time_comment_phase2')\n",
    ")\n",
    "\n",
    "# Hiển thị kết quả\n",
    "print(entropy_values_phase2.head())"
   ]
  },
  {
   "cell_type": "code",
   "execution_count": 43,
   "id": "bd5610fb",
   "metadata": {
    "execution": {
     "iopub.execute_input": "2025-04-24T12:16:32.451523Z",
     "iopub.status.busy": "2025-04-24T12:16:32.451178Z",
     "iopub.status.idle": "2025-04-24T12:16:33.624153Z",
     "shell.execute_reply": "2025-04-24T12:16:33.622944Z"
    },
    "papermill": {
     "duration": 1.191636,
     "end_time": "2025-04-24T12:16:33.626042",
     "exception": false,
     "start_time": "2025-04-24T12:16:32.434406",
     "status": "completed"
    },
    "tags": []
   },
   "outputs": [
    {
     "name": "stderr",
     "output_type": "stream",
     "text": [
      "/usr/local/lib/python3.10/dist-packages/seaborn/_oldcore.py:1119: FutureWarning: use_inf_as_na option is deprecated and will be removed in a future version. Convert inf values to NaN before operating instead.\n",
      "  with pd.option_context('mode.use_inf_as_na', True):\n"
     ]
    },
    {
     "data": {
      "image/png": "[encoded data removed]",
      "text/plain": [
       "<Figure size 1000x600 with 1 Axes>"
      ]
     },
     "metadata": {},
     "output_type": "display_data"
    }
   ],
   "source": [
    "# Vẽ biểu đồ phân bố entropy\n",
    "plt.figure(figsize=(10, 6))\n",
    "sns.histplot(entropy_values_phase2[\"entropy_time_comment_phase2\"], bins=50, kde=True, color=\"royalblue\")\n",
    "\n",
    "# Định dạng biểu đồ\n",
    "plt.xlabel(\"Entropy\", fontsize=14)\n",
    "plt.ylabel(\"Số lượng user-course\", fontsize=14)\n",
    "plt.title(\"Phân bố Entropy của thời gian comment\", fontsize=16)\n",
    "plt.grid(axis=\"y\", linestyle=\"--\", alpha=0.7)\n",
    "\n",
    "# Hiển thị biểu đồ\n",
    "plt.show()"
   ]
  },
  {
   "cell_type": "code",
   "execution_count": 44,
   "id": "8e0559a9",
   "metadata": {
    "execution": {
     "iopub.execute_input": "2025-04-24T12:16:33.664708Z",
     "iopub.status.busy": "2025-04-24T12:16:33.663827Z",
     "iopub.status.idle": "2025-04-24T12:16:34.338075Z",
     "shell.execute_reply": "2025-04-24T12:16:34.336746Z"
    },
    "papermill": {
     "duration": 0.694297,
     "end_time": "2025-04-24T12:16:34.339691",
     "exception": false,
     "start_time": "2025-04-24T12:16:33.645394",
     "status": "completed"
    },
    "tags": []
   },
   "outputs": [
    {
     "name": "stdout",
     "output_type": "stream",
     "text": [
      "      user_id  course_id  comment_count_phase2  total_words_phase2  \\\n",
      "0   U_1001703   C_735164                     2                  39   \n",
      "1   U_1002046   C_760442                     2                 196   \n",
      "2   U_1003052  C_1750780                     2                  11   \n",
      "3    U_100306   C_707083                     1                  11   \n",
      "4  U_10030725   C_948141                     2                 326   \n",
      "\n",
      "   entropy_time_comment_phase2  \n",
      "0                     0.000000  \n",
      "1                     0.000000  \n",
      "2                     0.693147  \n",
      "3                     0.000000  \n",
      "4                     0.693147  \n"
     ]
    }
   ],
   "source": [
    "Phase2_comment = result_phase2.merge(entropy_values_phase2, on=['user_id', 'course_id'], how='outer')\n",
    "\n",
    "# Nếu một số user-course không có entropy, điền giá trị mặc định là 0\n",
    "Phase2_comment['entropy_time_comment_phase2'] = Phase2_comment['entropy_time_comment_phase2'].fillna(0)\n",
    "\n",
    "print(Phase2_comment.head())"
   ]
  },
  {
   "cell_type": "markdown",
   "id": "2177c607",
   "metadata": {
    "papermill": {
     "duration": 0.01671,
     "end_time": "2025-04-24T12:16:34.373907",
     "exception": false,
     "start_time": "2025-04-24T12:16:34.357197",
     "status": "completed"
    },
    "tags": []
   },
   "source": [
    "# Phase 3"
   ]
  },
  {
   "cell_type": "code",
   "execution_count": 45,
   "id": "0d56dc7c",
   "metadata": {
    "execution": {
     "iopub.execute_input": "2025-04-24T12:16:34.409456Z",
     "iopub.status.busy": "2025-04-24T12:16:34.409107Z",
     "iopub.status.idle": "2025-04-24T12:16:34.918391Z",
     "shell.execute_reply": "2025-04-24T12:16:34.917019Z"
    },
    "papermill": {
     "duration": 0.529146,
     "end_time": "2025-04-24T12:16:34.920156",
     "exception": false,
     "start_time": "2025-04-24T12:16:34.391010",
     "status": "completed"
    },
    "tags": []
   },
   "outputs": [
    {
     "name": "stdout",
     "output_type": "stream",
     "text": [
      "<class 'pandas.core.frame.DataFrame'>\n",
      "Index: 751012 entries, 7221 to 6608549\n",
      "Data columns (total 8 columns):\n",
      " #   Column             Non-Null Count   Dtype         \n",
      "---  ------             --------------   -----         \n",
      " 0   comment_id         751012 non-null  object        \n",
      " 1   user_id            751012 non-null  object        \n",
      " 2   course_id          751012 non-null  object        \n",
      " 3   text               751012 non-null  object        \n",
      " 4   create_time        751012 non-null  datetime64[ns]\n",
      " 5   enroll_time        751012 non-null  datetime64[ns]\n",
      " 6   days_since_enroll  751012 non-null  int64         \n",
      " 7   num_words_rep      751012 non-null  int64         \n",
      "dtypes: datetime64[ns](2), int64(2), object(4)\n",
      "memory usage: 51.6+ MB\n"
     ]
    }
   ],
   "source": [
    "Phase3_cmt = comment[(comment['days_since_enroll'] > 28) & (comment['days_since_enroll'] <= 42)]\n",
    "\n",
    "Phase3_cmt.info()"
   ]
  },
  {
   "cell_type": "code",
   "execution_count": 46,
   "id": "7da0d4d2",
   "metadata": {
    "execution": {
     "iopub.execute_input": "2025-04-24T12:16:34.956871Z",
     "iopub.status.busy": "2025-04-24T12:16:34.956526Z",
     "iopub.status.idle": "2025-04-24T12:16:36.615295Z",
     "shell.execute_reply": "2025-04-24T12:16:36.614116Z"
    },
    "papermill": {
     "duration": 1.679044,
     "end_time": "2025-04-24T12:16:36.617206",
     "exception": false,
     "start_time": "2025-04-24T12:16:34.938162",
     "status": "completed"
    },
    "tags": []
   },
   "outputs": [
    {
     "name": "stdout",
     "output_type": "stream",
     "text": [
      "          user_id  course_id  comment_count_phase3  total_words_phase3\n",
      "0       U_1001883   C_682280                     4                  88\n",
      "1       U_1002046   C_760442                     1                 146\n",
      "2       U_1002784  C_1756056                     3                 119\n",
      "3       U_1003052  C_1750780                     2                  84\n",
      "4        U_100306   C_696972                     1                   4\n",
      "...           ...        ...                   ...                 ...\n",
      "136512   U_997054   C_735164                     4                 244\n",
      "136513   U_997542  C_2066096                     2                 972\n",
      "136514    U_99772  C_1903985                     3                 320\n",
      "136515    U_99772   C_697038                     2                  80\n",
      "136516   U_999111   C_760442                     1                 366\n",
      "\n",
      "[136517 rows x 4 columns]\n"
     ]
    }
   ],
   "source": [
    "# Tính tổng số chữ phản hồi của user trong phase 3\n",
    "word_count_phase3 = Phase3_cmt.groupby(['user_id', 'course_id'])['num_words_rep'].sum().reset_index(name='total_words_phase3')\n",
    "\n",
    "# Đếm số lượng phản hồi trong phase 3\n",
    "comment_count_phase3 = Phase3_cmt.groupby(['user_id', 'course_id']).size().reset_index(name='comment_count_phase3')\n",
    "\n",
    "result_phase3 = pd.merge(comment_count_phase3, word_count_phase3, on=['user_id', 'course_id'], how='outer')\n",
    "print(result_phase3)"
   ]
  },
  {
   "cell_type": "code",
   "execution_count": 47,
   "id": "ed572ccf",
   "metadata": {
    "execution": {
     "iopub.execute_input": "2025-04-24T12:16:36.654916Z",
     "iopub.status.busy": "2025-04-24T12:16:36.654586Z",
     "iopub.status.idle": "2025-04-24T12:16:45.960677Z",
     "shell.execute_reply": "2025-04-24T12:16:45.959509Z"
    },
    "papermill": {
     "duration": 9.327838,
     "end_time": "2025-04-24T12:16:45.962528",
     "exception": false,
     "start_time": "2025-04-24T12:16:36.634690",
     "status": "completed"
    },
    "tags": []
   },
   "outputs": [
    {
     "name": "stdout",
     "output_type": "stream",
     "text": [
      "     user_id  course_id  entropy_time_comment_phase3\n",
      "0  U_1001883   C_682280                     0.562335\n",
      "1  U_1002046   C_760442                     0.000000\n",
      "2  U_1002784  C_1756056                     1.098612\n",
      "3  U_1003052  C_1750780                     0.000000\n",
      "4   U_100306   C_696972                     0.000000\n"
     ]
    }
   ],
   "source": [
    "# Bước 1: Sắp xếp dữ liệu theo user_id, course_id, và create_time\n",
    "Phase3_cmt = Phase3_cmt.sort_values(by=['user_id', 'course_id', 'create_time'])\n",
    "\n",
    "# Bước 2: Xác định khoảng thời gian (bins)\n",
    "Phase3_cmt['time_bin'] = Phase3_cmt['create_time'].apply(assign_time_bin)\n",
    "\n",
    "# Bước 3: Đếm số lượng comment trong mỗi khoảng thời gian\n",
    "time_bin_counts3 = Phase3_cmt.groupby(['user_id', 'course_id', 'time_bin']).size().reset_index(name='count')\n",
    "\n",
    "# Bước 4: Tính tổng số comment của mỗi user trong từng khóa học\n",
    "total_comments3 = Phase3_cmt.groupby(['user_id', 'course_id']).size().reset_index(name='total_count')\n",
    "\n",
    "# Gộp dữ liệu để tính xác suất\n",
    "time_bin_counts3 = time_bin_counts3.merge(total_comments3, on=['user_id', 'course_id'], how='left')\n",
    "\n",
    "# Bước 5: Tính xác suất xuất hiện của mỗi bin\n",
    "time_bin_counts3['probability'] = time_bin_counts3['count'] / time_bin_counts3['total_count']\n",
    "\n",
    "# Bước 6: Tính entropy theo công thức Shannon entropy\n",
    "entropy_values_phase3 = (\n",
    "    time_bin_counts3.groupby(['user_id', 'course_id'])['probability']\n",
    "    .apply(lambda x: calculate_entropy(x.values))\n",
    "    .reset_index(name='entropy_time_comment_phase3')\n",
    ")\n",
    "\n",
    "# Hiển thị kết quả\n",
    "print(entropy_values_phase3.head())"
   ]
  },
  {
   "cell_type": "code",
   "execution_count": 48,
   "id": "67a6817b",
   "metadata": {
    "execution": {
     "iopub.execute_input": "2025-04-24T12:16:45.999013Z",
     "iopub.status.busy": "2025-04-24T12:16:45.998601Z",
     "iopub.status.idle": "2025-04-24T12:16:46.920921Z",
     "shell.execute_reply": "2025-04-24T12:16:46.919715Z"
    },
    "papermill": {
     "duration": 0.942517,
     "end_time": "2025-04-24T12:16:46.922775",
     "exception": false,
     "start_time": "2025-04-24T12:16:45.980258",
     "status": "completed"
    },
    "tags": []
   },
   "outputs": [
    {
     "name": "stderr",
     "output_type": "stream",
     "text": [
      "/usr/local/lib/python3.10/dist-packages/seaborn/_oldcore.py:1119: FutureWarning: use_inf_as_na option is deprecated and will be removed in a future version. Convert inf values to NaN before operating instead.\n",
      "  with pd.option_context('mode.use_inf_as_na', True):\n"
     ]
    },
    {
     "data": {
      "image/png": "[encoded data removed]",
      "text/plain": [
       "<Figure size 1000x600 with 1 Axes>"
      ]
     },
     "metadata": {},
     "output_type": "display_data"
    }
   ],
   "source": [
    "# Vẽ biểu đồ phân bố entropy\n",
    "plt.figure(figsize=(10, 6))\n",
    "sns.histplot(entropy_values_phase3[\"entropy_time_comment_phase3\"], bins=50, kde=True, color=\"royalblue\")\n",
    "\n",
    "# Định dạng biểu đồ\n",
    "plt.xlabel(\"Entropy\", fontsize=14)\n",
    "plt.ylabel(\"Số lượng user-course\", fontsize=14)\n",
    "plt.title(\"Phân bố Entropy của thời gian comment\", fontsize=16)\n",
    "plt.grid(axis=\"y\", linestyle=\"--\", alpha=0.7)\n",
    "\n",
    "# Hiển thị biểu đồ\n",
    "plt.show()"
   ]
  },
  {
   "cell_type": "code",
   "execution_count": 49,
   "id": "fe221bf1",
   "metadata": {
    "execution": {
     "iopub.execute_input": "2025-04-24T12:16:46.961887Z",
     "iopub.status.busy": "2025-04-24T12:16:46.961517Z",
     "iopub.status.idle": "2025-04-24T12:16:47.392910Z",
     "shell.execute_reply": "2025-04-24T12:16:47.391700Z"
    },
    "papermill": {
     "duration": 0.452791,
     "end_time": "2025-04-24T12:16:47.394715",
     "exception": false,
     "start_time": "2025-04-24T12:16:46.941924",
     "status": "completed"
    },
    "tags": []
   },
   "outputs": [
    {
     "name": "stdout",
     "output_type": "stream",
     "text": [
      "     user_id  course_id  comment_count_phase3  total_words_phase3  \\\n",
      "0  U_1001883   C_682280                     4                  88   \n",
      "1  U_1002046   C_760442                     1                 146   \n",
      "2  U_1002784  C_1756056                     3                 119   \n",
      "3  U_1003052  C_1750780                     2                  84   \n",
      "4   U_100306   C_696972                     1                   4   \n",
      "\n",
      "   entropy_time_comment_phase3  \n",
      "0                     0.562335  \n",
      "1                     0.000000  \n",
      "2                     1.098612  \n",
      "3                     0.000000  \n",
      "4                     0.000000  \n"
     ]
    }
   ],
   "source": [
    "Phase3_comment = result_phase3.merge(entropy_values_phase3, on=['user_id', 'course_id'], how='outer')\n",
    "\n",
    "# Nếu một số user-course không có entropy, điền giá trị mặc định là 0\n",
    "Phase3_comment['entropy_time_comment_phase3'] = Phase3_comment['entropy_time_comment_phase3'].fillna(0)\n",
    "\n",
    "print(Phase3_comment.head())"
   ]
  },
  {
   "cell_type": "markdown",
   "id": "b709e7d4",
   "metadata": {
    "papermill": {
     "duration": 0.018339,
     "end_time": "2025-04-24T12:16:47.431966",
     "exception": false,
     "start_time": "2025-04-24T12:16:47.413627",
     "status": "completed"
    },
    "tags": []
   },
   "source": [
    "# Phase 4"
   ]
  },
  {
   "cell_type": "code",
   "execution_count": 50,
   "id": "42c652d7",
   "metadata": {
    "execution": {
     "iopub.execute_input": "2025-04-24T12:16:47.470751Z",
     "iopub.status.busy": "2025-04-24T12:16:47.470409Z",
     "iopub.status.idle": "2025-04-24T12:16:47.857471Z",
     "shell.execute_reply": "2025-04-24T12:16:47.856255Z"
    },
    "papermill": {
     "duration": 0.408276,
     "end_time": "2025-04-24T12:16:47.859157",
     "exception": false,
     "start_time": "2025-04-24T12:16:47.450881",
     "status": "completed"
    },
    "tags": []
   },
   "outputs": [
    {
     "name": "stdout",
     "output_type": "stream",
     "text": [
      "<class 'pandas.core.frame.DataFrame'>\n",
      "Index: 498160 entries, 16500 to 6608555\n",
      "Data columns (total 8 columns):\n",
      " #   Column             Non-Null Count   Dtype         \n",
      "---  ------             --------------   -----         \n",
      " 0   comment_id         498160 non-null  object        \n",
      " 1   user_id            498160 non-null  object        \n",
      " 2   course_id          498160 non-null  object        \n",
      " 3   text               498160 non-null  object        \n",
      " 4   create_time        498160 non-null  datetime64[ns]\n",
      " 5   enroll_time        498160 non-null  datetime64[ns]\n",
      " 6   days_since_enroll  498160 non-null  int64         \n",
      " 7   num_words_rep      498160 non-null  int64         \n",
      "dtypes: datetime64[ns](2), int64(2), object(4)\n",
      "memory usage: 34.2+ MB\n"
     ]
    }
   ],
   "source": [
    "Phase4_cmt = comment[(comment['days_since_enroll'] > 42) & (comment['days_since_enroll'] <= 56)]\n",
    "\n",
    "Phase4_cmt.info()"
   ]
  },
  {
   "cell_type": "code",
   "execution_count": 51,
   "id": "a7883f69",
   "metadata": {
    "execution": {
     "iopub.execute_input": "2025-04-24T12:16:47.898149Z",
     "iopub.status.busy": "2025-04-24T12:16:47.897728Z",
     "iopub.status.idle": "2025-04-24T12:16:55.221233Z",
     "shell.execute_reply": "2025-04-24T12:16:55.220026Z"
    },
    "papermill": {
     "duration": 7.345157,
     "end_time": "2025-04-24T12:16:55.223037",
     "exception": false,
     "start_time": "2025-04-24T12:16:47.877880",
     "status": "completed"
    },
    "tags": []
   },
   "outputs": [
    {
     "name": "stdout",
     "output_type": "stream",
     "text": [
      "          user_id  course_id  comment_count_phase4  total_words_phase4\n",
      "0       U_1001314  C_1779421                     2                 192\n",
      "1       U_1002046   C_735164                     3                  56\n",
      "2        U_100306   C_696972                     2                   3\n",
      "3      U_10031007   C_936971                     3                  29\n",
      "4      U_10031670   C_911162                     1                  46\n",
      "...           ...        ...                   ...                 ...\n",
      "92558   U_9968551   C_697307                     2                  79\n",
      "92559   U_9968880   C_936971                     2                  22\n",
      "92560   U_9969645   C_881314                     1                 339\n",
      "92561    U_997012   C_694149                     1                  17\n",
      "92562    U_999111   C_735164                     1                   5\n",
      "\n",
      "[92563 rows x 4 columns]\n",
      "      user_id  course_id  entropy_time_comment_phase4\n",
      "0   U_1001314  C_1779421                     0.000000\n",
      "1   U_1002046   C_735164                     0.000000\n",
      "2    U_100306   C_696972                     0.693147\n",
      "3  U_10031007   C_936971                     0.000000\n",
      "4  U_10031670   C_911162                     0.000000\n"
     ]
    }
   ],
   "source": [
    "# Tính tổng số chữ phản hồi của user trong phase 4\n",
    "word_count_phase4 = Phase4_cmt.groupby(['user_id', 'course_id'])['num_words_rep'].sum().reset_index(name='total_words_phase4')\n",
    "\n",
    "# Đếm số lượng phản hồi trong phase 4\n",
    "comment_count_phase4 = Phase4_cmt.groupby(['user_id', 'course_id']).size().reset_index(name='comment_count_phase4')\n",
    "\n",
    "result_phase4 = pd.merge(comment_count_phase4, word_count_phase4, on=['user_id', 'course_id'], how='outer')\n",
    "print(result_phase4)\n",
    "\n",
    "# Bước 1: Sắp xếp dữ liệu theo user_id, course_id, và create_time\n",
    "Phase4_cmt = Phase4_cmt.sort_values(by=['user_id', 'course_id', 'create_time'])\n",
    "\n",
    "# Bước 2: Xác định khoảng thời gian (bins)\n",
    "Phase4_cmt['time_bin'] = Phase4_cmt['create_time'].apply(assign_time_bin)\n",
    "\n",
    "# Bước 3: Đếm số lượng comment trong mỗi khoảng thời gian\n",
    "time_bin_counts4 = Phase4_cmt.groupby(['user_id', 'course_id', 'time_bin']).size().reset_index(name='count')\n",
    "\n",
    "# Bước 4: Tính tổng số comment của mỗi user trong từng khóa học\n",
    "total_comments4 = Phase4_cmt.groupby(['user_id', 'course_id']).size().reset_index(name='total_count')\n",
    "\n",
    "# Gộp dữ liệu để tính xác suất\n",
    "time_bin_counts4 = time_bin_counts4.merge(total_comments4, on=['user_id', 'course_id'], how='left')\n",
    "\n",
    "# Bước 5: Tính xác suất xuất hiện của mỗi bin\n",
    "time_bin_counts4['probability'] = time_bin_counts4['count'] / time_bin_counts4['total_count']\n",
    "\n",
    "# Bước 6: Tính entropy theo công thức Shannon entropy\n",
    "entropy_values_phase4 = (\n",
    "    time_bin_counts4.groupby(['user_id', 'course_id'])['probability']\n",
    "    .apply(lambda x: calculate_entropy(x.values))\n",
    "    .reset_index(name='entropy_time_comment_phase4')\n",
    ")\n",
    "\n",
    "# Hiển thị kết quả\n",
    "print(entropy_values_phase4.head())"
   ]
  },
  {
   "cell_type": "code",
   "execution_count": 52,
   "id": "b1837333",
   "metadata": {
    "execution": {
     "iopub.execute_input": "2025-04-24T12:16:55.262726Z",
     "iopub.status.busy": "2025-04-24T12:16:55.262360Z",
     "iopub.status.idle": "2025-04-24T12:16:55.955604Z",
     "shell.execute_reply": "2025-04-24T12:16:55.954389Z"
    },
    "papermill": {
     "duration": 0.715172,
     "end_time": "2025-04-24T12:16:55.957537",
     "exception": false,
     "start_time": "2025-04-24T12:16:55.242365",
     "status": "completed"
    },
    "tags": []
   },
   "outputs": [
    {
     "name": "stderr",
     "output_type": "stream",
     "text": [
      "/usr/local/lib/python3.10/dist-packages/seaborn/_oldcore.py:1119: FutureWarning: use_inf_as_na option is deprecated and will be removed in a future version. Convert inf values to NaN before operating instead.\n",
      "  with pd.option_context('mode.use_inf_as_na', True):\n"
     ]
    },
    {
     "data": {
      "image/png": "[encoded data removed]",
      "text/plain": [
       "<Figure size 1000x600 with 1 Axes>"
      ]
     },
     "metadata": {},
     "output_type": "display_data"
    }
   ],
   "source": [
    "# Vẽ biểu đồ phân bố entropy\n",
    "plt.figure(figsize=(10, 6))\n",
    "sns.histplot(entropy_values_phase4[\"entropy_time_comment_phase4\"], bins=50, kde=True, color=\"royalblue\")\n",
    "\n",
    "# Định dạng biểu đồ\n",
    "plt.xlabel(\"Entropy\", fontsize=14)\n",
    "plt.ylabel(\"Số lượng user-course\", fontsize=14)\n",
    "plt.title(\"Phân bố Entropy của thời gian comment\", fontsize=16)\n",
    "plt.grid(axis=\"y\", linestyle=\"--\", alpha=0.7)\n",
    "\n",
    "# Hiển thị biểu đồ\n",
    "plt.show()"
   ]
  },
  {
   "cell_type": "code",
   "execution_count": 53,
   "id": "eae63204",
   "metadata": {
    "execution": {
     "iopub.execute_input": "2025-04-24T12:16:55.998700Z",
     "iopub.status.busy": "2025-04-24T12:16:55.998352Z",
     "iopub.status.idle": "2025-04-24T12:16:56.325892Z",
     "shell.execute_reply": "2025-04-24T12:16:56.324565Z"
    },
    "papermill": {
     "duration": 0.349974,
     "end_time": "2025-04-24T12:16:56.327560",
     "exception": false,
     "start_time": "2025-04-24T12:16:55.977586",
     "status": "completed"
    },
    "tags": []
   },
   "outputs": [
    {
     "name": "stdout",
     "output_type": "stream",
     "text": [
      "      user_id  course_id  comment_count_phase4  total_words_phase4  \\\n",
      "0   U_1001314  C_1779421                     2                 192   \n",
      "1   U_1002046   C_735164                     3                  56   \n",
      "2    U_100306   C_696972                     2                   3   \n",
      "3  U_10031007   C_936971                     3                  29   \n",
      "4  U_10031670   C_911162                     1                  46   \n",
      "\n",
      "   entropy_time_comment_phase4  \n",
      "0                     0.000000  \n",
      "1                     0.000000  \n",
      "2                     0.693147  \n",
      "3                     0.000000  \n",
      "4                     0.000000  \n"
     ]
    }
   ],
   "source": [
    "Phase4_comment = result_phase4.merge(entropy_values_phase4, on=['user_id', 'course_id'], how='outer')\n",
    "\n",
    "# Nếu một số user-course không có entropy, điền giá trị mặc định là 0\n",
    "Phase4_comment['entropy_time_comment_phase4'] = Phase4_comment['entropy_time_comment_phase4'].fillna(0)\n",
    "\n",
    "print(Phase4_comment.head())"
   ]
  },
  {
   "cell_type": "code",
   "execution_count": 54,
   "id": "bedf2a10",
   "metadata": {
    "execution": {
     "iopub.execute_input": "2025-04-24T12:16:56.368609Z",
     "iopub.status.busy": "2025-04-24T12:16:56.368212Z",
     "iopub.status.idle": "2025-04-24T12:17:05.542347Z",
     "shell.execute_reply": "2025-04-24T12:17:05.540944Z"
    },
    "papermill": {
     "duration": 9.196742,
     "end_time": "2025-04-24T12:17:05.544127",
     "exception": false,
     "start_time": "2025-04-24T12:16:56.347385",
     "status": "completed"
    },
    "tags": []
   },
   "outputs": [
    {
     "name": "stdout",
     "output_type": "stream",
     "text": [
      "<class 'pandas.core.frame.DataFrame'>\n",
      "RangeIndex: 646883 entries, 0 to 646882\n",
      "Data columns (total 14 columns):\n",
      " #   Column                       Non-Null Count   Dtype  \n",
      "---  ------                       --------------   -----  \n",
      " 0   user_id                      646883 non-null  object \n",
      " 1   course_id                    646883 non-null  object \n",
      " 2   comment_count_phase1         488015 non-null  float64\n",
      " 3   total_words_phase1           488015 non-null  float64\n",
      " 4   entropy_time_comment_phase1  488015 non-null  float64\n",
      " 5   comment_count_phase2         191627 non-null  float64\n",
      " 6   total_words_phase2           191627 non-null  float64\n",
      " 7   entropy_time_comment_phase2  191627 non-null  float64\n",
      " 8   comment_count_phase3         136517 non-null  float64\n",
      " 9   total_words_phase3           136517 non-null  float64\n",
      " 10  entropy_time_comment_phase3  136517 non-null  float64\n",
      " 11  comment_count_phase4         92563 non-null   float64\n",
      " 12  total_words_phase4           92563 non-null   float64\n",
      " 13  entropy_time_comment_phase4  92563 non-null   float64\n",
      "dtypes: float64(12), object(2)\n",
      "memory usage: 69.1+ MB\n"
     ]
    }
   ],
   "source": [
    "# Gộp dữ liệu của các phase lại\n",
    "Phase2 = Phase2_comment.merge(Phase1_comment, on=['user_id', 'course_id'], how='outer')\n",
    "\n",
    "Phase3 = Phase3_comment.merge(Phase2, on=['user_id', 'course_id'], how='outer')\n",
    "\n",
    "all_phases_comment = Phase4_comment.merge(Phase3, on=['user_id', 'course_id'], how='outer')\n",
    "\n",
    "new_column_order = [\n",
    "    'user_id', \n",
    "    'course_id', \n",
    "    'comment_count_phase1', \n",
    "    'total_words_phase1', \n",
    "    'entropy_time_comment_phase1', \n",
    "    'comment_count_phase2', \n",
    "    'total_words_phase2', \n",
    "    'entropy_time_comment_phase2', \n",
    "    'comment_count_phase3', \n",
    "    'total_words_phase3', \n",
    "    'entropy_time_comment_phase3', \n",
    "    'comment_count_phase4', \n",
    "    'total_words_phase4', \n",
    "    'entropy_time_comment_phase4'\n",
    "]\n",
    "\n",
    "# Sắp xếp lại thứ tự cột trong DataFrame\n",
    "all_phases_comment = all_phases_comment[new_column_order]\n",
    "\n",
    "all_phases_comment.info()"
   ]
  },
  {
   "cell_type": "code",
   "execution_count": 55,
   "id": "51292b8f",
   "metadata": {
    "execution": {
     "iopub.execute_input": "2025-04-24T12:17:05.585202Z",
     "iopub.status.busy": "2025-04-24T12:17:05.584768Z",
     "iopub.status.idle": "2025-04-24T12:17:05.611596Z",
     "shell.execute_reply": "2025-04-24T12:17:05.610422Z"
    },
    "papermill": {
     "duration": 0.049112,
     "end_time": "2025-04-24T12:17:05.613206",
     "exception": false,
     "start_time": "2025-04-24T12:17:05.564094",
     "status": "completed"
    },
    "tags": []
   },
   "outputs": [
    {
     "name": "stderr",
     "output_type": "stream",
     "text": [
      "/usr/local/lib/python3.10/dist-packages/pandas/io/formats/format.py:1458: RuntimeWarning: invalid value encountered in greater\n",
      "  has_large_values = (abs_vals > 1e6).any()\n",
      "/usr/local/lib/python3.10/dist-packages/pandas/io/formats/format.py:1459: RuntimeWarning: invalid value encountered in less\n",
      "  has_small_values = ((abs_vals < 10 ** (-self.digits)) & (abs_vals > 0)).any()\n",
      "/usr/local/lib/python3.10/dist-packages/pandas/io/formats/format.py:1459: RuntimeWarning: invalid value encountered in greater\n",
      "  has_small_values = ((abs_vals < 10 ** (-self.digits)) & (abs_vals > 0)).any()\n"
     ]
    },
    {
     "data": {
      "text/html": [
       "<div>\n",
       "<style scoped>\n",
       "    .dataframe tbody tr th:only-of-type {\n",
       "        vertical-align: middle;\n",
       "    }\n",
       "\n",
       "    .dataframe tbody tr th {\n",
       "        vertical-align: top;\n",
       "    }\n",
       "\n",
       "    .dataframe thead th {\n",
       "        text-align: right;\n",
       "    }\n",
       "</style>\n",
       "<table border=\"1\" class=\"dataframe\">\n",
       "  <thead>\n",
       "    <tr style=\"text-align: right;\">\n",
       "      <th></th>\n",
       "      <th>user_id</th>\n",
       "      <th>course_id</th>\n",
       "      <th>comment_count_phase1</th>\n",
       "      <th>total_words_phase1</th>\n",
       "      <th>entropy_time_comment_phase1</th>\n",
       "      <th>comment_count_phase2</th>\n",
       "      <th>total_words_phase2</th>\n",
       "      <th>entropy_time_comment_phase2</th>\n",
       "      <th>comment_count_phase3</th>\n",
       "      <th>total_words_phase3</th>\n",
       "      <th>entropy_time_comment_phase3</th>\n",
       "      <th>comment_count_phase4</th>\n",
       "      <th>total_words_phase4</th>\n",
       "      <th>entropy_time_comment_phase4</th>\n",
       "    </tr>\n",
       "  </thead>\n",
       "  <tbody>\n",
       "    <tr>\n",
       "      <th>0</th>\n",
       "      <td>U_1000902</td>\n",
       "      <td>C_697821</td>\n",
       "      <td>1.0</td>\n",
       "      <td>2.0</td>\n",
       "      <td>0.000000</td>\n",
       "      <td>NaN</td>\n",
       "      <td>NaN</td>\n",
       "      <td>NaN</td>\n",
       "      <td>NaN</td>\n",
       "      <td>NaN</td>\n",
       "      <td>NaN</td>\n",
       "      <td>NaN</td>\n",
       "      <td>NaN</td>\n",
       "      <td>NaN</td>\n",
       "    </tr>\n",
       "    <tr>\n",
       "      <th>1</th>\n",
       "      <td>U_1001314</td>\n",
       "      <td>C_1779421</td>\n",
       "      <td>3.0</td>\n",
       "      <td>43.0</td>\n",
       "      <td>0.636514</td>\n",
       "      <td>NaN</td>\n",
       "      <td>NaN</td>\n",
       "      <td>NaN</td>\n",
       "      <td>NaN</td>\n",
       "      <td>NaN</td>\n",
       "      <td>NaN</td>\n",
       "      <td>2.0</td>\n",
       "      <td>192.0</td>\n",
       "      <td>0.0</td>\n",
       "    </tr>\n",
       "    <tr>\n",
       "      <th>2</th>\n",
       "      <td>U_10015</td>\n",
       "      <td>C_1729417</td>\n",
       "      <td>1.0</td>\n",
       "      <td>8.0</td>\n",
       "      <td>0.000000</td>\n",
       "      <td>NaN</td>\n",
       "      <td>NaN</td>\n",
       "      <td>NaN</td>\n",
       "      <td>NaN</td>\n",
       "      <td>NaN</td>\n",
       "      <td>NaN</td>\n",
       "      <td>NaN</td>\n",
       "      <td>NaN</td>\n",
       "      <td>NaN</td>\n",
       "    </tr>\n",
       "    <tr>\n",
       "      <th>3</th>\n",
       "      <td>U_1001600</td>\n",
       "      <td>C_694149</td>\n",
       "      <td>1.0</td>\n",
       "      <td>2.0</td>\n",
       "      <td>0.000000</td>\n",
       "      <td>NaN</td>\n",
       "      <td>NaN</td>\n",
       "      <td>NaN</td>\n",
       "      <td>NaN</td>\n",
       "      <td>NaN</td>\n",
       "      <td>NaN</td>\n",
       "      <td>NaN</td>\n",
       "      <td>NaN</td>\n",
       "      <td>NaN</td>\n",
       "    </tr>\n",
       "    <tr>\n",
       "      <th>4</th>\n",
       "      <td>U_1001625</td>\n",
       "      <td>C_735164</td>\n",
       "      <td>1.0</td>\n",
       "      <td>8.0</td>\n",
       "      <td>0.000000</td>\n",
       "      <td>NaN</td>\n",
       "      <td>NaN</td>\n",
       "      <td>NaN</td>\n",
       "      <td>NaN</td>\n",
       "      <td>NaN</td>\n",
       "      <td>NaN</td>\n",
       "      <td>NaN</td>\n",
       "      <td>NaN</td>\n",
       "      <td>NaN</td>\n",
       "    </tr>\n",
       "    <tr>\n",
       "      <th>5</th>\n",
       "      <td>U_1001703</td>\n",
       "      <td>C_735164</td>\n",
       "      <td>2.0</td>\n",
       "      <td>2.0</td>\n",
       "      <td>0.693147</td>\n",
       "      <td>2.0</td>\n",
       "      <td>39.0</td>\n",
       "      <td>0.0</td>\n",
       "      <td>NaN</td>\n",
       "      <td>NaN</td>\n",
       "      <td>NaN</td>\n",
       "      <td>NaN</td>\n",
       "      <td>NaN</td>\n",
       "      <td>NaN</td>\n",
       "    </tr>\n",
       "    <tr>\n",
       "      <th>6</th>\n",
       "      <td>U_1001806</td>\n",
       "      <td>C_1903976</td>\n",
       "      <td>1.0</td>\n",
       "      <td>5.0</td>\n",
       "      <td>0.000000</td>\n",
       "      <td>NaN</td>\n",
       "      <td>NaN</td>\n",
       "      <td>NaN</td>\n",
       "      <td>NaN</td>\n",
       "      <td>NaN</td>\n",
       "      <td>NaN</td>\n",
       "      <td>NaN</td>\n",
       "      <td>NaN</td>\n",
       "      <td>NaN</td>\n",
       "    </tr>\n",
       "    <tr>\n",
       "      <th>7</th>\n",
       "      <td>U_1001875</td>\n",
       "      <td>C_926175</td>\n",
       "      <td>14.0</td>\n",
       "      <td>1410.0</td>\n",
       "      <td>1.331664</td>\n",
       "      <td>NaN</td>\n",
       "      <td>NaN</td>\n",
       "      <td>NaN</td>\n",
       "      <td>NaN</td>\n",
       "      <td>NaN</td>\n",
       "      <td>NaN</td>\n",
       "      <td>NaN</td>\n",
       "      <td>NaN</td>\n",
       "      <td>NaN</td>\n",
       "    </tr>\n",
       "    <tr>\n",
       "      <th>8</th>\n",
       "      <td>U_1001883</td>\n",
       "      <td>C_682280</td>\n",
       "      <td>NaN</td>\n",
       "      <td>NaN</td>\n",
       "      <td>NaN</td>\n",
       "      <td>NaN</td>\n",
       "      <td>NaN</td>\n",
       "      <td>NaN</td>\n",
       "      <td>4.0</td>\n",
       "      <td>88.0</td>\n",
       "      <td>0.562335</td>\n",
       "      <td>NaN</td>\n",
       "      <td>NaN</td>\n",
       "      <td>NaN</td>\n",
       "    </tr>\n",
       "    <tr>\n",
       "      <th>9</th>\n",
       "      <td>U_1002046</td>\n",
       "      <td>C_735164</td>\n",
       "      <td>1.0</td>\n",
       "      <td>47.0</td>\n",
       "      <td>0.000000</td>\n",
       "      <td>NaN</td>\n",
       "      <td>NaN</td>\n",
       "      <td>NaN</td>\n",
       "      <td>NaN</td>\n",
       "      <td>NaN</td>\n",
       "      <td>NaN</td>\n",
       "      <td>3.0</td>\n",
       "      <td>56.0</td>\n",
       "      <td>0.0</td>\n",
       "    </tr>\n",
       "  </tbody>\n",
       "</table>\n",
       "</div>"
      ],
      "text/plain": [
       "     user_id  course_id  comment_count_phase1  total_words_phase1  \\\n",
       "0  U_1000902   C_697821                   1.0                 2.0   \n",
       "1  U_1001314  C_1779421                   3.0                43.0   \n",
       "2    U_10015  C_1729417                   1.0                 8.0   \n",
       "3  U_1001600   C_694149                   1.0                 2.0   \n",
       "4  U_1001625   C_735164                   1.0                 8.0   \n",
       "5  U_1001703   C_735164                   2.0                 2.0   \n",
       "6  U_1001806  C_1903976                   1.0                 5.0   \n",
       "7  U_1001875   C_926175                  14.0              1410.0   \n",
       "8  U_1001883   C_682280                   NaN                 NaN   \n",
       "9  U_1002046   C_735164                   1.0                47.0   \n",
       "\n",
       "   entropy_time_comment_phase1  comment_count_phase2  total_words_phase2  \\\n",
       "0                     0.000000                   NaN                 NaN   \n",
       "1                     0.636514                   NaN                 NaN   \n",
       "2                     0.000000                   NaN                 NaN   \n",
       "3                     0.000000                   NaN                 NaN   \n",
       "4                     0.000000                   NaN                 NaN   \n",
       "5                     0.693147                   2.0                39.0   \n",
       "6                     0.000000                   NaN                 NaN   \n",
       "7                     1.331664                   NaN                 NaN   \n",
       "8                          NaN                   NaN                 NaN   \n",
       "9                     0.000000                   NaN                 NaN   \n",
       "\n",
       "   entropy_time_comment_phase2  comment_count_phase3  total_words_phase3  \\\n",
       "0                          NaN                   NaN                 NaN   \n",
       "1                          NaN                   NaN                 NaN   \n",
       "2                          NaN                   NaN                 NaN   \n",
       "3                          NaN                   NaN                 NaN   \n",
       "4                          NaN                   NaN                 NaN   \n",
       "5                          0.0                   NaN                 NaN   \n",
       "6                          NaN                   NaN                 NaN   \n",
       "7                          NaN                   NaN                 NaN   \n",
       "8                          NaN                   4.0                88.0   \n",
       "9                          NaN                   NaN                 NaN   \n",
       "\n",
       "   entropy_time_comment_phase3  comment_count_phase4  total_words_phase4  \\\n",
       "0                          NaN                   NaN                 NaN   \n",
       "1                          NaN                   2.0               192.0   \n",
       "2                          NaN                   NaN                 NaN   \n",
       "3                          NaN                   NaN                 NaN   \n",
       "4                          NaN                   NaN                 NaN   \n",
       "5                          NaN                   NaN                 NaN   \n",
       "6                          NaN                   NaN                 NaN   \n",
       "7                          NaN                   NaN                 NaN   \n",
       "8                     0.562335                   NaN                 NaN   \n",
       "9                          NaN                   3.0                56.0   \n",
       "\n",
       "   entropy_time_comment_phase4  \n",
       "0                          NaN  \n",
       "1                          0.0  \n",
       "2                          NaN  \n",
       "3                          NaN  \n",
       "4                          NaN  \n",
       "5                          NaN  \n",
       "6                          NaN  \n",
       "7                          NaN  \n",
       "8                          NaN  \n",
       "9                          0.0  "
      ]
     },
     "execution_count": 55,
     "metadata": {},
     "output_type": "execute_result"
    }
   ],
   "source": [
    "all_phases_comment.head(10)"
   ]
  }
 ],
 "metadata": {
  "kaggle": {
   "accelerator": "none",
   "dataSources": [
    {
     "datasetId": 6915857,
     "sourceId": 11094245,
     "sourceType": "datasetVersion"
    }
   ],
   "dockerImageVersionId": 30918,
   "isGpuEnabled": false,
   "isInternetEnabled": true,
   "language": "python",
   "sourceType": "notebook"
  },
  "kernelspec": {
   "display_name": "Python 3",
   "language": "python",
   "name": "python3"
  },
  "language_info": {
   "codemirror_mode": {
    "name": "ipython",
    "version": 3
   },
   "file_extension": ".py",
   "mimetype": "text/x-python",
   "name": "python",
   "nbconvert_exporter": "python",
   "pygments_lexer": "ipython3",
   "version": "3.10.12"
  },
  "papermill": {
   "default_parameters": {},
   "duration": 442.322669,
   "end_time": "2025-04-24T12:17:09.960921",
   "environment_variables": {},
   "exception": null,
   "input_path": "__notebook__.ipynb",
   "output_path": "__notebook__.ipynb",
   "parameters": {},
   "start_time": "2025-04-24T12:09:47.638252",
   "version": "2.6.0"
  }
 },
 "nbformat": 4,
 "nbformat_minor": 5
}
